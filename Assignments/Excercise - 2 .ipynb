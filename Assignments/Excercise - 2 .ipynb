{
 "cells": [
  {
   "cell_type": "code",
   "execution_count": 121,
   "id": "7c248279",
   "metadata": {},
   "outputs": [],
   "source": [
    "%matplotlib inline\n",
    "import pandas as pd"
   ]
  },
  {
   "cell_type": "code",
   "execution_count": 122,
   "id": "ec305995",
   "metadata": {},
   "outputs": [
    {
     "data": {
      "text/html": [
       "<div>\n",
       "<style scoped>\n",
       "    .dataframe tbody tr th:only-of-type {\n",
       "        vertical-align: middle;\n",
       "    }\n",
       "\n",
       "    .dataframe tbody tr th {\n",
       "        vertical-align: top;\n",
       "    }\n",
       "\n",
       "    .dataframe thead th {\n",
       "        text-align: right;\n",
       "    }\n",
       "</style>\n",
       "<table border=\"1\" class=\"dataframe\">\n",
       "  <thead>\n",
       "    <tr style=\"text-align: right;\">\n",
       "      <th></th>\n",
       "      <th>title</th>\n",
       "      <th>year</th>\n",
       "    </tr>\n",
       "  </thead>\n",
       "  <tbody>\n",
       "    <tr>\n",
       "      <th>0</th>\n",
       "      <td>The Rising Son</td>\n",
       "      <td>1990</td>\n",
       "    </tr>\n",
       "    <tr>\n",
       "      <th>1</th>\n",
       "      <td>The Thousand Plane Raid</td>\n",
       "      <td>1969</td>\n",
       "    </tr>\n",
       "    <tr>\n",
       "      <th>2</th>\n",
       "      <td>Crucea de piatra</td>\n",
       "      <td>1993</td>\n",
       "    </tr>\n",
       "    <tr>\n",
       "      <th>3</th>\n",
       "      <td>Country</td>\n",
       "      <td>2000</td>\n",
       "    </tr>\n",
       "    <tr>\n",
       "      <th>4</th>\n",
       "      <td>Gaiking II</td>\n",
       "      <td>2011</td>\n",
       "    </tr>\n",
       "  </tbody>\n",
       "</table>\n",
       "</div>"
      ],
      "text/plain": [
       "                     title  year\n",
       "0           The Rising Son  1990\n",
       "1  The Thousand Plane Raid  1969\n",
       "2         Crucea de piatra  1993\n",
       "3                  Country  2000\n",
       "4               Gaiking II  2011"
      ]
     },
     "execution_count": 122,
     "metadata": {},
     "output_type": "execute_result"
    }
   ],
   "source": [
    "titles = pd.read_csv('C:/Data Science/Top_mentor_projects_Datasets-main/titles.csv')  ##### Will be available on Github  - https://github.com/DataScience75/Top_mentor_projects_Datasets/blob/main/titles.csv\n",
    "titles.head()"
   ]
  },
  {
   "cell_type": "code",
   "execution_count": 123,
   "id": "9f1ff513",
   "metadata": {},
   "outputs": [
    {
     "name": "stdout",
     "output_type": "stream",
     "text": [
      "                  title  year      name   type                character     n\n",
      "0        Closet Monster  2015  Buffy #1  actor                  Buffy 4   NaN\n",
      "1       Suuri illusioni  1985    Homo $  actor                   Guests  22.0\n",
      "2   Battle of the Sexes  2017   $hutter  actor          Bobby Riggs Fan  10.0\n",
      "3  Secret in Their Eyes  2015   $hutter  actor          2002 Dodger Fan   NaN\n",
      "4            Steve Jobs  2015   $hutter  actor  1988 Opera House Patron   NaN\n"
     ]
    }
   ],
   "source": [
    "cast = pd.read_csv(\"C:/Data Science/cast.csv\")\n",
    "print(cast.head())"
   ]
  },
  {
   "cell_type": "markdown",
   "id": "f0da19d5",
   "metadata": {},
   "source": [
    "# 1.What are the ten most common movie names of all time?"
   ]
  },
  {
   "cell_type": "code",
   "execution_count": 124,
   "id": "aae7dfff",
   "metadata": {},
   "outputs": [
    {
     "data": {
      "text/plain": [
       "Hamlet                  18\n",
       "Carmen                  16\n",
       "Macbeth                 15\n",
       "The Outsider            12\n",
       "Temptation              11\n",
       "The Three Musketeers    11\n",
       "Othello                 11\n",
       "Kismet                  11\n",
       "Maya                    11\n",
       "Freedom                 11\n",
       "Name: title, dtype: int64"
      ]
     },
     "execution_count": 124,
     "metadata": {},
     "output_type": "execute_result"
    }
   ],
   "source": [
    "Ten_most_common_movie_names = titles['title'].value_counts().head(10)\n",
    "Ten_most_common_movie_names"
   ]
  },
  {
   "cell_type": "markdown",
   "id": "64b111ba",
   "metadata": {},
   "source": [
    "# 2. Which three years of the 1930s saw the most films released?"
   ]
  },
  {
   "cell_type": "code",
   "execution_count": 125,
   "id": "6f003172",
   "metadata": {},
   "outputs": [
    {
     "data": {
      "text/plain": [
       "1937    1194\n",
       "1936    1139\n",
       "1938    1127\n",
       "Name: year, dtype: int64"
      ]
     },
     "execution_count": 125,
     "metadata": {},
     "output_type": "execute_result"
    }
   ],
   "source": [
    "title = titles[titles.year // 10 == 193]\n",
    "title.year.value_counts().head(3)"
   ]
  },
  {
   "cell_type": "markdown",
   "id": "a6d83764",
   "metadata": {},
   "source": [
    "# 3. Plot the number of films that have been released each decade over the history of cinema."
   ]
  },
  {
   "cell_type": "code",
   "execution_count": 126,
   "id": "5036a664",
   "metadata": {},
   "outputs": [
    {
     "data": {
      "text/plain": [
       "<Axes: >"
      ]
     },
     "execution_count": 126,
     "metadata": {},
     "output_type": "execute_result"
    },
    {
     "data": {
      "image/png": "[encoded data removed]",
      "text/plain": [
       "<Figure size 640x480 with 1 Axes>"
      ]
     },
     "metadata": {},
     "output_type": "display_data"
    }
   ],
   "source": [
    "(titles.year // 10 *10).value_counts().sort_index().plot(kind='bar')"
   ]
  },
  {
   "cell_type": "markdown",
   "id": "f23a08ee",
   "metadata": {},
   "source": [
    "# 4. Plot the number of \"Hamlet\" films made each decade."
   ]
  },
  {
   "cell_type": "code",
   "execution_count": 127,
   "id": "d41f46e7",
   "metadata": {},
   "outputs": [
    {
     "data": {
      "text/plain": [
       "<Axes: >"
      ]
     },
     "execution_count": 127,
     "metadata": {},
     "output_type": "execute_result"
    },
    {
     "data": {
      "image/png": "[encoded data removed]",
      "text/plain": [
       "<Figure size 640x480 with 1 Axes>"
      ]
     },
     "metadata": {},
     "output_type": "display_data"
    }
   ],
   "source": [
    "hamlet = titles[titles['title'] == 'Hamlet']\n",
    "(hamlet.year // 10 *10).value_counts().sort_index().plot(kind='bar')"
   ]
  },
  {
   "cell_type": "markdown",
   "id": "544ecf85",
   "metadata": {},
   "source": [
    "# 5. Plot the number of \"Rustler\" characters in each decade of the history of film."
   ]
  },
  {
   "cell_type": "code",
   "execution_count": 128,
   "id": "b34305f9",
   "metadata": {},
   "outputs": [
    {
     "data": {
      "text/plain": [
       "<Axes: >"
      ]
     },
     "execution_count": 128,
     "metadata": {},
     "output_type": "execute_result"
    },
    {
     "data": {
      "image/png": "[encoded data removed]",
      "text/plain": [
       "<Figure size 640x480 with 1 Axes>"
      ]
     },
     "metadata": {},
     "output_type": "display_data"
    }
   ],
   "source": [
    "Rustler = cast[cast['character'] == 'Rustler']\n",
    "(Rustler.year // 10 * 10).value_counts().sort_index().plot(kind='bar')"
   ]
  },
  {
   "cell_type": "markdown",
   "id": "4c1e5d7b",
   "metadata": {},
   "source": [
    "# 6. Plot the number of \"Hamlet\" characters each decade."
   ]
  },
  {
   "cell_type": "code",
   "execution_count": 129,
   "id": "10740cb8",
   "metadata": {},
   "outputs": [
    {
     "data": {
      "text/plain": [
       "<Axes: >"
      ]
     },
     "execution_count": 129,
     "metadata": {},
     "output_type": "execute_result"
    },
    {
     "data": {
      "image/png": "[encoded data removed]",
      "text/plain": [
       "<Figure size 640x480 with 1 Axes>"
      ]
     },
     "metadata": {},
     "output_type": "display_data"
    }
   ],
   "source": [
    "Hamlet_character = cast[cast['character'] == 'Hamlet']\n",
    "(Hamlet_character.year // 10 * 10).value_counts().sort_index().plot(kind='bar')"
   ]
  },
  {
   "cell_type": "markdown",
   "id": "cfb6ca9c",
   "metadata": {},
   "source": [
    "# 7. What are the 11 most common character names in movie history?"
   ]
  },
  {
   "cell_type": "code",
   "execution_count": 130,
   "id": "8a535014",
   "metadata": {},
   "outputs": [
    {
     "name": "stdout",
     "output_type": "stream",
     "text": [
      "Himself        19486\n",
      "Dancer         11995\n",
      "Extra          10887\n",
      "Reporter        8127\n",
      "Doctor          7402\n",
      "Student         7146\n",
      "Policeman       6855\n",
      "Party Guest     6718\n",
      "Nurse           6637\n",
      "Bartender       6583\n",
      "Minor Role      6219\n",
      "Name: character, dtype: int64\n"
     ]
    }
   ],
   "source": [
    "Eleven_most_common_charcter = cast['character'].value_counts().head(11)\n",
    "print(most_common_charcter)"
   ]
  },
  {
   "cell_type": "markdown",
   "id": "97dd4b50",
   "metadata": {},
   "source": [
    "# 8. Who are the 10 people most often credited as \"Herself\" in film history?"
   ]
  },
  {
   "cell_type": "code",
   "execution_count": 131,
   "id": "77e1a9c7",
   "metadata": {},
   "outputs": [
    {
     "name": "stdout",
     "output_type": "stream",
     "text": [
      "Queen Elizabeth II    11\n",
      "Joyce Brothers         9\n",
      "Margaret Thatcher      7\n",
      "Mary Jo Pehl           7\n",
      "Hillary Clinton        6\n",
      "Joan Rivers            6\n",
      "Rekha                  5\n",
      "Marilyn Monroe         5\n",
      "Bunny Yeager           5\n",
      "Caroline Rhea          5\n",
      "Name: name, dtype: int64\n"
     ]
    }
   ],
   "source": [
    "Ten_most_common_charcter_Herself = cast[cast['character'] == 'Herself'].name.value_counts().head(10)\n",
    "print(Ten_most_common_charcter_Herself)"
   ]
  },
  {
   "cell_type": "markdown",
   "id": "3fce4552",
   "metadata": {},
   "source": [
    "# 9. Who are the 10 people most often credited as \"Himself\" in film history?"
   ]
  },
  {
   "cell_type": "code",
   "execution_count": 132,
   "id": "e5d8c000",
   "metadata": {},
   "outputs": [
    {
     "name": "stdout",
     "output_type": "stream",
     "text": [
      "Adolf Hitler             99\n",
      "Richard Nixon            45\n",
      "Ronald Reagan            39\n",
      "John F. Kennedy          33\n",
      "Winston Churchill        23\n",
      "Ron Jeremy               23\n",
      "George W. Bush           23\n",
      "Benito Mussolini         22\n",
      "Franklin D. Roosevelt    20\n",
      "Bill Clinton             20\n",
      "Name: name, dtype: int64\n"
     ]
    }
   ],
   "source": [
    "Ten_most_common_charcter_Himself = cast[cast['character'] == 'Himself'].name.value_counts().head(10)\n",
    "print(Ten_most_common_charcter_Himself)"
   ]
  },
  {
   "cell_type": "markdown",
   "id": "8ea58a4f",
   "metadata": {},
   "source": [
    "# 10. Which actors or actresses appeared in the most movies in the year 1945?"
   ]
  },
  {
   "cell_type": "code",
   "execution_count": 133,
   "id": "d2825aff",
   "metadata": {},
   "outputs": [
    {
     "name": "stdout",
     "output_type": "stream",
     "text": [
      "Emmett Vogan       39\n",
      "Sam (II) Harris    32\n",
      "Bess Flowers       29\n",
      "Harold Miller      29\n",
      "Nolan Leary        27\n",
      "Frank O'Connor     27\n",
      "Franklyn Farnum    26\n",
      "Larry Steers       25\n",
      "Herman Hack        24\n",
      "Edmund Cobb        24\n",
      "Name: name, dtype: int64\n"
     ]
    }
   ],
   "source": [
    "The_actors_actresses_appeared_1945 = cast[cast.year == 1945].name.value_counts().head(10)\n",
    "print(The_actors_actresses_appeared_1945)"
   ]
  },
  {
   "cell_type": "markdown",
   "id": "5100f1ed",
   "metadata": {},
   "source": [
    "# 11. Which actors or actresses appeared in the most movies in the year 1985?"
   ]
  },
  {
   "cell_type": "code",
   "execution_count": 134,
   "id": "c49b1dc7",
   "metadata": {},
   "outputs": [
    {
     "name": "stdout",
     "output_type": "stream",
     "text": [
      "Shakti Kapoor    21\n",
      "Mammootty        21\n",
      "Sukumari         19\n",
      "Raj Babbar       15\n",
      "Mohanlal         15\n",
      "Aruna Irani      15\n",
      "Lou Scheimer     15\n",
      "Deven Verma      13\n",
      "Asrani           13\n",
      "Rajesh Khanna    13\n",
      "Name: name, dtype: int64\n"
     ]
    }
   ],
   "source": [
    "The_actors_actresses_appeared_1985 = cast[cast.year == 1985].name.value_counts().head(10)\n",
    "print(The_actors_actresses_appeared_1985)"
   ]
  },
  {
   "cell_type": "markdown",
   "id": "e12d2b4b",
   "metadata": {},
   "source": [
    "# 12. Plot how many roles Mammootty has played in each year of his career."
   ]
  },
  {
   "cell_type": "code",
   "execution_count": 138,
   "id": "6952ad84",
   "metadata": {},
   "outputs": [
    {
     "data": {
      "text/plain": [
       "<Axes: >"
      ]
     },
     "execution_count": 138,
     "metadata": {},
     "output_type": "execute_result"
    },
    {
     "data": {
      "image/png": "[encoded data removed]",
      "text/plain": [
       "<Figure size 640x480 with 1 Axes>"
      ]
     },
     "metadata": {},
     "output_type": "display_data"
    }
   ],
   "source": [
    "cast[cast['name'] == 'Mammootty'].year.value_counts().sort_index().plot()"
   ]
  },
  {
   "cell_type": "code",
   "execution_count": 136,
   "id": "c5f5f888",
   "metadata": {},
   "outputs": [
    {
     "data": {
      "text/html": [
       "<div>\n",
       "<style scoped>\n",
       "    .dataframe tbody tr th:only-of-type {\n",
       "        vertical-align: middle;\n",
       "    }\n",
       "\n",
       "    .dataframe tbody tr th {\n",
       "        vertical-align: top;\n",
       "    }\n",
       "\n",
       "    .dataframe thead th {\n",
       "        text-align: right;\n",
       "    }\n",
       "</style>\n",
       "<table border=\"1\" class=\"dataframe\">\n",
       "  <thead>\n",
       "    <tr style=\"text-align: right;\">\n",
       "      <th></th>\n",
       "      <th>title</th>\n",
       "      <th>year</th>\n",
       "      <th>name</th>\n",
       "      <th>type</th>\n",
       "      <th>character</th>\n",
       "      <th>n</th>\n",
       "    </tr>\n",
       "  </thead>\n",
       "  <tbody>\n",
       "    <tr>\n",
       "      <th>1367407</th>\n",
       "      <td>1993 Bombay March 12</td>\n",
       "      <td>2011</td>\n",
       "      <td>Mammootty</td>\n",
       "      <td>actor</td>\n",
       "      <td>Sathananda Bhatt</td>\n",
       "      <td>1.0</td>\n",
       "    </tr>\n",
       "    <tr>\n",
       "      <th>1367408</th>\n",
       "      <td>1993 Bombay March 12</td>\n",
       "      <td>2011</td>\n",
       "      <td>Mammootty</td>\n",
       "      <td>actor</td>\n",
       "      <td>Samir</td>\n",
       "      <td>1.0</td>\n",
       "    </tr>\n",
       "    <tr>\n",
       "      <th>1367409</th>\n",
       "      <td>Aa Neram Alppa Dooram</td>\n",
       "      <td>1985</td>\n",
       "      <td>Mammootty</td>\n",
       "      <td>actor</td>\n",
       "      <td>Jameskutty</td>\n",
       "      <td>1.0</td>\n",
       "    </tr>\n",
       "    <tr>\n",
       "      <th>1367410</th>\n",
       "      <td>Aa Rathri</td>\n",
       "      <td>1983</td>\n",
       "      <td>Mammootty</td>\n",
       "      <td>actor</td>\n",
       "      <td>Ravi</td>\n",
       "      <td>1.0</td>\n",
       "    </tr>\n",
       "    <tr>\n",
       "      <th>1367411</th>\n",
       "      <td>Aalkkoottathil Thaniye</td>\n",
       "      <td>1984</td>\n",
       "      <td>Mammootty</td>\n",
       "      <td>actor</td>\n",
       "      <td>Rajan</td>\n",
       "      <td>1.0</td>\n",
       "    </tr>\n",
       "    <tr>\n",
       "      <th>...</th>\n",
       "      <td>...</td>\n",
       "      <td>...</td>\n",
       "      <td>...</td>\n",
       "      <td>...</td>\n",
       "      <td>...</td>\n",
       "      <td>...</td>\n",
       "    </tr>\n",
       "    <tr>\n",
       "      <th>1367675</th>\n",
       "      <td>Vivekananda</td>\n",
       "      <td>1994</td>\n",
       "      <td>Mammootty</td>\n",
       "      <td>actor</td>\n",
       "      <td>Maharajah</td>\n",
       "      <td>NaN</td>\n",
       "    </tr>\n",
       "    <tr>\n",
       "      <th>1367676</th>\n",
       "      <td>White</td>\n",
       "      <td>2016</td>\n",
       "      <td>Mammootty</td>\n",
       "      <td>actor</td>\n",
       "      <td>Prakash Roy</td>\n",
       "      <td>1.0</td>\n",
       "    </tr>\n",
       "    <tr>\n",
       "      <th>1367677</th>\n",
       "      <td>Yaathra</td>\n",
       "      <td>1985</td>\n",
       "      <td>Mammootty</td>\n",
       "      <td>actor</td>\n",
       "      <td>Unnikrishnan</td>\n",
       "      <td>1.0</td>\n",
       "    </tr>\n",
       "    <tr>\n",
       "      <th>1367678</th>\n",
       "      <td>Yavanika</td>\n",
       "      <td>1982</td>\n",
       "      <td>Mammootty</td>\n",
       "      <td>actor</td>\n",
       "      <td>Jacob Eeraly (Sub Inspector of Police)</td>\n",
       "      <td>7.0</td>\n",
       "    </tr>\n",
       "    <tr>\n",
       "      <th>1367679</th>\n",
       "      <td>Yugapurushan</td>\n",
       "      <td>2010</td>\n",
       "      <td>Mammootty</td>\n",
       "      <td>actor</td>\n",
       "      <td>K.C. Kuttan</td>\n",
       "      <td>NaN</td>\n",
       "    </tr>\n",
       "  </tbody>\n",
       "</table>\n",
       "<p>273 rows × 6 columns</p>\n",
       "</div>"
      ],
      "text/plain": [
       "                          title  year       name   type  \\\n",
       "1367407    1993 Bombay March 12  2011  Mammootty  actor   \n",
       "1367408    1993 Bombay March 12  2011  Mammootty  actor   \n",
       "1367409   Aa Neram Alppa Dooram  1985  Mammootty  actor   \n",
       "1367410               Aa Rathri  1983  Mammootty  actor   \n",
       "1367411  Aalkkoottathil Thaniye  1984  Mammootty  actor   \n",
       "...                         ...   ...        ...    ...   \n",
       "1367675             Vivekananda  1994  Mammootty  actor   \n",
       "1367676                   White  2016  Mammootty  actor   \n",
       "1367677                 Yaathra  1985  Mammootty  actor   \n",
       "1367678                Yavanika  1982  Mammootty  actor   \n",
       "1367679            Yugapurushan  2010  Mammootty  actor   \n",
       "\n",
       "                                      character    n  \n",
       "1367407                        Sathananda Bhatt  1.0  \n",
       "1367408                                   Samir  1.0  \n",
       "1367409                              Jameskutty  1.0  \n",
       "1367410                                    Ravi  1.0  \n",
       "1367411                                   Rajan  1.0  \n",
       "...                                         ...  ...  \n",
       "1367675                               Maharajah  NaN  \n",
       "1367676                             Prakash Roy  1.0  \n",
       "1367677                            Unnikrishnan  1.0  \n",
       "1367678  Jacob Eeraly (Sub Inspector of Police)  7.0  \n",
       "1367679                             K.C. Kuttan  NaN  \n",
       "\n",
       "[273 rows x 6 columns]"
      ]
     },
     "execution_count": 136,
     "metadata": {},
     "output_type": "execute_result"
    }
   ],
   "source": []
  },
  {
   "cell_type": "markdown",
   "id": "067994db",
   "metadata": {},
   "source": [
    "# 13.What are the 10 most frequent roles that start with the phrase \"Patron in\"?"
   ]
  },
  {
   "cell_type": "code",
   "execution_count": 144,
   "id": "eefcfbaa",
   "metadata": {},
   "outputs": [
    {
     "name": "stdout",
     "output_type": "stream",
     "text": [
      "Patron in Frisky Rabbit         16\n",
      "Patron in Chinese Restaurant     9\n",
      "Patron in the Coffee House       9\n",
      "Patron in Billiard Parlor        5\n",
      "Patron in Bar                    4\n",
      "Patron in restaurant             4\n",
      "Patron in cabaret                3\n",
      "Patron in Restaurant             3\n",
      "Patron in Club                   3\n",
      "Patron in Quiet Bar              2\n",
      "Name: character, dtype: int64\n"
     ]
    }
   ],
   "source": [
    "Top_10_most_frequent_roles_starts_patron_in = cast[cast.character.str.startswith('Patron in ')].character.value_counts().head(10)\n",
    "print(Top_10_most_frequent_roles_starts_patron_in)"
   ]
  },
  {
   "cell_type": "markdown",
   "id": "20f9f0c9",
   "metadata": {},
   "source": [
    "# 14.What are the 10 most frequent roles that start with the word \"Science\"?"
   ]
  },
  {
   "cell_type": "code",
   "execution_count": 146,
   "id": "b37ea5d8",
   "metadata": {},
   "outputs": [
    {
     "data": {
      "text/plain": [
       "Science Teacher         60\n",
       "Science Student          9\n",
       "Science Fair Student     9\n",
       "Science Fair Judge       6\n",
       "Science Kid              6\n",
       "Science Club Member      5\n",
       "Science Promo Cadet      5\n",
       "Science Reporter         5\n",
       "Science Officer          3\n",
       "Science Fair Teacher     3\n",
       "Name: character, dtype: int64"
      ]
     },
     "execution_count": 146,
     "metadata": {},
     "output_type": "execute_result"
    }
   ],
   "source": [
    "Top_10_most_frequent_roles_starts_science = cast[cast.character.str.startswith('Science ')].character.value_counts().head(10)\n",
    "Top_10_most_frequent_roles_starts_science"
   ]
  },
  {
   "cell_type": "markdown",
   "id": "df8d23ef",
   "metadata": {},
   "source": [
    "# 15. Plot the n-values of the roles that Judi Dench has played over her career."
   ]
  },
  {
   "cell_type": "code",
   "execution_count": 154,
   "id": "a041946e",
   "metadata": {},
   "outputs": [
    {
     "data": {
      "text/plain": [
       "<Axes: xlabel='year', ylabel='n'>"
      ]
     },
     "execution_count": 154,
     "metadata": {},
     "output_type": "execute_result"
    },
    {
     "data": {
      "image/png": "[encoded data removed]",
      "text/plain": [
       "<Figure size 640x480 with 1 Axes>"
      ]
     },
     "metadata": {},
     "output_type": "display_data"
    }
   ],
   "source": [
    "c = cast[cast['name'] == 'Judi Dench']\n",
    "c.plot(x='year',y='n',kind='scatter')"
   ]
  },
  {
   "cell_type": "markdown",
   "id": "3499d0fc",
   "metadata": {},
   "source": [
    "# 16. Plot the n-values of Cary Grant's roles through his career."
   ]
  },
  {
   "cell_type": "code",
   "execution_count": 160,
   "id": "1bd6bb0a",
   "metadata": {},
   "outputs": [
    {
     "data": {
      "text/plain": [
       "<Axes: xlabel='year', ylabel='n'>"
      ]
     },
     "execution_count": 160,
     "metadata": {},
     "output_type": "execute_result"
    },
    {
     "data": {
      "image/png": "[encoded data removed]",
      "text/plain": [
       "<Figure size 640x480 with 1 Axes>"
      ]
     },
     "metadata": {},
     "output_type": "display_data"
    }
   ],
   "source": [
    "c = cast[cast['name'] == 'Cary Grant']\n",
    "c.plot(x='year',y='n',kind='scatter')"
   ]
  },
  {
   "cell_type": "markdown",
   "id": "80c257b7",
   "metadata": {},
   "source": [
    "# 17. Plot the n-value of the roles that Sidney Poitier has acted over the years."
   ]
  },
  {
   "cell_type": "code",
   "execution_count": 164,
   "id": "45132879",
   "metadata": {},
   "outputs": [
    {
     "data": {
      "text/plain": [
       "<Axes: xlabel='n', ylabel='year'>"
      ]
     },
     "execution_count": 164,
     "metadata": {},
     "output_type": "execute_result"
    },
    {
     "data": {
      "image/png": "[encoded data removed]",
      "text/plain": [
       "<Figure size 640x480 with 1 Axes>"
      ]
     },
     "metadata": {},
     "output_type": "display_data"
    }
   ],
   "source": [
    "sidney_politer = cast[cast['name'] == 'Sidney Poitier']\n",
    "sidney_politer.plot(x='n',y='year',kind='scatter')\n"
   ]
  },
  {
   "cell_type": "markdown",
   "id": "77c6e8d8",
   "metadata": {},
   "source": [
    "# 18.How many leading (n=1) roles were available to actors,and how many to actresses, in the 1950s?"
   ]
  },
  {
   "cell_type": "code",
   "execution_count": 175,
   "id": "7d41be6b",
   "metadata": {},
   "outputs": [
    {
     "data": {
      "text/plain": [
       "actor      6599\n",
       "actress    2953\n",
       "Name: type, dtype: int64"
      ]
     },
     "execution_count": 175,
     "metadata": {},
     "output_type": "execute_result"
    }
   ],
   "source": [
    "roles_for_actors_actress_1950s = cast[(cast['n'] == 1) & (cast['year'] >= 1950) & (cast['year'] <= 1959)]\n",
    "roles_for_actors_actress_1950s.type.value_counts()"
   ]
  },
  {
   "cell_type": "markdown",
   "id": "5db613a8",
   "metadata": {},
   "source": [
    "# 19.How many supporting (n=2) roles were available to actors,and how many to actresses, in the 1950s?"
   ]
  },
  {
   "cell_type": "code",
   "execution_count": 176,
   "id": "96039d76",
   "metadata": {},
   "outputs": [
    {
     "data": {
      "text/plain": [
       "actor      4550\n",
       "actress    4544\n",
       "Name: type, dtype: int64"
      ]
     },
     "execution_count": 176,
     "metadata": {},
     "output_type": "execute_result"
    }
   ],
   "source": [
    "roles_for_actors_actress_1950s_2 = cast[(cast['n'] == 2) & (cast['year'] >= 1950) & (cast['year'] <= 1959)]\n",
    "roles_for_actors_actress_1950s_2.type.value_counts()"
   ]
  },
  {
   "cell_type": "code",
   "execution_count": null,
   "id": "c06b068c",
   "metadata": {},
   "outputs": [],
   "source": []
  }
 ],
 "metadata": {
  "kernelspec": {
   "display_name": "Python 3 (ipykernel)",
   "language": "python",
   "name": "python3"
  },
  "language_info": {
   "codemirror_mode": {
    "name": "ipython",
    "version": 3
   },
   "file_extension": ".py",
   "mimetype": "text/x-python",
   "name": "python",
   "nbconvert_exporter": "python",
   "pygments_lexer": "ipython3",
   "version": "3.11.4"
  }
 },
 "nbformat": 4,
 "nbformat_minor": 5
}
