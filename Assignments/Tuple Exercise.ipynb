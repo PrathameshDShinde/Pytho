{
 "cells": [
  {
   "cell_type": "markdown",
   "id": "15e47e1a",
   "metadata": {},
   "source": [
    "# Tuple Exercise"
   ]
  },
  {
   "cell_type": "markdown",
   "id": "4061e845",
   "metadata": {},
   "source": [
    "### 1. Write a Python program to create a tuple"
   ]
  },
  {
   "cell_type": "code",
   "execution_count": 1,
   "id": "264c979b",
   "metadata": {},
   "outputs": [
    {
     "name": "stdout",
     "output_type": "stream",
     "text": [
      "()\n",
      "<class 'tuple'>\n"
     ]
    }
   ],
   "source": [
    "t = ()\n",
    "print(t)\n",
    "print(type(t))"
   ]
  },
  {
   "cell_type": "markdown",
   "id": "81831d95",
   "metadata": {},
   "source": [
    "### 2. Write a Python program to create a tuple with different data types"
   ]
  },
  {
   "cell_type": "code",
   "execution_count": 2,
   "id": "1a0666b7",
   "metadata": {},
   "outputs": [
    {
     "name": "stdout",
     "output_type": "stream",
     "text": [
      "Tuple with different Data Types : ('Tutor Joes', 'True', 'T', 3.21, 10)\n"
     ]
    }
   ],
   "source": [
    "tuple_with_different_data_types = ('Tutor Joes','True','T',3.21,10)\n",
    "print(\"Tuple with different Data Types :\",tuple_with_different_data_types)"
   ]
  },
  {
   "cell_type": "markdown",
   "id": "a7d99946",
   "metadata": {},
   "source": [
    "### 3. Write a Python program to create a tuple with numbers and print one item"
   ]
  },
  {
   "cell_type": "code",
   "execution_count": 3,
   "id": "0636478e",
   "metadata": {},
   "outputs": [
    {
     "name": "stdout",
     "output_type": "stream",
     "text": [
      "(10,)\n",
      "<class 'tuple'>\n"
     ]
    }
   ],
   "source": [
    "x = (10,) #### Single variable can't print in tuple\n",
    "print(x)\n",
    "print(type(x))"
   ]
  },
  {
   "cell_type": "markdown",
   "id": "7bafe7eb",
   "metadata": {},
   "source": [
    "### 4. Write a Python program to unpack a tuple in several variables"
   ]
  },
  {
   "cell_type": "code",
   "execution_count": 4,
   "id": "9ec706df",
   "metadata": {},
   "outputs": [
    {
     "name": "stdout",
     "output_type": "stream",
     "text": [
      "(4, 8, 3)\n"
     ]
    }
   ],
   "source": [
    "a = 4,8,3\n",
    "print(tuple(a))"
   ]
  },
  {
   "cell_type": "markdown",
   "id": "a650b14e",
   "metadata": {},
   "source": [
    "### 5. Write a Python program to add an item in a tuple"
   ]
  },
  {
   "cell_type": "code",
   "execution_count": 5,
   "id": "9a9b63b7",
   "metadata": {},
   "outputs": [
    {
     "name": "stdout",
     "output_type": "stream",
     "text": [
      "Original_Tuple: (10, 40, 50, 70, 90, 20)\n",
      "New Tuple: (10, 40, 50, 70, 90, 20)\n"
     ]
    }
   ],
   "source": [
    "Original_Tuple = (10,40,50,70,90)\n",
    "\n",
    "add_item = 20\n",
    "\n",
    "new_tuple = Original_Tuple + (add_item,)\n",
    "\n",
    "print(\"Original_Tuple:\",new_tuple)\n",
    "print(\"New Tuple:\",new_tuple)"
   ]
  },
  {
   "cell_type": "markdown",
   "id": "abf4b1b8",
   "metadata": {},
   "source": [
    "### 6. Write a Python program to convert a tuple to a string\n"
   ]
  },
  {
   "cell_type": "code",
   "execution_count": 6,
   "id": "870d48e6",
   "metadata": {},
   "outputs": [
    {
     "name": "stdout",
     "output_type": "stream",
     "text": [
      "tuple_converted_into_string: Tutor Joes\n"
     ]
    }
   ],
   "source": [
    "original_tuple = ('T','u','t','o','r',' ','J','o','e','s')\n",
    "\n",
    "modified_tuple = ''.join(original_tuple)\n",
    "\n",
    "print(\"tuple_converted_into_string:\",modified_tuple)\n"
   ]
  },
  {
   "cell_type": "markdown",
   "id": "047623c7",
   "metadata": {},
   "source": [
    "### 7. Write a Python program to get the 4th element and 4th element from last of a tuple"
   ]
  },
  {
   "cell_type": "code",
   "execution_count": 7,
   "id": "d0a87e51",
   "metadata": {},
   "outputs": [
    {
     "name": "stdout",
     "output_type": "stream",
     "text": [
      "4th_element_from_start: e\n",
      "4th_element_from_start: u\n"
     ]
    }
   ],
   "source": [
    "original_tuple = ('w',3,'r','e','s','o','u','r','c','e')\n",
    "\n",
    "element_from_start = original_tuple[3]\n",
    "\n",
    "element_from_end = original_tuple[-4]\n",
    "\n",
    "print(\"4th_element_from_start:\",element_from_start)\n",
    "print(\"4th_element_from_start:\",element_from_end)"
   ]
  },
  {
   "cell_type": "markdown",
   "id": "ece44aa0",
   "metadata": {},
   "source": [
    "### 8. Write a Python program to create the colon of a tuple"
   ]
  },
  {
   "cell_type": "code",
   "execution_count": 8,
   "id": "b35ed475",
   "metadata": {},
   "outputs": [
    {
     "name": "stdout",
     "output_type": "stream",
     "text": [
      "original_tuple:  ('Tutor', 'J', 23, 56.67, [23, 12], True)\n",
      "copy_of_original_tuple:  ('Tutor', 'J', 23, 56.67, [23, 12], True)\n"
     ]
    }
   ],
   "source": [
    "original_tuple = (\"Tutor\",'J',23,56.67,[23,12],True)\n",
    "\n",
    "copy_of_original_tuple = tuple(original_tuple)  # Create a copy of 'a' using the 'tuple' construcor\n",
    "\n",
    "print(\"original_tuple: \",original_tuple)\n",
    "print(\"copy_of_original_tuple: \",copy_of_original_tuple)\n"
   ]
  },
  {
   "cell_type": "code",
   "execution_count": 9,
   "id": "9164b6a9",
   "metadata": {},
   "outputs": [
    {
     "name": "stdout",
     "output_type": "stream",
     "text": [
      "('Tutor', 'J', 23, 56.67, [23, 12], True)\n"
     ]
    }
   ],
   "source": [
    "a = (\"Tutor\",'J',23,56.67,[23,12],True)\n",
    "b = a[:]   # Create a copy of 'a' using slicing\n",
    "print(b)"
   ]
  },
  {
   "cell_type": "markdown",
   "id": "cca7d9b6",
   "metadata": {},
   "source": [
    "### 9. Write a Python program to find the repeated items of a tuple\n"
   ]
  },
  {
   "cell_type": "code",
   "execution_count": 10,
   "id": "4cc1a9f2",
   "metadata": {},
   "outputs": [
    {
     "name": "stdout",
     "output_type": "stream",
     "text": [
      "The repeated items of tuple : 3\n"
     ]
    }
   ],
   "source": [
    "#9.\n",
    "original_tuple = (2,34,45,6,7,2,4,5,78,34,2)\n",
    "\n",
    "repeated_items_of_tuple = original_tuple.count(2)\n",
    "\n",
    "print(\"The repeated items of tuple :\",repeated_items_of_tuple)"
   ]
  },
  {
   "cell_type": "markdown",
   "id": "610b819a",
   "metadata": {},
   "source": [
    "### 10. Write a Python program to check whether an element exists within a tuple\n"
   ]
  },
  {
   "cell_type": "code",
   "execution_count": 11,
   "id": "6dde8096",
   "metadata": {},
   "outputs": [
    {
     "name": "stdout",
     "output_type": "stream",
     "text": [
      "8 in Tuple - True\n",
      "x in Tuple - False\n"
     ]
    }
   ],
   "source": [
    "original_tuple = ('T','u','t','o','r',' ','J','o','e','s',8)\n",
    "\n",
    "if 8 in original_tuple:\n",
    "    print(\"8 in Tuple -\",True)\n",
    "else:\n",
    "    print(\"8 in Tuple -\",False)\n",
    "    \n",
    "if x in original_tuple:\n",
    "    print(\"x in Tuple -\",True)\n",
    "else:\n",
    "    print(\"x in Tuple -\",False)\n"
   ]
  },
  {
   "cell_type": "markdown",
   "id": "0f9b91bb",
   "metadata": {},
   "source": [
    "### 11. Write a Python program to convert a list to a tuple"
   ]
  },
  {
   "cell_type": "code",
   "execution_count": 12,
   "id": "072116f7",
   "metadata": {},
   "outputs": [
    {
     "name": "stdout",
     "output_type": "stream",
     "text": [
      "list converted into a tuple: <class 'tuple'>\n"
     ]
    }
   ],
   "source": [
    "\n",
    "list = [12,45,87,54,89,4]\n",
    "\n",
    "print(\"list converted into a tuple:\",tuple)\n"
   ]
  },
  {
   "cell_type": "markdown",
   "id": "2a70b491",
   "metadata": {},
   "source": [
    "### 12. Write a Python program to remove an item from a tuple"
   ]
  },
  {
   "cell_type": "code",
   "execution_count": 13,
   "id": "42447d8f",
   "metadata": {},
   "outputs": [
    {
     "name": "stdout",
     "output_type": "stream",
     "text": [
      "After removing of an item from the tuple: (23, 45, 68, 10, 45, 7, 9)\n"
     ]
    }
   ],
   "source": [
    "original_tuple = (23,45,56,68,10,45,7,9) #remove() not works in tuple\n",
    "\n",
    "modified_tuple = (23,45,68,10,45,7,9)\n",
    "\n",
    "print(\"After removing of an item from the tuple:\",modified_tuple)"
   ]
  },
  {
   "cell_type": "markdown",
   "id": "043aeca2",
   "metadata": {},
   "source": [
    "### 13. Write a Python program to slice a tuple"
   ]
  },
  {
   "cell_type": "code",
   "execution_count": 14,
   "id": "2b3fcbee",
   "metadata": {},
   "outputs": [
    {
     "name": "stdout",
     "output_type": "stream",
     "text": [
      "after a Slicing of tuple: (40, 50, 60, 70, 80)\n"
     ]
    }
   ],
   "source": [
    "original_tuple = (10,20,30,40,50,60,70,80,90,100)\n",
    "\n",
    "slice_a_tuple = original_tuple[3:8]\n",
    "\n",
    "print(\"after a Slicing of tuple:\",slice_a_tuple)"
   ]
  },
  {
   "cell_type": "markdown",
   "id": "807bc89d",
   "metadata": {},
   "source": [
    "### 14. Write a Python program to find the index of an item of a tuple"
   ]
  },
  {
   "cell_type": "code",
   "execution_count": 15,
   "id": "c2343c20",
   "metadata": {},
   "outputs": [
    {
     "name": "stdout",
     "output_type": "stream",
     "text": [
      "The index of an item of a tuple: 3\n"
     ]
    }
   ],
   "source": [
    "original_tuple = (23,45,67,78,89,90,34,56)\n",
    "\n",
    "index_of_an_item = original_tuple.index(78)\n",
    "\n",
    "print(\"The index of an item of a tuple:\",index_of_an_item)"
   ]
  },
  {
   "cell_type": "markdown",
   "id": "a7dce16f",
   "metadata": {},
   "source": [
    "### 15. Write a Python program to find the length of a tuple"
   ]
  },
  {
   "cell_type": "code",
   "execution_count": 16,
   "id": "e5febe04",
   "metadata": {},
   "outputs": [
    {
     "name": "stdout",
     "output_type": "stream",
     "text": [
      "The length of a tuple: 6\n"
     ]
    }
   ],
   "source": [
    "tuple = (\"Lion\",\"Cat\",\"Dog\",\"Panda\",\"Tiger\",\"Fox\")\n",
    "\n",
    "length = len(tuple)\n",
    "\n",
    "print(\"The length of a tuple:\",length)"
   ]
  },
  {
   "cell_type": "markdown",
   "id": "2638e383",
   "metadata": {},
   "source": [
    "### 16. Write a Python program to convert a tuple to a dictionary\n"
   ]
  },
  {
   "cell_type": "code",
   "execution_count": 17,
   "id": "80e0ba57",
   "metadata": {},
   "outputs": [
    {
     "name": "stdout",
     "output_type": "stream",
     "text": [
      "The conversion of tuple into dictionary: {'Name': 'Ram', 'Age': 23, 'City': 'Salem', 'Mark': 422}\n"
     ]
    }
   ],
   "source": [
    "tuple = ((\"Name\",\"Ram\"),(\"Age\",23),(\"City\",\"Salem\"),(\"Mark\",422))\n",
    "\n",
    "dictionary = dict(tuple)\n",
    "\n",
    "print(\"The conversion of tuple into dictionary:\",dictionary)"
   ]
  },
  {
   "cell_type": "markdown",
   "id": "fb08a4d8",
   "metadata": {},
   "source": [
    "### 17. Write a Python program to unzip a list of tuples into individual lists\n"
   ]
  },
  {
   "cell_type": "code",
   "execution_count": 18,
   "id": "c444d946",
   "metadata": {},
   "outputs": [
    {
     "name": "stdout",
     "output_type": "stream",
     "text": [
      "The conversion of tuple into individual lists: <zip object at 0x000001B35167A100>\n"
     ]
    }
   ],
   "source": [
    "tuple = [(10,20),(60,90),(20,50)]\n",
    "\n",
    "individual_list = zip(*tuple)\n",
    "\n",
    "print(\"The conversion of tuple into individual lists:\",individual_list)"
   ]
  },
  {
   "cell_type": "markdown",
   "id": "91b02257",
   "metadata": {},
   "source": [
    "### 18. Write a Python program to reverse a tuple\n"
   ]
  },
  {
   "cell_type": "code",
   "execution_count": 19,
   "id": "19ad1b33",
   "metadata": {},
   "outputs": [
    {
     "name": "stdout",
     "output_type": "stream",
     "text": [
      "Reverse tuple: (True, [23, 12], 56.67, 23, 'J', 'Tutor')\n"
     ]
    }
   ],
   "source": [
    "tuple = (23,45,67,78,89,90,34,56)\n",
    "reverse = a[::-1]\n",
    "print(\"Reverse tuple:\",reverse)"
   ]
  },
  {
   "cell_type": "markdown",
   "id": "3133a649",
   "metadata": {},
   "source": [
    "### 19. Write a Python program to convert a list of tuples into a dictionary\n"
   ]
  },
  {
   "cell_type": "code",
   "execution_count": 20,
   "id": "4edd2151",
   "metadata": {},
   "outputs": [
    {
     "name": "stdout",
     "output_type": "stream",
     "text": [
      "Conversion of list of tuples into a dictionary: {'Name': 'Pooja', 'Age': 23, 'Gender': 'Female'}\n"
     ]
    }
   ],
   "source": [
    "list_of_tuples = [(\"Name\",\"Ram\"),(\"Name\",\"Pooja\"),(\"Age\",21),(\"Gender\",\"Male\"),(\"Age\",23),(\"Gender\",\"Female\")]\n",
    "print(\"Conversion of list of tuples into a dictionary:\",dict(list_of_tuples))"
   ]
  },
  {
   "cell_type": "code",
   "execution_count": 21,
   "id": "800d397c",
   "metadata": {},
   "outputs": [
    {
     "name": "stdout",
     "output_type": "stream",
     "text": [
      "{'Name': ['Ram', 'Pooja'], 'Age': [21, 23], 'Gender': ['Male', 'Female']}\n"
     ]
    }
   ],
   "source": [
    "data = [(\"Name\", \"Ram\"), (\"Name\", \"Pooja\"), (\"Age\", 21), (\"Gender\", \"Male\"), (\"Age\", 23), (\"Gender\", \"Female\")]\n",
    "\n",
    "result_dict = {}\n",
    "\n",
    "for key, value in data:\n",
    "    if key in result_dict:\n",
    "        result_dict[key].append(value)\n",
    "    else:\n",
    "        result_dict[key] = [value]\n",
    "\n",
    "print(result_dict)\n"
   ]
  },
  {
   "cell_type": "markdown",
   "id": "b497f4ca",
   "metadata": {},
   "source": [
    "### 20.Write a Python program to print a tuple with string formatting"
   ]
  },
  {
   "cell_type": "code",
   "execution_count": 22,
   "id": "81926ca3",
   "metadata": {},
   "outputs": [
    {
     "name": "stdout",
     "output_type": "stream",
     "text": [
      "('watermelons', 'strawberries', 'mangoes', 'bananas', 'grapefruits', 'oranges', 'apples', 'pears')\n",
      "Fruits ('watermelons', 'strawberries', 'mangoes', 'bananas', 'grapefruits', 'oranges', 'apples', 'pears')\n",
      "Fruits ('watermelons', 'strawberries', 'mangoes', 'bananas', 'grapefruits', 'oranges', 'apples', 'pears')\n"
     ]
    }
   ],
   "source": [
    "fruits_tuple = (\"watermelons\", \"strawberries\", \"mangoes\", \"bananas\", \"grapefruits\", \"oranges\", \"apples\", \"pears\")\n",
    "\n",
    "# Printing the tuple as it is\n",
    "print(fruits_tuple)\n",
    "\n",
    "# Printing the tuple with formatting\n",
    "print(\"Fruits {}\".format(fruits_tuple))\n",
    "print(\"Fruits\",fruits_tuple)\n"
   ]
  },
  {
   "cell_type": "markdown",
   "id": "15ce9bb1",
   "metadata": {},
   "source": [
    "### 21. Create a tuple with single item 23\n"
   ]
  },
  {
   "cell_type": "code",
   "execution_count": 23,
   "id": "b1ada104",
   "metadata": {},
   "outputs": [
    {
     "name": "stdout",
     "output_type": "stream",
     "text": [
      "(23,)\n",
      "Type = <class 'tuple'>\n"
     ]
    }
   ],
   "source": [
    "tuple = (23,)\n",
    "print(tuple)\n",
    "print(\"Type =\",type(a))"
   ]
  },
  {
   "cell_type": "markdown",
   "id": "fe7280d2",
   "metadata": {},
   "source": [
    "### 22. Unpack the tuple into 5 variables\n"
   ]
  },
  {
   "cell_type": "code",
   "execution_count": 24,
   "id": "cb90ec5d",
   "metadata": {},
   "outputs": [
    {
     "name": "stdout",
     "output_type": "stream",
     "text": [
      "11\n",
      "22\n",
      "333\n",
      "44\n",
      "55\n"
     ]
    }
   ],
   "source": [
    "tuple = (11,22,333,44,55)\n",
    "for i in tuple:\n",
    "    print(i)"
   ]
  },
  {
   "cell_type": "markdown",
   "id": "8256faa7",
   "metadata": {},
   "source": [
    "### 23. Swap two tuples in Python3"
   ]
  },
  {
   "cell_type": "code",
   "execution_count": 25,
   "id": "dd777081",
   "metadata": {},
   "outputs": [
    {
     "name": "stdout",
     "output_type": "stream",
     "text": [
      "Before Swap A: 10\n",
      "Before Swap B: 20\n",
      "After Swap A: 20\n",
      "After Swap B: 10\n"
     ]
    }
   ],
   "source": [
    "A = (10,)\n",
    "B = (20,)\n",
    "print(\"Before Swap A:\",A[0])\n",
    "print(\"Before Swap B:\",B[0])\n",
    "\n",
    "A,B = B,A\n",
    "\n",
    "print(\"After Swap A:\",A[0])\n",
    "print(\"After Swap B:\",B[0])\n",
    "\n"
   ]
  },
  {
   "cell_type": "markdown",
   "id": "b22cf0e3",
   "metadata": {},
   "source": [
    "### 24. Copy specific elements from one tuple to a new tuple"
   ]
  },
  {
   "cell_type": "code",
   "execution_count": 26,
   "id": "72cae54e",
   "metadata": {},
   "outputs": [
    {
     "name": "stdout",
     "output_type": "stream",
     "text": [
      "(30, 40, 50, 60, 70, 80)\n"
     ]
    }
   ],
   "source": [
    "Original_tuple = (10,20,30,40,50,60,70,80,90,100)\n",
    "\n",
    "new_tuple = Original_tuple[2:8]\n",
    "\n",
    "print(new_tuple)\n"
   ]
  },
  {
   "cell_type": "markdown",
   "id": "927e20b4",
   "metadata": {},
   "source": [
    "### 25. Modify the tuple\n"
   ]
  },
  {
   "cell_type": "code",
   "execution_count": 27,
   "id": "6e837d2d",
   "metadata": {},
   "outputs": [
    {
     "ename": "TypeError",
     "evalue": "'list' object is not callable",
     "output_type": "error",
     "traceback": [
      "\u001b[1;31m---------------------------------------------------------------------------\u001b[0m",
      "\u001b[1;31mTypeError\u001b[0m                                 Traceback (most recent call last)",
      "Cell \u001b[1;32mIn[27], line 3\u001b[0m\n\u001b[0;32m      1\u001b[0m original_tuple \u001b[38;5;241m=\u001b[39m (\u001b[38;5;241m10\u001b[39m,\u001b[38;5;241m20\u001b[39m,\u001b[38;5;241m30\u001b[39m,\u001b[38;5;241m40\u001b[39m,\u001b[38;5;241m50\u001b[39m)\n\u001b[1;32m----> 3\u001b[0m modified_list \u001b[38;5;241m=\u001b[39m \u001b[38;5;28mlist\u001b[39m(original_tuple)\n\u001b[0;32m      5\u001b[0m modified_list[\u001b[38;5;241m2\u001b[39m] \u001b[38;5;241m=\u001b[39m \u001b[38;5;241m33\u001b[39m\n\u001b[0;32m      7\u001b[0m modified_tuple \u001b[38;5;241m=\u001b[39m \u001b[38;5;28mtuple\u001b[39m(modified_list)\n",
      "\u001b[1;31mTypeError\u001b[0m: 'list' object is not callable"
     ]
    }
   ],
   "source": [
    "original_tuple = (10,20,30,40,50)\n",
    "\n",
    "modified_list = list(original_tuple)\n",
    "\n",
    "modified_list[2] = 33\n",
    "\n",
    "modified_tuple = tuple(modified_list)\n",
    "\n",
    "print(modified_list)"
   ]
  },
  {
   "cell_type": "markdown",
   "id": "9f5add37",
   "metadata": {},
   "source": [
    "### 26. Sort a tuple of tuples by 2nd item"
   ]
  },
  {
   "cell_type": "code",
   "execution_count": 28,
   "id": "180e3ca3",
   "metadata": {},
   "outputs": [
    {
     "ename": "TypeError",
     "evalue": "'tuple' object is not callable",
     "output_type": "error",
     "traceback": [
      "\u001b[1;31m---------------------------------------------------------------------------\u001b[0m",
      "\u001b[1;31mTypeError\u001b[0m                                 Traceback (most recent call last)",
      "Cell \u001b[1;32mIn[28], line 3\u001b[0m\n\u001b[0;32m      1\u001b[0m original_tuple \u001b[38;5;241m=\u001b[39m ((\u001b[38;5;124m'\u001b[39m\u001b[38;5;124ma\u001b[39m\u001b[38;5;124m'\u001b[39m,\u001b[38;5;241m53\u001b[39m),(\u001b[38;5;124m'\u001b[39m\u001b[38;5;124mb\u001b[39m\u001b[38;5;124m'\u001b[39m,\u001b[38;5;241m37\u001b[39m),(\u001b[38;5;124m'\u001b[39m\u001b[38;5;124mc\u001b[39m\u001b[38;5;124m'\u001b[39m,\u001b[38;5;241m23\u001b[39m),(\u001b[38;5;124m'\u001b[39m\u001b[38;5;124md\u001b[39m\u001b[38;5;124m'\u001b[39m,\u001b[38;5;241m1\u001b[39m),(\u001b[38;5;124m'\u001b[39m\u001b[38;5;124me\u001b[39m\u001b[38;5;124m'\u001b[39m,\u001b[38;5;241m18\u001b[39m))\n\u001b[1;32m----> 3\u001b[0m sorted_tuple \u001b[38;5;241m=\u001b[39m \u001b[38;5;28mtuple\u001b[39m(\u001b[38;5;28msorted\u001b[39m(original_tuple,key\u001b[38;5;241m=\u001b[39m\u001b[38;5;28;01mlambda\u001b[39;00m x:x[\u001b[38;5;241m1\u001b[39m]))\n\u001b[0;32m      5\u001b[0m \u001b[38;5;28mprint\u001b[39m(sorted_tuple)\n",
      "\u001b[1;31mTypeError\u001b[0m: 'tuple' object is not callable"
     ]
    }
   ],
   "source": [
    "original_tuple = (('a',53),('b',37),('c',23),('d',1),('e',18))\n",
    "\n",
    "sorted_tuple = tuple(sorted(original_tuple,key=lambda x:x[1]))\n",
    "\n",
    "print(sorted_tuple)"
   ]
  },
  {
   "cell_type": "markdown",
   "id": "de477339",
   "metadata": {},
   "source": [
    "### 27. Counts the number of occurrences of item 30 from a tuple"
   ]
  },
  {
   "cell_type": "code",
   "execution_count": 29,
   "id": "902637d2",
   "metadata": {},
   "outputs": [
    {
     "name": "stdout",
     "output_type": "stream",
     "text": [
      "Number of count 30 : ('Tutor', 'J', 23, 56.67, [23, 12], True)\n"
     ]
    }
   ],
   "source": [
    "tuple = (30,50,10,30,70,50,30)\n",
    "occurances = tuple.count(30)\n",
    "print(\"Number of count 30 :\",b)"
   ]
  },
  {
   "cell_type": "markdown",
   "id": "4df83e84",
   "metadata": {},
   "source": [
    "### 28. Write a Python program to compute element-wise sum of given tuples\n"
   ]
  },
  {
   "cell_type": "code",
   "execution_count": 30,
   "id": "a6d7c43d",
   "metadata": {},
   "outputs": [
    {
     "name": "stdout",
     "output_type": "stream",
     "text": [
      "Sum of Elements = (12, 21, 18)\n"
     ]
    }
   ],
   "source": [
    "A = (2,5,8)\n",
    "B = (6,5,1)\n",
    "C = (1,4,7)\n",
    "D = (3,7,2)\n",
    "\n",
    "result = ()\n",
    "\n",
    "for i in range(len(A)):\n",
    "    element_sum = A[i] + B[i] + C[i] + D[i]\n",
    "    result += (element_sum,)\n",
    "print(\"Sum of Elements =\",result)"
   ]
  },
  {
   "cell_type": "markdown",
   "id": "bf7a8c64",
   "metadata": {},
   "source": [
    "### 29. Write a Python program to sort a tuple by its float element"
   ]
  },
  {
   "cell_type": "code",
   "execution_count": 31,
   "id": "0f2556a3",
   "metadata": {},
   "outputs": [
    {
     "ename": "TypeError",
     "evalue": "'tuple' object is not callable",
     "output_type": "error",
     "traceback": [
      "\u001b[1;31m---------------------------------------------------------------------------\u001b[0m",
      "\u001b[1;31mTypeError\u001b[0m                                 Traceback (most recent call last)",
      "Cell \u001b[1;32mIn[31], line 3\u001b[0m\n\u001b[0;32m      1\u001b[0m data \u001b[38;5;241m=\u001b[39m [(\u001b[38;5;124m'\u001b[39m\u001b[38;5;124mRam\u001b[39m\u001b[38;5;124m'\u001b[39m,\u001b[38;5;124m'\u001b[39m\u001b[38;5;124m89.20\u001b[39m\u001b[38;5;124m'\u001b[39m),(\u001b[38;5;124m'\u001b[39m\u001b[38;5;124mSiva\u001b[39m\u001b[38;5;124m'\u001b[39m,\u001b[38;5;124m'\u001b[39m\u001b[38;5;124m76.45\u001b[39m\u001b[38;5;124m'\u001b[39m),(\u001b[38;5;124m'\u001b[39m\u001b[38;5;124mPooja\u001b[39m\u001b[38;5;124m'\u001b[39m,\u001b[38;5;124m'\u001b[39m\u001b[38;5;124m84.40\u001b[39m\u001b[38;5;124m'\u001b[39m),(\u001b[38;5;124m'\u001b[39m\u001b[38;5;124mTara\u001b[39m\u001b[38;5;124m'\u001b[39m,\u001b[38;5;124m'\u001b[39m\u001b[38;5;124m68.43\u001b[39m\u001b[38;5;124m'\u001b[39m),(\u001b[38;5;124m'\u001b[39m\u001b[38;5;124mJeeva\u001b[39m\u001b[38;5;124m'\u001b[39m,\u001b[38;5;124m'\u001b[39m\u001b[38;5;124m91.40\u001b[39m\u001b[38;5;124m'\u001b[39m)]\n\u001b[1;32m----> 3\u001b[0m sorted_data \u001b[38;5;241m=\u001b[39m \u001b[38;5;28mtuple\u001b[39m(\u001b[38;5;28msorted\u001b[39m(data,key\u001b[38;5;241m=\u001b[39m\u001b[38;5;28;01mlambda\u001b[39;00m x: \u001b[38;5;28mfloat\u001b[39m(x[\u001b[38;5;241m1\u001b[39m]),reverse \u001b[38;5;241m=\u001b[39m \u001b[38;5;28;01mTrue\u001b[39;00m))\n\u001b[0;32m      5\u001b[0m \u001b[38;5;28mprint\u001b[39m(sorted_data)\n",
      "\u001b[1;31mTypeError\u001b[0m: 'tuple' object is not callable"
     ]
    }
   ],
   "source": [
    "data = [('Ram','89.20'),('Siva','76.45'),('Pooja','84.40'),('Tara','68.43'),('Jeeva','91.40')]\n",
    "\n",
    "sorted_data = tuple(sorted(data,key=lambda x: float(x[1]),reverse = True))\n",
    "\n",
    "print(sorted_data)"
   ]
  },
  {
   "cell_type": "markdown",
   "id": "5ab9a998",
   "metadata": {},
   "source": [
    "### 30. Write a Python program to replace last value of tuples in a list"
   ]
  },
  {
   "cell_type": "code",
   "execution_count": 32,
   "id": "2048afa5",
   "metadata": {},
   "outputs": [
    {
     "name": "stdout",
     "output_type": "stream",
     "text": [
      "Original list:\n",
      "[(5, 2, 3), (4, 7, 6), (8, 9, 6)]\n",
      "Replace value = 10\n",
      "Modified list:\n",
      "[(5, 2, 10), (4, 7, 10), (8, 9, 10)]\n"
     ]
    }
   ],
   "source": [
    "# Original list of tuples\n",
    "original_list = [(5, 2, 3), (4, 7, 6), (8, 9, 6)]\n",
    "\n",
    "# Value to replace the last element with\n",
    "replace_value = 10\n",
    "\n",
    "# Replace the last value in each tuple\n",
    "result_list = [(tup[:-1] + (replace_value,)) for tup in original_list]\n",
    "\n",
    "# Print the original and modified lists\n",
    "print(\"Original list:\")\n",
    "print(original_list)\n",
    "\n",
    "print(f\"Replace value = {replace_value}\")\n",
    "print(\"Modified list:\")\n",
    "print(result_list)\n"
   ]
  },
  {
   "cell_type": "markdown",
   "id": "944eceaa",
   "metadata": {},
   "source": [
    "### 31. Write a Python program to Extract tuples having K digit elements"
   ]
  },
  {
   "cell_type": "code",
   "execution_count": 33,
   "id": "73ab8b2c",
   "metadata": {},
   "outputs": [
    {
     "name": "stdout",
     "output_type": "stream",
     "text": [
      "Extract tuples having K digit elements : [(47, 23), (22, 53)]\n"
     ]
    }
   ],
   "source": [
    "data = [(47,23),(3,78),(22,53),(121,45),(7,)]\n",
    "\n",
    "K = 2\n",
    "\n",
    "result = [tup for tup in data if all(len(str(item)) == K for item in tup)]\n",
    "\n",
    "\n",
    "print(\"Extract tuples having K digit elements :\",result)"
   ]
  },
  {
   "cell_type": "markdown",
   "id": "4b4aa357",
   "metadata": {},
   "source": [
    "### 32. Write a Python program to Extract Symmetric Tuples"
   ]
  },
  {
   "cell_type": "code",
   "execution_count": 34,
   "id": "bfd50954",
   "metadata": {},
   "outputs": [
    {
     "name": "stdout",
     "output_type": "stream",
     "text": [
      "Before extracting tuple list : [(18, 23), (2, 9), (7, 6), (9, 2), (10, 2), (23, 18)]\n",
      "After extracting tuple list : {(2, 9), (23, 18), (18, 23), (9, 2)}\n"
     ]
    }
   ],
   "source": [
    "#32.\n",
    "input_tuples = [(18,23),(2,9),(7,6),(9,2),(10,2),(23,18)]\n",
    "\n",
    "def extract_symmetric_tuples(tuples):\n",
    "    symmetric_set = set()\n",
    "    \n",
    "    for tup in tuples:\n",
    "        reverse_tup = (tup[1], tup[0])\n",
    "        if reverse_tup in tuples:\n",
    "            symmetric_set.add(tup)\n",
    "    \n",
    "    return symmetric_set\n",
    "\n",
    "# Sample input\n",
    "input_tuples = [(18, 23), (2, 9), (7, 6), (9, 2), (10, 2), (23, 18)]\n",
    "\n",
    "symmetric_tuples = extract_symmetric_tuples(input_tuples)\n",
    "\n",
    "print(\"Before extracting tuple list :\",input_tuples)\n",
    "print(\"After extracting tuple list :\",symmetric_tuples)\n"
   ]
  },
  {
   "cell_type": "code",
   "execution_count": 35,
   "id": "a06ca15d",
   "metadata": {},
   "outputs": [
    {
     "name": "stdout",
     "output_type": "stream",
     "text": [
      "{(2, 9), (23, 18), (18, 23), (9, 2)}\n"
     ]
    }
   ],
   "source": [
    "def extract_symmetric_tuples(tuples):\n",
    "    symmetric_set = set()\n",
    "    \n",
    "    for tup in tuples:\n",
    "        reverse_tup = (tup[1],tup[0])\n",
    "        if reverse_tup in tuples:\n",
    "            symmetric_set.add(tup)\n",
    "            \n",
    "    return symmetric_set\n",
    "\n",
    "input_tuples = [(18,23),(2,9),(7,6),(9,2),(10,2),(23,18)]\n",
    "\n",
    "symmetric_tuples = extract_symmetric_tuples(input_tuples)\n",
    "\n",
    "print(symmetric_tuples)"
   ]
  },
  {
   "cell_type": "markdown",
   "id": "6b20dcdb",
   "metadata": {},
   "source": [
    "### 33. Write a Python program to Sort Tuples by their Maximum element"
   ]
  },
  {
   "cell_type": "code",
   "execution_count": 36,
   "id": "f28b7f11",
   "metadata": {},
   "outputs": [
    {
     "name": "stdout",
     "output_type": "stream",
     "text": [
      "Before Sorting of tuples by their maximum element : [(4, 5, 5, 7), (1, 3, 7, 4), (19, 4, 5, 3), (1, 2)]\n",
      "After Sorting of tuples by their maximum element : [(19, 4, 5, 3), (4, 5, 5, 7), (1, 3, 7, 4), (1, 2)]\n"
     ]
    }
   ],
   "source": [
    "#33.\n",
    "tuples_list = [ (4, 5, 5, 7), (1, 3, 7, 4), (19, 4, 5, 3), (1, 2) ]\n",
    "\n",
    "def max_element_key(tup):\n",
    "    return max(tup)\n",
    "\n",
    "sorted_tuples = sorted(tuples_list,key=max_element_key,reverse=True)\n",
    "\n",
    "print(\"Before Sorting of tuples by their maximum element :\",tuples_list)\n",
    "print(\"After Sorting of tuples by their maximum element :\",sorted_tuples)"
   ]
  },
  {
   "cell_type": "markdown",
   "id": "e03d04ef",
   "metadata": {},
   "source": [
    "### 34. Write a Python program to Remove nested records from tuple"
   ]
  },
  {
   "cell_type": "code",
   "execution_count": 37,
   "id": "adf8ba86",
   "metadata": {},
   "outputs": [
    {
     "ename": "TypeError",
     "evalue": "'tuple' object is not callable",
     "output_type": "error",
     "traceback": [
      "\u001b[1;31m---------------------------------------------------------------------------\u001b[0m",
      "\u001b[1;31mTypeError\u001b[0m                                 Traceback (most recent call last)",
      "Cell \u001b[1;32mIn[37], line 8\u001b[0m\n\u001b[0;32m      5\u001b[0m     result \u001b[38;5;241m=\u001b[39m \u001b[38;5;28mtuple\u001b[39m(item \u001b[38;5;28;01mfor\u001b[39;00m item \u001b[38;5;129;01min\u001b[39;00m input_tuple \u001b[38;5;28;01mif\u001b[39;00m \u001b[38;5;129;01mnot\u001b[39;00m \u001b[38;5;28misinstance\u001b[39m(item,\u001b[38;5;28mtuple\u001b[39m))\n\u001b[0;32m      6\u001b[0m     \u001b[38;5;28;01mreturn\u001b[39;00m result\n\u001b[1;32m----> 8\u001b[0m output_tuple \u001b[38;5;241m=\u001b[39m remove_nested_tuples(input_tuple)\n\u001b[0;32m     10\u001b[0m \u001b[38;5;28mprint\u001b[39m(\u001b[38;5;124m\"\u001b[39m\u001b[38;5;124mBefore Removal of Nested Tuple:\u001b[39m\u001b[38;5;124m\"\u001b[39m,input_tuple)\n\u001b[0;32m     11\u001b[0m \u001b[38;5;28mprint\u001b[39m(\u001b[38;5;124m\"\u001b[39m\u001b[38;5;124mAfter Removal of Nested Tuple:\u001b[39m\u001b[38;5;124m\"\u001b[39m,output_tuple)\n",
      "Cell \u001b[1;32mIn[37], line 5\u001b[0m, in \u001b[0;36mremove_nested_tuples\u001b[1;34m(input_tuple)\u001b[0m\n\u001b[0;32m      4\u001b[0m \u001b[38;5;28;01mdef\u001b[39;00m \u001b[38;5;21mremove_nested_tuples\u001b[39m(input_tuple):\n\u001b[1;32m----> 5\u001b[0m     result \u001b[38;5;241m=\u001b[39m \u001b[38;5;28mtuple\u001b[39m(item \u001b[38;5;28;01mfor\u001b[39;00m item \u001b[38;5;129;01min\u001b[39;00m input_tuple \u001b[38;5;28;01mif\u001b[39;00m \u001b[38;5;129;01mnot\u001b[39;00m \u001b[38;5;28misinstance\u001b[39m(item,\u001b[38;5;28mtuple\u001b[39m))\n\u001b[0;32m      6\u001b[0m     \u001b[38;5;28;01mreturn\u001b[39;00m result\n",
      "\u001b[1;31mTypeError\u001b[0m: 'tuple' object is not callable"
     ]
    }
   ],
   "source": [
    "#34.\n",
    "input_tuple = (10,20,(30,),40,(50,60),70)\n",
    "\n",
    "def remove_nested_tuples(input_tuple):\n",
    "    result = tuple(item for item in input_tuple if not isinstance(item,tuple))\n",
    "    return result\n",
    "\n",
    "output_tuple = remove_nested_tuples(input_tuple)\n",
    "\n",
    "print(\"Before Removal of Nested Tuple:\",input_tuple)\n",
    "print(\"After Removal of Nested Tuple:\",output_tuple)"
   ]
  },
  {
   "cell_type": "markdown",
   "id": "4c11ce34",
   "metadata": {},
   "source": [
    "### 35. Write a Python program to Elements Frequency in Mixed Nested Tuple"
   ]
  },
  {
   "cell_type": "code",
   "execution_count": 38,
   "id": "2609cee8",
   "metadata": {},
   "outputs": [
    {
     "ename": "TypeError",
     "evalue": "isinstance() arg 2 must be a type, a tuple of types, or a union",
     "output_type": "error",
     "traceback": [
      "\u001b[1;31m---------------------------------------------------------------------------\u001b[0m",
      "\u001b[1;31mTypeError\u001b[0m                                 Traceback (most recent call last)",
      "Cell \u001b[1;32mIn[38], line 22\u001b[0m\n\u001b[0;32m     19\u001b[0m mixed_nested_tuple \u001b[38;5;241m=\u001b[39m (\u001b[38;5;241m10\u001b[39m, \u001b[38;5;241m20\u001b[39m, (\u001b[38;5;241m20\u001b[39m, \u001b[38;5;241m10\u001b[39m), \u001b[38;5;241m30\u001b[39m, (\u001b[38;5;241m40\u001b[39m, \u001b[38;5;241m50\u001b[39m, \u001b[38;5;241m60\u001b[39m), \u001b[38;5;241m60\u001b[39m, \u001b[38;5;241m70\u001b[39m)\n\u001b[0;32m     21\u001b[0m \u001b[38;5;66;03m# Get the frequency of elements\u001b[39;00m\n\u001b[1;32m---> 22\u001b[0m frequency_result \u001b[38;5;241m=\u001b[39m count_elements_frequency(mixed_nested_tuple)\n\u001b[0;32m     24\u001b[0m \u001b[38;5;66;03m# Print the result\u001b[39;00m\n\u001b[0;32m     25\u001b[0m \u001b[38;5;28mprint\u001b[39m(\u001b[38;5;124m\"\u001b[39m\u001b[38;5;124mElement frequencies:\u001b[39m\u001b[38;5;124m\"\u001b[39m)\n",
      "Cell \u001b[1;32mIn[38], line 14\u001b[0m, in \u001b[0;36mcount_elements_frequency\u001b[1;34m(nested_tuple)\u001b[0m\n\u001b[0;32m     11\u001b[0m         \u001b[38;5;28;01melse\u001b[39;00m:\n\u001b[0;32m     12\u001b[0m             frequency_dict[item] \u001b[38;5;241m=\u001b[39m frequency_dict\u001b[38;5;241m.\u001b[39mget(item, \u001b[38;5;241m0\u001b[39m) \u001b[38;5;241m+\u001b[39m \u001b[38;5;241m1\u001b[39m\n\u001b[1;32m---> 14\u001b[0m count_elements(nested_tuple)\n\u001b[0;32m     16\u001b[0m \u001b[38;5;28;01mreturn\u001b[39;00m frequency_dict\n",
      "Cell \u001b[1;32mIn[38], line 9\u001b[0m, in \u001b[0;36mcount_elements_frequency.<locals>.count_elements\u001b[1;34m(t)\u001b[0m\n\u001b[0;32m      7\u001b[0m \u001b[38;5;28;01mdef\u001b[39;00m \u001b[38;5;21mcount_elements\u001b[39m(t):\n\u001b[0;32m      8\u001b[0m     \u001b[38;5;28;01mfor\u001b[39;00m item \u001b[38;5;129;01min\u001b[39;00m t:\n\u001b[1;32m----> 9\u001b[0m         \u001b[38;5;28;01mif\u001b[39;00m \u001b[38;5;28misinstance\u001b[39m(item, \u001b[38;5;28mtuple\u001b[39m):\n\u001b[0;32m     10\u001b[0m             count_elements(item)\n\u001b[0;32m     11\u001b[0m         \u001b[38;5;28;01melse\u001b[39;00m:\n",
      "\u001b[1;31mTypeError\u001b[0m: isinstance() arg 2 must be a type, a tuple of types, or a union"
     ]
    }
   ],
   "source": [
    "#35.\n",
    "mixed_nested_tuple = (10, 20, (20, 10), 30, (40, 50, 60), 60, 70)\n",
    "\n",
    "def count_elements_frequency(nested_tuple):\n",
    "    frequency_dict = {}\n",
    "\n",
    "    def count_elements(t):\n",
    "        for item in t:\n",
    "            if isinstance(item, tuple):\n",
    "                count_elements(item)\n",
    "            else:\n",
    "                frequency_dict[item] = frequency_dict.get(item, 0) + 1\n",
    "\n",
    "    count_elements(nested_tuple)\n",
    "\n",
    "    return frequency_dict\n",
    "\n",
    "# Example tuple\n",
    "mixed_nested_tuple = (10, 20, (20, 10), 30, (40, 50, 60), 60, 70)\n",
    "\n",
    "# Get the frequency of elements\n",
    "frequency_result = count_elements_frequency(mixed_nested_tuple)\n",
    "\n",
    "# Print the result\n",
    "print(\"Element frequencies:\")\n",
    "for element, frequency in frequency_result.items():\n",
    "    print(f\"{element}: {frequency}\")\n",
    "\n"
   ]
  },
  {
   "cell_type": "markdown",
   "id": "0d91f5de",
   "metadata": {},
   "source": [
    "### 36. Write a Python program to get unique elements in nested tuple"
   ]
  },
  {
   "cell_type": "code",
   "execution_count": 39,
   "id": "ec6d2675",
   "metadata": {},
   "outputs": [
    {
     "ename": "TypeError",
     "evalue": "isinstance() arg 2 must be a type, a tuple of types, or a union",
     "output_type": "error",
     "traceback": [
      "\u001b[1;31m---------------------------------------------------------------------------\u001b[0m",
      "\u001b[1;31mTypeError\u001b[0m                                 Traceback (most recent call last)",
      "Cell \u001b[1;32mIn[39], line 13\u001b[0m\n\u001b[0;32m     10\u001b[0m             flat_list\u001b[38;5;241m.\u001b[39mappend(item)\n\u001b[0;32m     11\u001b[0m     \u001b[38;5;28;01mreturn\u001b[39;00m flat_list\n\u001b[1;32m---> 13\u001b[0m flat_list \u001b[38;5;241m=\u001b[39m flatten_tuple(nested_tuples)\n\u001b[0;32m     14\u001b[0m unique_elements \u001b[38;5;241m=\u001b[39m \u001b[38;5;28mlist\u001b[39m(\u001b[38;5;28mset\u001b[39m(flat_list))\n\u001b[0;32m     16\u001b[0m \u001b[38;5;28mprint\u001b[39m(\u001b[38;5;124m\"\u001b[39m\u001b[38;5;124mUnique elements in nested tuple :\u001b[39m\u001b[38;5;124m\"\u001b[39m,unique_elements)\n",
      "Cell \u001b[1;32mIn[39], line 7\u001b[0m, in \u001b[0;36mflatten_tuple\u001b[1;34m(nested_tuples)\u001b[0m\n\u001b[0;32m      5\u001b[0m flat_list \u001b[38;5;241m=\u001b[39m []\n\u001b[0;32m      6\u001b[0m \u001b[38;5;28;01mfor\u001b[39;00m item \u001b[38;5;129;01min\u001b[39;00m nested_tuples:\n\u001b[1;32m----> 7\u001b[0m     \u001b[38;5;28;01mif\u001b[39;00m \u001b[38;5;28misinstance\u001b[39m(item,\u001b[38;5;28mtuple\u001b[39m):\n\u001b[0;32m      8\u001b[0m         flat_list\u001b[38;5;241m.\u001b[39mextend(flatten_tuple(item))\n\u001b[0;32m      9\u001b[0m     \u001b[38;5;28;01melse\u001b[39;00m:\n",
      "\u001b[1;31mTypeError\u001b[0m: isinstance() arg 2 must be a type, a tuple of types, or a union"
     ]
    }
   ],
   "source": [
    "#36.\n",
    "nested_tuples = [(1,3,5),(4,5,7),(1,2,6),(10,9),(10,)]\n",
    "\n",
    "def flatten_tuple(nested_tuples):\n",
    "    flat_list = []\n",
    "    for item in nested_tuples:\n",
    "        if isinstance(item,tuple):\n",
    "            flat_list.extend(flatten_tuple(item))\n",
    "        else:\n",
    "            flat_list.append(item)\n",
    "    return flat_list\n",
    "\n",
    "flat_list = flatten_tuple(nested_tuples)\n",
    "unique_elements = list(set(flat_list))\n",
    "\n",
    "print(\"Unique elements in nested tuple :\",unique_elements)"
   ]
  },
  {
   "cell_type": "markdown",
   "id": "8c2e2995",
   "metadata": {},
   "source": [
    "### 37. Write a Python program to Concatenate tuples to nested tuples"
   ]
  },
  {
   "cell_type": "code",
   "execution_count": 40,
   "id": "7a62f1ba",
   "metadata": {},
   "outputs": [
    {
     "name": "stdout",
     "output_type": "stream",
     "text": [
      "Tuples after concatenateing: ((18, 23, 2, 9), (10, 3, 11))\n"
     ]
    }
   ],
   "source": [
    "#37.\n",
    "Tuple1 = ((18, 23, 2, 9),)\n",
    "Tuple2 = ((10, 3, 11),)\n",
    "concatenate_Tuple = Tuple1 + Tuple2\n",
    "print(\"Tuples after concatenateing:\",concatenate_Tuple)"
   ]
  },
  {
   "cell_type": "markdown",
   "id": "434beca3",
   "metadata": {},
   "source": [
    "### 38. Write a Python program to Sort by Frequency of second element in Tuple List"
   ]
  },
  {
   "cell_type": "code",
   "execution_count": 41,
   "id": "d3703742",
   "metadata": {},
   "outputs": [
    {
     "name": "stdout",
     "output_type": "stream",
     "text": [
      "Sorted list of Tuples: [(2, 7), (3, 7), (2, 5), (8, 7), (6, 5), (9, 8)]\n"
     ]
    }
   ],
   "source": [
    "#38.\n",
    "tuple_list = [(2,7),(3,7),(2,5),(8,7),(6,5),(9,8)]\n",
    "\n",
    "def second_element_frequency(tuple):\n",
    "    return tuple.count(tuple[1])\n",
    "\n",
    "sorted_tuples = sorted(tuple_list,key=second_element_frequency,reverse=True)\n",
    "\n",
    "print(\"Sorted list of Tuples:\",sorted_tuples)\n",
    "\n"
   ]
  },
  {
   "cell_type": "markdown",
   "id": "317dc554",
   "metadata": {},
   "source": [
    "### 39. Write a Python program to Sort lists in tuple"
   ]
  },
  {
   "cell_type": "code",
   "execution_count": 42,
   "id": "d1377ba5",
   "metadata": {},
   "outputs": [
    {
     "ename": "TypeError",
     "evalue": "'tuple' object is not callable",
     "output_type": "error",
     "traceback": [
      "\u001b[1;31m---------------------------------------------------------------------------\u001b[0m",
      "\u001b[1;31mTypeError\u001b[0m                                 Traceback (most recent call last)",
      "Cell \u001b[1;32mIn[42], line 8\u001b[0m\n\u001b[0;32m      5\u001b[0m     sorted_tuple \u001b[38;5;241m=\u001b[39m \u001b[38;5;28mtuple\u001b[39m(\u001b[38;5;28msorted\u001b[39m(sublist) \u001b[38;5;28;01mif\u001b[39;00m \u001b[38;5;28misinstance\u001b[39m(sublist,\u001b[38;5;28mlist\u001b[39m) \u001b[38;5;28;01melse\u001b[39;00m sublist \u001b[38;5;28;01mfor\u001b[39;00m sublist \u001b[38;5;129;01min\u001b[39;00m input_tuple)\n\u001b[0;32m      6\u001b[0m     \u001b[38;5;28;01mreturn\u001b[39;00m sorted_tuple\n\u001b[1;32m----> 8\u001b[0m sorted_tuple \u001b[38;5;241m=\u001b[39m sort_lists_within_tuple(input_tuple)\n\u001b[0;32m     10\u001b[0m \u001b[38;5;28mprint\u001b[39m(\u001b[38;5;124m\"\u001b[39m\u001b[38;5;124mTuple after sorting list:\u001b[39m\u001b[38;5;124m\"\u001b[39m,sorted_tuple)\n",
      "Cell \u001b[1;32mIn[42], line 5\u001b[0m, in \u001b[0;36msort_lists_within_tuple\u001b[1;34m(input_tuple)\u001b[0m\n\u001b[0;32m      4\u001b[0m \u001b[38;5;28;01mdef\u001b[39;00m \u001b[38;5;21msort_lists_within_tuple\u001b[39m(input_tuple):\n\u001b[1;32m----> 5\u001b[0m     sorted_tuple \u001b[38;5;241m=\u001b[39m \u001b[38;5;28mtuple\u001b[39m(\u001b[38;5;28msorted\u001b[39m(sublist) \u001b[38;5;28;01mif\u001b[39;00m \u001b[38;5;28misinstance\u001b[39m(sublist,\u001b[38;5;28mlist\u001b[39m) \u001b[38;5;28;01melse\u001b[39;00m sublist \u001b[38;5;28;01mfor\u001b[39;00m sublist \u001b[38;5;129;01min\u001b[39;00m input_tuple)\n\u001b[0;32m      6\u001b[0m     \u001b[38;5;28;01mreturn\u001b[39;00m sorted_tuple\n",
      "\u001b[1;31mTypeError\u001b[0m: 'tuple' object is not callable"
     ]
    }
   ],
   "source": [
    "#39.\n",
    "input_tuple = ([10, 50, 60], [80, 20, 30], [70, 100, 40], (90,))\n",
    "\n",
    "def sort_lists_within_tuple(input_tuple):\n",
    "    sorted_tuple = tuple(sorted(sublist) if isinstance(sublist,list) else sublist for sublist in input_tuple)\n",
    "    return sorted_tuple\n",
    "\n",
    "sorted_tuple = sort_lists_within_tuple(input_tuple)\n",
    "\n",
    "print(\"Tuple after sorting list:\",sorted_tuple)"
   ]
  },
  {
   "cell_type": "markdown",
   "id": "62c36162",
   "metadata": {},
   "source": [
    "### 40. Write a Python program to Order Tuples using external List"
   ]
  },
  {
   "cell_type": "code",
   "execution_count": 43,
   "id": "6c6d4cfb",
   "metadata": {},
   "outputs": [
    {
     "name": "stdout",
     "output_type": "stream",
     "text": [
      "Ordered Tuple List: [('A', 67), ('B', 68), ('C', 69), ('D', 70)]\n"
     ]
    }
   ],
   "source": [
    "#40.\n",
    "tuple_list = [('B', 68), ('D', 70), ('A', 67), ('C', 69)]\n",
    "external_order = ['A','B','C','D']\n",
    "\n",
    "def custom_sort_key(item):\n",
    "    return external_order.index(item[0])\n",
    "\n",
    "ordered_tuple_list = sorted(tuple_list,key=custom_sort_key)\n",
    "\n",
    "print(\"Ordered Tuple List:\",ordered_tuple_list)"
   ]
  },
  {
   "cell_type": "markdown",
   "id": "26cc158f",
   "metadata": {},
   "source": [
    "### 41. Write a Python program to Filter Tuples by Kth element from List"
   ]
  },
  {
   "cell_type": "code",
   "execution_count": 44,
   "id": "f0cdc437",
   "metadata": {},
   "outputs": [
    {
     "name": "stdout",
     "output_type": "stream",
     "text": [
      "Filtered tuples: [('D', 70), ('A', 67)]\n"
     ]
    }
   ],
   "source": [
    "#41.\n",
    "tuples_list = [('B', 68), ('D', 70), ('A', 67), ('C', 69)]\n",
    "\n",
    "def filter_tuples_by_kth_element(tuples_list, kth_elements, kth_index):\n",
    "    filtered_tuples = [t for t in tuples_list if t[kth_index] in kth_elements]\n",
    "    return filtered_tuples\n",
    "\n",
    "# Example usage\n",
    "tuples_list = [('B', 68), ('D', 70), ('A', 67), ('C', 69)]\n",
    "kth_elements_to_filter = [67, 70, 71, 75]\n",
    "kth_index = 1\n",
    "\n",
    "filtered_tuples = filter_tuples_by_kth_element(tuples_list, kth_elements_to_filter, kth_index)\n",
    "\n",
    "print(\"Filtered tuples:\", filtered_tuples)\n"
   ]
  },
  {
   "cell_type": "markdown",
   "id": "5175ae98",
   "metadata": {},
   "source": [
    "### 42. Write a Python program to Closest Pair to Kth index element in Tuple"
   ]
  },
  {
   "cell_type": "code",
   "execution_count": 45,
   "id": "b3a73cca",
   "metadata": {},
   "outputs": [
    {
     "name": "stdout",
     "output_type": "stream",
     "text": [
      "Nearest Tuple: (9, 2)\n"
     ]
    }
   ],
   "source": [
    "#42.\n",
    "tuple_list = [(23, 18), (9, 2), (2, 3), (9, 18), (23, 2)]\n",
    "\n",
    "def closest_pair_to_kth_element(tuple_list, given_tuple, kth_index):\n",
    "    min_distance = float('inf')\n",
    "    nearest_tuple = None\n",
    "\n",
    "    for t in tuple_list:\n",
    "        distance = abs(t[kth_index] - given_tuple[kth_index])\n",
    "        if distance < min_distance:\n",
    "            min_distance = distance\n",
    "            nearest_tuple = t\n",
    "\n",
    "    return nearest_tuple\n",
    "\n",
    "# Example usage\n",
    "tuple_list = [(23, 18), (9, 2), (2, 3), (9, 18), (23, 2)]\n",
    "given_tuple = (20, 2)\n",
    "kth_index = 1\n",
    "\n",
    "nearest_tuple = closest_pair_to_kth_element(tuple_list, given_tuple, kth_index)\n",
    "\n",
    "print(\"Nearest Tuple:\", nearest_tuple)\n"
   ]
  },
  {
   "cell_type": "markdown",
   "id": "ce287feb",
   "metadata": {},
   "source": [
    "### 43. Write a Python program to Tuple List intersection (Order irrespective)"
   ]
  },
  {
   "cell_type": "code",
   "execution_count": 46,
   "id": "4adc106e",
   "metadata": {},
   "outputs": [
    {
     "name": "stdout",
     "output_type": "stream",
     "text": [
      "Intersection: {(3, 4)}\n"
     ]
    }
   ],
   "source": [
    "#43.\n",
    "\n",
    "list1 = [(3, 4), (5, 6), (9, 10), (4, 5)]\n",
    "list2 = [(5, 4), (3, 4), (6, 5), (9, 11)]\n",
    "\n",
    "def tuple_list_intersection(list1, list2):\n",
    "    set1 = set(list1)\n",
    "    set2 = set(list2)\n",
    "\n",
    "    intersection = set1.intersection(set2)\n",
    "\n",
    "    return intersection\n",
    "\n",
    "# Example usage\n",
    "list1 = [(3, 4), (5, 6), (9, 10), (4, 5)]\n",
    "list2 = [(5, 4), (3, 4), (6, 5), (9, 11)]\n",
    "\n",
    "result_intersection = tuple_list_intersection(list1, list2)\n",
    "\n",
    "print(\"Intersection:\", result_intersection)\n"
   ]
  },
  {
   "cell_type": "markdown",
   "id": "aa8b698c",
   "metadata": {},
   "source": [
    "### 44. Write a Python program to Intersection in Tuple Records Data"
   ]
  },
  {
   "cell_type": "code",
   "execution_count": 47,
   "id": "4c1c64eb",
   "metadata": {},
   "outputs": [
    {
     "name": "stdout",
     "output_type": "stream",
     "text": [
      "Intersection: {('A', 65), ('D', 68)}\n"
     ]
    }
   ],
   "source": [
    "#44. \n",
    "\n",
    "list11 = [ ('A', 65), ('D', 68), ('B', 66) ]\n",
    "list22=[ ('D', 68), ('C', 67), ('A', 65) ]\n",
    "    \n",
    "def tuple_list_intersection1(list1, list2):\n",
    "    set1 = set(list1)\n",
    "    set2 = set(list2)\n",
    "\n",
    "    intersection = set1.intersection(set2)\n",
    "\n",
    "    return intersection\n",
    "\n",
    "# Example usage\n",
    "list1 = [ ('A', 65), ('D', 68), ('B', 66) ]\n",
    "list2 =[ ('D', 68), ('C', 67), ('A', 65) ]\n",
    "\n",
    "result_intersection = tuple_list_intersection1(list1, list2)\n",
    "\n",
    "print(\"Intersection:\", result_intersection)\n"
   ]
  },
  {
   "cell_type": "markdown",
   "id": "d5d1b720",
   "metadata": {},
   "source": [
    "### 45. Write a Python program to Unique Tuple Frequency (Order Irrespective)"
   ]
  },
  {
   "cell_type": "code",
   "execution_count": 48,
   "id": "5d2ece4e",
   "metadata": {},
   "outputs": [
    {
     "ename": "TypeError",
     "evalue": "'tuple' object is not callable",
     "output_type": "error",
     "traceback": [
      "\u001b[1;31m---------------------------------------------------------------------------\u001b[0m",
      "\u001b[1;31mTypeError\u001b[0m                                 Traceback (most recent call last)",
      "Cell \u001b[1;32mIn[48], line 19\u001b[0m\n\u001b[0;32m     17\u001b[0m \u001b[38;5;66;03m# Example usage\u001b[39;00m\n\u001b[0;32m     18\u001b[0m input_tuples \u001b[38;5;241m=\u001b[39m [(\u001b[38;5;241m3\u001b[39m, \u001b[38;5;241m4\u001b[39m), (\u001b[38;5;241m1\u001b[39m, \u001b[38;5;241m2\u001b[39m), (\u001b[38;5;241m4\u001b[39m, \u001b[38;5;241m3\u001b[39m), (\u001b[38;5;241m5\u001b[39m, \u001b[38;5;241m6\u001b[39m)]\n\u001b[1;32m---> 19\u001b[0m result \u001b[38;5;241m=\u001b[39m unique_tuple_frequency(input_tuples)\n\u001b[0;32m     21\u001b[0m \u001b[38;5;28mprint\u001b[39m(\u001b[38;5;124m\"\u001b[39m\u001b[38;5;124mUnique tuples Frequency:\u001b[39m\u001b[38;5;124m\"\u001b[39m, result)\n\u001b[0;32m     22\u001b[0m \u001b[38;5;28mprint\u001b[39m(\u001b[38;5;124m\"\u001b[39m\u001b[38;5;124mUnique tuples Frequency Count:\u001b[39m\u001b[38;5;124m\"\u001b[39m, \u001b[38;5;28mlen\u001b[39m(result))\n",
      "Cell \u001b[1;32mIn[48], line 10\u001b[0m, in \u001b[0;36munique_tuple_frequency\u001b[1;34m(tuple_list)\u001b[0m\n\u001b[0;32m      7\u001b[0m unique_tuples \u001b[38;5;241m=\u001b[39m []\n\u001b[0;32m      9\u001b[0m \u001b[38;5;28;01mfor\u001b[39;00m tup \u001b[38;5;129;01min\u001b[39;00m tuple_list:\n\u001b[1;32m---> 10\u001b[0m     sorted_tup \u001b[38;5;241m=\u001b[39m \u001b[38;5;28mtuple\u001b[39m(\u001b[38;5;28msorted\u001b[39m(tup))\n\u001b[0;32m     11\u001b[0m     \u001b[38;5;28;01mif\u001b[39;00m sorted_tup \u001b[38;5;129;01mnot\u001b[39;00m \u001b[38;5;129;01min\u001b[39;00m seen:\n\u001b[0;32m     12\u001b[0m         seen\u001b[38;5;241m.\u001b[39madd(sorted_tup)\n",
      "\u001b[1;31mTypeError\u001b[0m: 'tuple' object is not callable"
     ]
    }
   ],
   "source": [
    "#45.\n",
    "\n",
    "input_tuples = [(3, 4), (1, 2), (4, 3), (5, 6)]\n",
    "\n",
    "def unique_tuple_frequency(tuple_list):\n",
    "    seen = set()\n",
    "    unique_tuples = []\n",
    "\n",
    "    for tup in tuple_list:\n",
    "        sorted_tup = tuple(sorted(tup))\n",
    "        if sorted_tup not in seen:\n",
    "            seen.add(sorted_tup)\n",
    "            unique_tuples.append(tup)\n",
    "\n",
    "    return unique_tuples\n",
    "\n",
    "# Example usage\n",
    "input_tuples = [(3, 4), (1, 2), (4, 3), (5, 6)]\n",
    "result = unique_tuple_frequency(input_tuples)\n",
    "\n",
    "print(\"Unique tuples Frequency:\", result)\n",
    "print(\"Unique tuples Frequency Count:\", len(result))\n"
   ]
  },
  {
   "cell_type": "markdown",
   "id": "7f5af23c",
   "metadata": {},
   "source": [
    "### 46. Write a Python program to Skew Nested Tuple Summation"
   ]
  },
  {
   "cell_type": "code",
   "execution_count": 49,
   "id": "37d787a6",
   "metadata": {},
   "outputs": [
    {
     "name": "stdout",
     "output_type": "stream",
     "text": [
      "Summation of 1st positions: 15\n"
     ]
    }
   ],
   "source": [
    "#46.\n",
    "nested_tuple = (1, (2, (3, (4, (5, None)))))\n",
    "\n",
    "def skew_nested_tuple_sum(tup):\n",
    "    if tup is None:\n",
    "        return 0\n",
    "    else:\n",
    "        return tup[0] + skew_nested_tuple_sum(tup[1])\n",
    "\n",
    "# Example usage\n",
    "nested_tuple = (1, (2, (3, (4, (5, None)))))\n",
    "\n",
    "result = skew_nested_tuple_sum(nested_tuple)\n",
    "\n",
    "print(\"Summation of 1st positions:\", result)\n"
   ]
  },
  {
   "cell_type": "markdown",
   "id": "587f0dfd",
   "metadata": {},
   "source": [
    "### 47. Write a Python program to Convert Binary tuple to Integer"
   ]
  },
  {
   "cell_type": "code",
   "execution_count": 50,
   "id": "889c6b6e",
   "metadata": {},
   "outputs": [
    {
     "name": "stdout",
     "output_type": "stream",
     "text": [
      "Decimal number is: 10\n"
     ]
    }
   ],
   "source": [
    "#47.\n",
    "binary_tuple = (1, 0, 1, 0)\n",
    "\n",
    "def binary_tuple_to_integer(binary_tuple):\n",
    "    binary_str = ''.join(map(str, binary_tuple))\n",
    "    decimal_number = int(binary_str, 2)\n",
    "    return decimal_number\n",
    "\n",
    "# Example usage\n",
    "binary_tuple = (1, 0, 1, 0)\n",
    "\n",
    "result = binary_tuple_to_integer(binary_tuple)\n",
    "\n",
    "print(\"Decimal number is:\", result)\n"
   ]
  },
  {
   "cell_type": "markdown",
   "id": "5e69c42d",
   "metadata": {},
   "source": [
    "### 48. Write a Python program to Tuple XOR operation"
   ]
  },
  {
   "cell_type": "code",
   "execution_count": 51,
   "id": "dea4e4f1",
   "metadata": {},
   "outputs": [
    {
     "ename": "TypeError",
     "evalue": "'tuple' object is not callable",
     "output_type": "error",
     "traceback": [
      "\u001b[1;31m---------------------------------------------------------------------------\u001b[0m",
      "\u001b[1;31mTypeError\u001b[0m                                 Traceback (most recent call last)",
      "Cell \u001b[1;32mIn[51], line 13\u001b[0m\n\u001b[0;32m     10\u001b[0m tuple1 \u001b[38;5;241m=\u001b[39m (\u001b[38;5;241m10\u001b[39m, \u001b[38;5;241m4\u001b[39m, \u001b[38;5;241m6\u001b[39m, \u001b[38;5;241m9\u001b[39m)\n\u001b[0;32m     11\u001b[0m tuple2 \u001b[38;5;241m=\u001b[39m (\u001b[38;5;241m5\u001b[39m, \u001b[38;5;241m2\u001b[39m, \u001b[38;5;241m3\u001b[39m, \u001b[38;5;241m3\u001b[39m)\n\u001b[1;32m---> 13\u001b[0m result_tuple \u001b[38;5;241m=\u001b[39m tuple_xor(tuple1, tuple2)\n\u001b[0;32m     15\u001b[0m \u001b[38;5;28mprint\u001b[39m(\u001b[38;5;124m\"\u001b[39m\u001b[38;5;124mTuple 1:\u001b[39m\u001b[38;5;124m\"\u001b[39m, tuple1)\n\u001b[0;32m     16\u001b[0m \u001b[38;5;28mprint\u001b[39m(\u001b[38;5;124m\"\u001b[39m\u001b[38;5;124mTuple 2:\u001b[39m\u001b[38;5;124m\"\u001b[39m, tuple2)\n",
      "Cell \u001b[1;32mIn[51], line 6\u001b[0m, in \u001b[0;36mtuple_xor\u001b[1;34m(tuple1, tuple2)\u001b[0m\n\u001b[0;32m      5\u001b[0m \u001b[38;5;28;01mdef\u001b[39;00m \u001b[38;5;21mtuple_xor\u001b[39m(tuple1, tuple2):\n\u001b[1;32m----> 6\u001b[0m     result \u001b[38;5;241m=\u001b[39m \u001b[38;5;28mtuple\u001b[39m(x \u001b[38;5;241m^\u001b[39m y \u001b[38;5;28;01mfor\u001b[39;00m x, y \u001b[38;5;129;01min\u001b[39;00m \u001b[38;5;28mzip\u001b[39m(tuple1, tuple2))\n\u001b[0;32m      7\u001b[0m     \u001b[38;5;28;01mreturn\u001b[39;00m result\n",
      "\u001b[1;31mTypeError\u001b[0m: 'tuple' object is not callable"
     ]
    }
   ],
   "source": [
    "#48.\n",
    "tuple1 = (10, 4, 6, 9)\n",
    "tuple2 = (5, 2, 3, 3)\n",
    "\n",
    "def tuple_xor(tuple1, tuple2):\n",
    "    result = tuple(x ^ y for x, y in zip(tuple1, tuple2))\n",
    "    return result\n",
    "\n",
    "# Example usage\n",
    "tuple1 = (10, 4, 6, 9)\n",
    "tuple2 = (5, 2, 3, 3)\n",
    "\n",
    "result_tuple = tuple_xor(tuple1, tuple2)\n",
    "\n",
    "print(\"Tuple 1:\", tuple1)\n",
    "print(\"Tuple 2:\", tuple2)\n",
    "print(\"XOR tuple:\", result_tuple)\n"
   ]
  },
  {
   "cell_type": "markdown",
   "id": "7a1cd5e9",
   "metadata": {},
   "source": [
    "### 49. Write a Python program to AND operation between Tuples"
   ]
  },
  {
   "cell_type": "code",
   "execution_count": 52,
   "id": "41e529fa",
   "metadata": {},
   "outputs": [
    {
     "ename": "TypeError",
     "evalue": "'tuple' object is not callable",
     "output_type": "error",
     "traceback": [
      "\u001b[1;31m---------------------------------------------------------------------------\u001b[0m",
      "\u001b[1;31mTypeError\u001b[0m                                 Traceback (most recent call last)",
      "Cell \u001b[1;32mIn[52], line 13\u001b[0m\n\u001b[0;32m     10\u001b[0m tuple1 \u001b[38;5;241m=\u001b[39m (\u001b[38;5;241m10\u001b[39m, \u001b[38;5;241m4\u001b[39m, \u001b[38;5;241m6\u001b[39m, \u001b[38;5;241m9\u001b[39m)\n\u001b[0;32m     11\u001b[0m tuple2 \u001b[38;5;241m=\u001b[39m (\u001b[38;5;241m5\u001b[39m, \u001b[38;5;241m2\u001b[39m, \u001b[38;5;241m3\u001b[39m, \u001b[38;5;241m3\u001b[39m)\n\u001b[1;32m---> 13\u001b[0m result_tuple \u001b[38;5;241m=\u001b[39m tuple_and(tuple1, tuple2)\n\u001b[0;32m     15\u001b[0m \u001b[38;5;28mprint\u001b[39m(\u001b[38;5;124m\"\u001b[39m\u001b[38;5;124mTuple 1:\u001b[39m\u001b[38;5;124m\"\u001b[39m, tuple1)\n\u001b[0;32m     16\u001b[0m \u001b[38;5;28mprint\u001b[39m(\u001b[38;5;124m\"\u001b[39m\u001b[38;5;124mTuple 2:\u001b[39m\u001b[38;5;124m\"\u001b[39m, tuple2)\n",
      "Cell \u001b[1;32mIn[52], line 6\u001b[0m, in \u001b[0;36mtuple_and\u001b[1;34m(tuple1, tuple2)\u001b[0m\n\u001b[0;32m      5\u001b[0m \u001b[38;5;28;01mdef\u001b[39;00m \u001b[38;5;21mtuple_and\u001b[39m(tuple1, tuple2):\n\u001b[1;32m----> 6\u001b[0m     result \u001b[38;5;241m=\u001b[39m \u001b[38;5;28mtuple\u001b[39m(x \u001b[38;5;241m&\u001b[39m y \u001b[38;5;28;01mfor\u001b[39;00m x, y \u001b[38;5;129;01min\u001b[39;00m \u001b[38;5;28mzip\u001b[39m(tuple1, tuple2))\n\u001b[0;32m      7\u001b[0m     \u001b[38;5;28;01mreturn\u001b[39;00m result\n",
      "\u001b[1;31mTypeError\u001b[0m: 'tuple' object is not callable"
     ]
    }
   ],
   "source": [
    "#49.\n",
    "tuple1 = (10, 4, 6, 9)\n",
    "tuple2 = (5, 2, 3, 3)\n",
    "\n",
    "def tuple_and(tuple1, tuple2):\n",
    "    result = tuple(x & y for x, y in zip(tuple1, tuple2))\n",
    "    return result\n",
    "\n",
    "# Example usage\n",
    "tuple1 = (10, 4, 6, 9)\n",
    "tuple2 = (5, 2, 3, 3)\n",
    "\n",
    "result_tuple = tuple_and(tuple1, tuple2)\n",
    "\n",
    "print(\"Tuple 1:\", tuple1)\n",
    "print(\"Tuple 2:\", tuple2)\n",
    "print(\"AND operation between Tuple:\", result_tuple)\n"
   ]
  },
  {
   "cell_type": "markdown",
   "id": "c8284cc0",
   "metadata": {},
   "source": [
    "### 50. Write a Python program to Elementwise AND in tuples"
   ]
  },
  {
   "cell_type": "code",
   "execution_count": 53,
   "id": "cda5cd3e",
   "metadata": {},
   "outputs": [
    {
     "ename": "TypeError",
     "evalue": "'tuple' object is not callable",
     "output_type": "error",
     "traceback": [
      "\u001b[1;31m---------------------------------------------------------------------------\u001b[0m",
      "\u001b[1;31mTypeError\u001b[0m                                 Traceback (most recent call last)",
      "Cell \u001b[1;32mIn[53], line 13\u001b[0m\n\u001b[0;32m     10\u001b[0m tuple1 \u001b[38;5;241m=\u001b[39m (\u001b[38;5;241m10\u001b[39m, \u001b[38;5;241m4\u001b[39m, \u001b[38;5;241m6\u001b[39m, \u001b[38;5;241m9\u001b[39m)\n\u001b[0;32m     11\u001b[0m tuple2 \u001b[38;5;241m=\u001b[39m (\u001b[38;5;241m5\u001b[39m, \u001b[38;5;241m2\u001b[39m, \u001b[38;5;241m3\u001b[39m, \u001b[38;5;241m3\u001b[39m)\n\u001b[1;32m---> 13\u001b[0m result_tuple \u001b[38;5;241m=\u001b[39m elementwise_and(tuple1, tuple2)\n\u001b[0;32m     15\u001b[0m \u001b[38;5;28mprint\u001b[39m(\u001b[38;5;124m\"\u001b[39m\u001b[38;5;124mTuple 1:\u001b[39m\u001b[38;5;124m\"\u001b[39m, tuple1)\n\u001b[0;32m     16\u001b[0m \u001b[38;5;28mprint\u001b[39m(\u001b[38;5;124m\"\u001b[39m\u001b[38;5;124mTuple 2:\u001b[39m\u001b[38;5;124m\"\u001b[39m, tuple2)\n",
      "Cell \u001b[1;32mIn[53], line 6\u001b[0m, in \u001b[0;36melementwise_and\u001b[1;34m(tuple1, tuple2)\u001b[0m\n\u001b[0;32m      5\u001b[0m \u001b[38;5;28;01mdef\u001b[39;00m \u001b[38;5;21melementwise_and\u001b[39m(tuple1, tuple2):\n\u001b[1;32m----> 6\u001b[0m     result \u001b[38;5;241m=\u001b[39m \u001b[38;5;28mtuple\u001b[39m(x \u001b[38;5;241m&\u001b[39m y \u001b[38;5;28;01mfor\u001b[39;00m x, y \u001b[38;5;129;01min\u001b[39;00m \u001b[38;5;28mzip\u001b[39m(tuple1, tuple2))\n\u001b[0;32m      7\u001b[0m     \u001b[38;5;28;01mreturn\u001b[39;00m result\n",
      "\u001b[1;31mTypeError\u001b[0m: 'tuple' object is not callable"
     ]
    }
   ],
   "source": [
    "#50.\n",
    "tuple1 = (10, 4, 6, 9)\n",
    "tuple2 = (5, 2, 3, 3)\n",
    "\n",
    "def elementwise_and(tuple1, tuple2):\n",
    "    result = tuple(x & y for x, y in zip(tuple1, tuple2))\n",
    "    return result\n",
    "\n",
    "# Example usage\n",
    "tuple1 = (10, 4, 6, 9)\n",
    "tuple2 = (5, 2, 3, 3)\n",
    "\n",
    "result_tuple = elementwise_and(tuple1, tuple2)\n",
    "\n",
    "print(\"Tuple 1:\", tuple1)\n",
    "print(\"Tuple 2:\", tuple2)\n",
    "print(\"Elementwise AND Tuple:\", result_tuple)\n"
   ]
  },
  {
   "cell_type": "code",
   "execution_count": null,
   "id": "d4709757",
   "metadata": {},
   "outputs": [],
   "source": []
  }
 ],
 "metadata": {
  "kernelspec": {
   "display_name": "Python 3 (ipykernel)",
   "language": "python",
   "name": "python3"
  },
  "language_info": {
   "codemirror_mode": {
    "name": "ipython",
    "version": 3
   },
   "file_extension": ".py",
   "mimetype": "text/x-python",
   "name": "python",
   "nbconvert_exporter": "python",
   "pygments_lexer": "ipython3",
   "version": "3.11.4"
  }
 },
 "nbformat": 4,
 "nbformat_minor": 5
}
