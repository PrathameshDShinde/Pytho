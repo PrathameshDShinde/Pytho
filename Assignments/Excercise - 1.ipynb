{
 "cells": [
  {
   "cell_type": "code",
   "execution_count": 1,
   "id": "0dfb268e",
   "metadata": {},
   "outputs": [],
   "source": [
    "%matplotlib inline\n",
    "import pandas as pd\n",
    "import seaborn as sns"
   ]
  },
  {
   "cell_type": "code",
   "execution_count": 2,
   "id": "1812712c",
   "metadata": {},
   "outputs": [
    {
     "name": "stdout",
     "output_type": "stream",
     "text": [
      "                  title  year      name   type                character     n\n",
      "0        Closet Monster  2015  Buffy #1  actor                  Buffy 4   NaN\n",
      "1       Suuri illusioni  1985    Homo $  actor                   Guests  22.0\n",
      "2   Battle of the Sexes  2017   $hutter  actor          Bobby Riggs Fan  10.0\n",
      "3  Secret in Their Eyes  2015   $hutter  actor          2002 Dodger Fan   NaN\n",
      "4            Steve Jobs  2015   $hutter  actor  1988 Opera House Patron   NaN\n"
     ]
    }
   ],
   "source": [
    "cast = pd.read_csv(\"C:/Data Science/cast.csv\")\n",
    "print(cast.head())"
   ]
  },
  {
   "cell_type": "markdown",
   "id": "f871d2f5",
   "metadata": {},
   "source": [
    "###  1) How many movies are listed in the titles dataframe?\n"
   ]
  },
  {
   "cell_type": "code",
   "execution_count": 3,
   "id": "6aea919d",
   "metadata": {},
   "outputs": [
    {
     "name": "stdout",
     "output_type": "stream",
     "text": [
      "Movies are listed in the titles dataframe : 3611212\n"
     ]
    }
   ],
   "source": [
    "print(\"Movies are listed in the titles dataframe :\",cast['title'].count())"
   ]
  },
  {
   "cell_type": "markdown",
   "id": "4962d4f7",
   "metadata": {},
   "source": [
    "### 2) What are the earliest two films listed in the titles dataframe?"
   ]
  },
  {
   "cell_type": "code",
   "execution_count": 110,
   "id": "138ae49d",
   "metadata": {},
   "outputs": [
    {
     "name": "stdout",
     "output_type": "stream",
     "text": [
      "The earliest two films listed in the dataframe are 'Miss Jerry' and 'Soldiers of the Cross'.\n"
     ]
    }
   ],
   "source": [
    "sorted_by_year = cast.sort_values(by='year',ascending=True)\n",
    "sorted_by_year.iloc[0:5:3]\n",
    "print(f\"The earliest two films listed in the dataframe are 'Miss Jerry' and 'Soldiers of the Cross'.\")"
   ]
  },
  {
   "cell_type": "markdown",
   "id": "e433b5ba",
   "metadata": {},
   "source": [
    "### 3) How many movies have the title \"Hamlet\"?"
   ]
  },
  {
   "cell_type": "code",
   "execution_count": 5,
   "id": "a2a49825",
   "metadata": {},
   "outputs": [
    {
     "name": "stdout",
     "output_type": "stream",
     "text": [
      "Total number of movies have the title name Hamlet : 313\n"
     ]
    }
   ],
   "source": [
    "Hamlet = cast[cast['title'] == \"Hamlet\"]\n",
    "print(\"Total number of movies have the title name Hamlet :\",Hamlet['title'].count())"
   ]
  },
  {
   "cell_type": "markdown",
   "id": "b5940e3c",
   "metadata": {},
   "source": [
    "### 4) How many movies are titled \"North by Northwest\"?"
   ]
  },
  {
   "cell_type": "code",
   "execution_count": 6,
   "id": "d9d7a3f8",
   "metadata": {},
   "outputs": [
    {
     "name": "stdout",
     "output_type": "stream",
     "text": [
      "Total number of movies have the title name North by Northwest  : 112\n"
     ]
    }
   ],
   "source": [
    "North_by_Northwest = cast[cast['title'] == \"North by Northwest\"]\n",
    "print(\"Total number of movies have the title name North by Northwest  :\",North_by_Northwest['title'].count())"
   ]
  },
  {
   "cell_type": "markdown",
   "id": "1575197f",
   "metadata": {},
   "source": [
    "### 5) When was the first movie titled \"Hamlet\" made?"
   ]
  },
  {
   "cell_type": "code",
   "execution_count": 7,
   "id": "e188de19",
   "metadata": {},
   "outputs": [
    {
     "name": "stdout",
     "output_type": "stream",
     "text": [
      "The first movie titled Hamlet made in year : 1910\n"
     ]
    }
   ],
   "source": [
    "print(\"The first movie titled Hamlet made in year :\",Hamlet['year'].min())\n",
    "\n"
   ]
  },
  {
   "cell_type": "markdown",
   "id": "2ca0c322",
   "metadata": {},
   "source": [
    "### 6) List all of the \"Treasure Island\" movies from earliest to most recent."
   ]
  },
  {
   "cell_type": "code",
   "execution_count": 50,
   "id": "f2cfe674",
   "metadata": {},
   "outputs": [
    {
     "name": "stdout",
     "output_type": "stream",
     "text": [
      "       index            title  year                  name     type  \\\n",
      "0     830114  Treasure Island  1918        Charles Gorman    actor   \n",
      "1     840745  Treasure Island  1918             Joe Grant    actor   \n",
      "2     909157  Treasure Island  1918          Edwin Harley    actor   \n",
      "3    3298306  Treasure Island  1918      Violet Radcliffe  actress   \n",
      "4    1715014  Treasure Island  1918            Lloyd Perl    actor   \n",
      "..       ...              ...   ...                   ...      ...   \n",
      "185  2420089  Treasure Island  1999          Caveh Zahedi    actor   \n",
      "186  1637661  Treasure Island  1999         Nick Offerman    actor   \n",
      "187  1375015  Treasure Island  1999           J.P. Manoux    actor   \n",
      "188  1797264  Treasure Island  1999  Victor Raider-Wexler    actor   \n",
      "189   307749  Treasure Island  1999          Bob Byington    actor   \n",
      "\n",
      "                   character     n  \n",
      "0            Prologue Player   NaN  \n",
      "1    Undetermined child role   NaN  \n",
      "2            Prologue Player   NaN  \n",
      "3           Long John Silver   3.0  \n",
      "4                  Black Dog   4.0  \n",
      "..                       ...   ...  \n",
      "185                   Harold   9.0  \n",
      "186                   Samuel   2.0  \n",
      "187           Officer Hughes  18.0  \n",
      "188                 Samowitz  10.0  \n",
      "189                   Thomas  12.0  \n",
      "\n",
      "[190 rows x 7 columns]\n"
     ]
    }
   ],
   "source": [
    "Treasure_Island = cast[cast['title'] == \"Treasure Island\"]\n",
    "print(Treasure_Island.sort_values(by = 'year',ascending = True).reset_index())"
   ]
  },
  {
   "cell_type": "markdown",
   "id": "233363f5",
   "metadata": {},
   "source": [
    "### 7) How many movies were made in the year 1950?"
   ]
  },
  {
   "cell_type": "code",
   "execution_count": 9,
   "id": "f5897c7e",
   "metadata": {},
   "outputs": [
    {
     "name": "stdout",
     "output_type": "stream",
     "text": [
      "Total movies were made in the year 1950 :  22006\n"
     ]
    }
   ],
   "source": [
    "movies_made_in_1950 = cast[cast['year'] == 1950]\n",
    "print(\"Total movies were made in the year 1950 : \",len(movies_made_in_1950))"
   ]
  },
  {
   "cell_type": "markdown",
   "id": "32247d24",
   "metadata": {},
   "source": [
    "### 8) How many movies were made in the year 1960?"
   ]
  },
  {
   "cell_type": "code",
   "execution_count": 10,
   "id": "1eaf5860",
   "metadata": {},
   "outputs": [
    {
     "name": "stdout",
     "output_type": "stream",
     "text": [
      "Total movies were made in the year 1960 :  18456\n"
     ]
    }
   ],
   "source": [
    "movies_made_in_1960 = cast[cast['year'] == 1960]\n",
    "print(\"Total movies were made in the year 1960 : \",len(movies_made_in_1960))"
   ]
  },
  {
   "cell_type": "markdown",
   "id": "c1cdcdc2",
   "metadata": {},
   "source": [
    "### 9) How many movies were made from 1950 through 1959?"
   ]
  },
  {
   "cell_type": "code",
   "execution_count": 11,
   "id": "4e808801",
   "metadata": {},
   "outputs": [
    {
     "name": "stdout",
     "output_type": "stream",
     "text": [
      "The number of movies made from 1950 through 1959 is: 210986\n"
     ]
    }
   ],
   "source": [
    "movies_1950s = cast[(cast['year'] >= 1950) & (cast['year'] <= 1959)]\n",
    "print(\"The number of movies made from 1950 through 1959 is:\",len(movies_1950s))"
   ]
  },
  {
   "cell_type": "markdown",
   "id": "ed0460a3",
   "metadata": {},
   "source": [
    "### 10) In what years has a movie titled \"Batman\" been released?"
   ]
  },
  {
   "cell_type": "code",
   "execution_count": 12,
   "id": "24067e7e",
   "metadata": {},
   "outputs": [
    {
     "name": "stdout",
     "output_type": "stream",
     "text": [
      "years has a movie titled Batman been released : [1943 1989]\n"
     ]
    }
   ],
   "source": [
    "Batman = cast[cast['title'] == \"Batman\"]\n",
    "print(\"years has a movie titled Batman been released :\",Batman['year'].unique())\n"
   ]
  },
  {
   "cell_type": "markdown",
   "id": "5b85a23b",
   "metadata": {},
   "source": [
    "### 11) How many roles were there in the movie \"Inception\"?"
   ]
  },
  {
   "cell_type": "code",
   "execution_count": 13,
   "id": "7e03dc19",
   "metadata": {},
   "outputs": [
    {
     "name": "stdout",
     "output_type": "stream",
     "text": [
      "Total no. roles were there in the movie Inception - 77\n"
     ]
    }
   ],
   "source": [
    "inception = cast[cast['title'] == \"Inception\"]\n",
    "print(\"Total no. roles were there in the movie Inception -\",len(inception))\n"
   ]
  },
  {
   "cell_type": "markdown",
   "id": "31195481",
   "metadata": {},
   "source": [
    "### 12) How many roles in the movie \"Inception\" are NOT ranked by an \"n\" value?"
   ]
  },
  {
   "cell_type": "code",
   "execution_count": 14,
   "id": "e3380a18",
   "metadata": {},
   "outputs": [
    {
     "name": "stdout",
     "output_type": "stream",
     "text": [
      "The number of roles in the movie Inception are NOT ranked by an n value : 26\n"
     ]
    }
   ],
   "source": [
    "print(\"The number of roles in the movie Inception are NOT ranked by an n value :\",inception['n'].isnull().sum())"
   ]
  },
  {
   "cell_type": "markdown",
   "id": "c70034b9",
   "metadata": {},
   "source": [
    "### 13) But how many roles in the movie \"Inception\" did receive an \"n\" value?"
   ]
  },
  {
   "cell_type": "code",
   "execution_count": 15,
   "id": "a277037e",
   "metadata": {},
   "outputs": [
    {
     "name": "stdout",
     "output_type": "stream",
     "text": [
      "The number of roles in the movie Inception are NOT ranked by an n value : 51\n"
     ]
    }
   ],
   "source": [
    "print(\"The number of roles in the movie Inception are NOT ranked by an n value :\",inception['n'].notnull().sum())"
   ]
  },
  {
   "cell_type": "markdown",
   "id": "d90dd999",
   "metadata": {},
   "source": [
    "### 14) Display the cast of \"North by Northwest\" in their correct \"n\"-value order, ignoring roles that did not earn a numeric \"n\" value."
   ]
  },
  {
   "cell_type": "code",
   "execution_count": 16,
   "id": "7a331f43",
   "metadata": {},
   "outputs": [
    {
     "data": {
      "text/html": [
       "<div>\n",
       "<style scoped>\n",
       "    .dataframe tbody tr th:only-of-type {\n",
       "        vertical-align: middle;\n",
       "    }\n",
       "\n",
       "    .dataframe tbody tr th {\n",
       "        vertical-align: top;\n",
       "    }\n",
       "\n",
       "    .dataframe thead th {\n",
       "        text-align: right;\n",
       "    }\n",
       "</style>\n",
       "<table border=\"1\" class=\"dataframe\">\n",
       "  <thead>\n",
       "    <tr style=\"text-align: right;\">\n",
       "      <th></th>\n",
       "      <th>title</th>\n",
       "      <th>year</th>\n",
       "      <th>name</th>\n",
       "      <th>type</th>\n",
       "      <th>character</th>\n",
       "      <th>n</th>\n",
       "    </tr>\n",
       "  </thead>\n",
       "  <tbody>\n",
       "    <tr>\n",
       "      <th>840374</th>\n",
       "      <td>North by Northwest</td>\n",
       "      <td>1959</td>\n",
       "      <td>Cary Grant</td>\n",
       "      <td>actor</td>\n",
       "      <td>Roger O. Thornhill</td>\n",
       "      <td>1.0</td>\n",
       "    </tr>\n",
       "    <tr>\n",
       "      <th>3361396</th>\n",
       "      <td>North by Northwest</td>\n",
       "      <td>1959</td>\n",
       "      <td>Eva Marie Saint</td>\n",
       "      <td>actress</td>\n",
       "      <td>Eve Kendall</td>\n",
       "      <td>2.0</td>\n",
       "    </tr>\n",
       "    <tr>\n",
       "      <th>1404704</th>\n",
       "      <td>North by Northwest</td>\n",
       "      <td>1959</td>\n",
       "      <td>James Mason</td>\n",
       "      <td>actor</td>\n",
       "      <td>Phillip Vandamm</td>\n",
       "      <td>3.0</td>\n",
       "    </tr>\n",
       "    <tr>\n",
       "      <th>3024085</th>\n",
       "      <td>North by Northwest</td>\n",
       "      <td>1959</td>\n",
       "      <td>Jessie Royce Landis</td>\n",
       "      <td>actress</td>\n",
       "      <td>Clara Thornhill</td>\n",
       "      <td>4.0</td>\n",
       "    </tr>\n",
       "    <tr>\n",
       "      <th>343701</th>\n",
       "      <td>North by Northwest</td>\n",
       "      <td>1959</td>\n",
       "      <td>Leo G. Carroll</td>\n",
       "      <td>actor</td>\n",
       "      <td>The Professor</td>\n",
       "      <td>5.0</td>\n",
       "    </tr>\n",
       "    <tr>\n",
       "      <th>2923056</th>\n",
       "      <td>North by Northwest</td>\n",
       "      <td>1959</td>\n",
       "      <td>Josephine Hutchinson</td>\n",
       "      <td>actress</td>\n",
       "      <td>Mrs. Townsend</td>\n",
       "      <td>6.0</td>\n",
       "    </tr>\n",
       "    <tr>\n",
       "      <th>1634552</th>\n",
       "      <td>North by Northwest</td>\n",
       "      <td>1959</td>\n",
       "      <td>Philip Ober</td>\n",
       "      <td>actor</td>\n",
       "      <td>Lester Townsend</td>\n",
       "      <td>7.0</td>\n",
       "    </tr>\n",
       "    <tr>\n",
       "      <th>1229083</th>\n",
       "      <td>North by Northwest</td>\n",
       "      <td>1959</td>\n",
       "      <td>Martin Landau</td>\n",
       "      <td>actor</td>\n",
       "      <td>Leonard</td>\n",
       "      <td>8.0</td>\n",
       "    </tr>\n",
       "    <tr>\n",
       "      <th>2357939</th>\n",
       "      <td>North by Northwest</td>\n",
       "      <td>1959</td>\n",
       "      <td>Adam Williams</td>\n",
       "      <td>actor</td>\n",
       "      <td>Valerian</td>\n",
       "      <td>9.0</td>\n",
       "    </tr>\n",
       "    <tr>\n",
       "      <th>1746383</th>\n",
       "      <td>North by Northwest</td>\n",
       "      <td>1959</td>\n",
       "      <td>Edward Platt</td>\n",
       "      <td>actor</td>\n",
       "      <td>Victor Larrabee</td>\n",
       "      <td>10.0</td>\n",
       "    </tr>\n",
       "    <tr>\n",
       "      <th>642085</th>\n",
       "      <td>North by Northwest</td>\n",
       "      <td>1959</td>\n",
       "      <td>Robert Ellenstein</td>\n",
       "      <td>actor</td>\n",
       "      <td>Licht</td>\n",
       "      <td>11.0</td>\n",
       "    </tr>\n",
       "    <tr>\n",
       "      <th>2212083</th>\n",
       "      <td>North by Northwest</td>\n",
       "      <td>1959</td>\n",
       "      <td>Les Tremayne</td>\n",
       "      <td>actor</td>\n",
       "      <td>Auctioneer</td>\n",
       "      <td>12.0</td>\n",
       "    </tr>\n",
       "    <tr>\n",
       "      <th>447893</th>\n",
       "      <td>North by Northwest</td>\n",
       "      <td>1959</td>\n",
       "      <td>Philip Coolidge</td>\n",
       "      <td>actor</td>\n",
       "      <td>Dr. Cross</td>\n",
       "      <td>13.0</td>\n",
       "    </tr>\n",
       "    <tr>\n",
       "      <th>1454363</th>\n",
       "      <td>North by Northwest</td>\n",
       "      <td>1959</td>\n",
       "      <td>Patrick McVey</td>\n",
       "      <td>actor</td>\n",
       "      <td>Sergeant Flamm</td>\n",
       "      <td>14.0</td>\n",
       "    </tr>\n",
       "    <tr>\n",
       "      <th>198496</th>\n",
       "      <td>North by Northwest</td>\n",
       "      <td>1959</td>\n",
       "      <td>Edward Binns</td>\n",
       "      <td>actor</td>\n",
       "      <td>Captain Junket</td>\n",
       "      <td>15.0</td>\n",
       "    </tr>\n",
       "    <tr>\n",
       "      <th>1334726</th>\n",
       "      <td>North by Northwest</td>\n",
       "      <td>1959</td>\n",
       "      <td>Ken Lynch</td>\n",
       "      <td>actor</td>\n",
       "      <td>Charley - Chicago Policeman</td>\n",
       "      <td>16.0</td>\n",
       "    </tr>\n",
       "  </tbody>\n",
       "</table>\n",
       "</div>"
      ],
      "text/plain": [
       "                      title  year                  name     type  \\\n",
       "840374   North by Northwest  1959            Cary Grant    actor   \n",
       "3361396  North by Northwest  1959       Eva Marie Saint  actress   \n",
       "1404704  North by Northwest  1959           James Mason    actor   \n",
       "3024085  North by Northwest  1959   Jessie Royce Landis  actress   \n",
       "343701   North by Northwest  1959        Leo G. Carroll    actor   \n",
       "2923056  North by Northwest  1959  Josephine Hutchinson  actress   \n",
       "1634552  North by Northwest  1959           Philip Ober    actor   \n",
       "1229083  North by Northwest  1959         Martin Landau    actor   \n",
       "2357939  North by Northwest  1959         Adam Williams    actor   \n",
       "1746383  North by Northwest  1959          Edward Platt    actor   \n",
       "642085   North by Northwest  1959     Robert Ellenstein    actor   \n",
       "2212083  North by Northwest  1959          Les Tremayne    actor   \n",
       "447893   North by Northwest  1959       Philip Coolidge    actor   \n",
       "1454363  North by Northwest  1959         Patrick McVey    actor   \n",
       "198496   North by Northwest  1959          Edward Binns    actor   \n",
       "1334726  North by Northwest  1959             Ken Lynch    actor   \n",
       "\n",
       "                           character     n  \n",
       "840374            Roger O. Thornhill   1.0  \n",
       "3361396                  Eve Kendall   2.0  \n",
       "1404704              Phillip Vandamm   3.0  \n",
       "3024085              Clara Thornhill   4.0  \n",
       "343701                 The Professor   5.0  \n",
       "2923056                Mrs. Townsend   6.0  \n",
       "1634552              Lester Townsend   7.0  \n",
       "1229083                      Leonard   8.0  \n",
       "2357939                     Valerian   9.0  \n",
       "1746383              Victor Larrabee  10.0  \n",
       "642085                         Licht  11.0  \n",
       "2212083                   Auctioneer  12.0  \n",
       "447893                     Dr. Cross  13.0  \n",
       "1454363               Sergeant Flamm  14.0  \n",
       "198496                Captain Junket  15.0  \n",
       "1334726  Charley - Chicago Policeman  16.0  "
      ]
     },
     "execution_count": 16,
     "metadata": {},
     "output_type": "execute_result"
    }
   ],
   "source": [
    "North_by_Northwest1 = cast[(cast['title'] == \"North by Northwest\") & cast['n'].notnull()]\n",
    "North_by_Northwest1.sort_values(by ='n',ascending = True)"
   ]
  },
  {
   "cell_type": "markdown",
   "id": "6b4c127a",
   "metadata": {},
   "source": [
    "### 15) Display the entire cast, in \"n\"-order, of the 1972 film \"Sleuth\"."
   ]
  },
  {
   "cell_type": "code",
   "execution_count": 17,
   "id": "2e86fe0e",
   "metadata": {},
   "outputs": [
    {
     "name": "stdout",
     "output_type": "stream",
     "text": [
      "          title  year          name   type               character    n\n",
      "1396572  Sleuth  1972  Teddy Martin  actor  Police Constable Higgs  6.0\n"
     ]
    }
   ],
   "source": [
    "Sleuth = cast[(cast['title'] == 'Sleuth') & (cast['year'] == 1972)& cast['n'].notnull()]\n",
    "a = Sleuth.sort_values(by = 'n',ascending=False)\n",
    "print(a.head(1))"
   ]
  },
  {
   "cell_type": "markdown",
   "id": "df246046",
   "metadata": {},
   "source": [
    "### 16) Now display the entire cast, in \"n\"-order, of the 2007 version of \"Sleuth\"."
   ]
  },
  {
   "cell_type": "code",
   "execution_count": 51,
   "id": "2edf50dd",
   "metadata": {},
   "outputs": [
    {
     "name": "stdout",
     "output_type": "stream",
     "text": [
      "          title  year           name   type    character    n\n",
      "1741124  Sleuth  2007  Harold Pinter  actor  Man on T.V.  3.0\n"
     ]
    }
   ],
   "source": [
    "Sleuth1 = cast[(cast['title'] == 'Sleuth') & (cast['year'] == 2007) & cast['n'].notnull()]\n",
    "print(Sleuth1.sort_values(by = 'n',ascending=False).head(1))"
   ]
  },
  {
   "cell_type": "markdown",
   "id": "959cb09c",
   "metadata": {},
   "source": [
    "### 17) How many roles were credited in the silent 1921 version of Hamlet?"
   ]
  },
  {
   "cell_type": "code",
   "execution_count": 19,
   "id": "55f3a8da",
   "metadata": {},
   "outputs": [
    {
     "name": "stdout",
     "output_type": "stream",
     "text": [
      "The total number of roles were credited in the silent 1921 version of Hamlet : 9\n"
     ]
    }
   ],
   "source": [
    "Silent = cast[(cast['title'] == 'Hamlet') & (cast['year'] == 1921)]\n",
    "print(\"The total number of roles were credited in the silent 1921 version of Hamlet :\",len(Silent))"
   ]
  },
  {
   "cell_type": "markdown",
   "id": "2b5cf9ce",
   "metadata": {},
   "source": [
    "### 18) How many roles were credited in Branagh’s 1996 Hamlet?"
   ]
  },
  {
   "cell_type": "code",
   "execution_count": 20,
   "id": "52244478",
   "metadata": {},
   "outputs": [
    {
     "name": "stdout",
     "output_type": "stream",
     "text": [
      "The total no. of roles were credited in Branagh’s 1996 Hamlet: 54\n"
     ]
    }
   ],
   "source": [
    "Branagh = cast[(cast['title'] == 'Hamlet') & (cast['year'] == 1996) ]\n",
    "print(\"The total no. of roles were credited in Branagh’s 1996 Hamlet:\",len(Branagh))\n"
   ]
  },
  {
   "cell_type": "markdown",
   "id": "cbdc246a",
   "metadata": {},
   "source": [
    "### 19) How many \"Hamlet\" roles have been listed in all film credits through history?"
   ]
  },
  {
   "cell_type": "code",
   "execution_count": 21,
   "id": "c7b6aa7e",
   "metadata": {},
   "outputs": [
    {
     "name": "stdout",
     "output_type": "stream",
     "text": [
      "The total no. of Hamlet roles have been listed in all film credits through history: 313\n"
     ]
    }
   ],
   "source": [
    "Hamlet_roles = cast[cast['title'] == 'Hamlet'].sort_values(by = 'n')\n",
    "print(\"The total no. of Hamlet roles have been listed in all film credits through history:\",len(Hamlet_roles))"
   ]
  },
  {
   "cell_type": "markdown",
   "id": "12f4e457",
   "metadata": {},
   "source": [
    "### 20) How many people have played an \"Ophelia\"?"
   ]
  },
  {
   "cell_type": "code",
   "execution_count": 58,
   "id": "f4da6639",
   "metadata": {},
   "outputs": [
    {
     "name": "stdout",
     "output_type": "stream",
     "text": [
      "The total people have played an Ophelia : 2\n"
     ]
    }
   ],
   "source": [
    "Ophelia = cast[(cast['title'] == 'Ophelia')]\n",
    "people_played = len(Ophelia)\n",
    "print(\"The total people have played an Ophelia :\",people_played)\n"
   ]
  },
  {
   "cell_type": "markdown",
   "id": "a38b7934",
   "metadata": {},
   "source": [
    "### 21) How many people have played a role called \"The Dude\"?"
   ]
  },
  {
   "cell_type": "code",
   "execution_count": 70,
   "id": "8bb0a4de",
   "metadata": {},
   "outputs": [
    {
     "name": "stdout",
     "output_type": "stream",
     "text": [
      "The total no. of people have played a role called The Dude: 18\n"
     ]
    }
   ],
   "source": [
    "The_Dude = cast[cast['character'] == 'The Dude']\n",
    "print(\"The total no. of people have played a role called The Dude:\",len(The_Dude))"
   ]
  },
  {
   "cell_type": "markdown",
   "id": "c09a17bc",
   "metadata": {},
   "source": [
    "### 22) How many people have played a role called \"The Stranger\"?"
   ]
  },
  {
   "cell_type": "code",
   "execution_count": 72,
   "id": "841e8669",
   "metadata": {},
   "outputs": [
    {
     "name": "stdout",
     "output_type": "stream",
     "text": [
      "The total no. of people have played a role called The Stranger: 208\n"
     ]
    }
   ],
   "source": [
    "The_Stranger = cast[cast['character'] == 'The Stranger'] \n",
    "print(\"The total no. of people have played a role called The Stranger:\",len(The_Stranger))"
   ]
  },
  {
   "cell_type": "markdown",
   "id": "2c996e18",
   "metadata": {},
   "source": [
    "### 23) How many roles has Sidney Poitier played throughout his career?"
   ]
  },
  {
   "cell_type": "code",
   "execution_count": 76,
   "id": "855986a4",
   "metadata": {},
   "outputs": [
    {
     "name": "stdout",
     "output_type": "stream",
     "text": [
      "The total no. of roles has Sidney Poitier played throughout his career: 43\n"
     ]
    }
   ],
   "source": [
    "Sidney_Ploitier = cast[cast['name']  == 'Sidney Poitier'].sort_values(by = 'name')\n",
    "print(\"The total no. of roles has Sidney Poitier played throughout his career:\",len(Sidney_Ploitier))"
   ]
  },
  {
   "cell_type": "markdown",
   "id": "fa9bff63",
   "metadata": {},
   "source": [
    "### 24) How many roles has Judi Dench played?"
   ]
  },
  {
   "cell_type": "code",
   "execution_count": 26,
   "id": "d9eeef57",
   "metadata": {},
   "outputs": [
    {
     "name": "stdout",
     "output_type": "stream",
     "text": [
      "The total no. of roles has Judi Dench played: 55\n"
     ]
    }
   ],
   "source": [
    "Judi_Dench= cast[cast['name']  == 'Judi Dench'].count()\n",
    "print(\"The total no. of roles has Judi Dench played:\",Judi_Dench['name'])"
   ]
  },
  {
   "cell_type": "markdown",
   "id": "57dcfe84",
   "metadata": {},
   "source": [
    "### 25) List the supporting roles (having n=2) played by Cary Grant in the 1940s, in order by year.\n"
   ]
  },
  {
   "cell_type": "code",
   "execution_count": 27,
   "id": "a58085c3",
   "metadata": {},
   "outputs": [
    {
     "name": "stdout",
     "output_type": "stream",
     "text": [
      "List of the supporting roles (having n=2) played by Cary Grant in the 1940s in order by year:                    title  year        name   type    character    n\n",
      "840371  My Favorite Wife  1940  Cary Grant  actor         Nick  2.0\n",
      "840381    Penny Serenade  1941  Cary Grant  actor  Roger Adams  2.0\n"
     ]
    }
   ],
   "source": [
    "Cary_Grant_Played_roles = cast[(cast['name'] == 'Cary Grant') & ((cast['year'] >= 1940) & (cast['year'] <= 1949)) & (cast['n'] == 2) ]\n",
    "print(\"List of the supporting roles (having n=2) played by Cary Grant in the 1940s in order by year:\",Cary_Grant_Played_roles)"
   ]
  },
  {
   "cell_type": "markdown",
   "id": "6fb70594",
   "metadata": {},
   "source": [
    "### 26) How many roles were available for actors in the 1950s?"
   ]
  },
  {
   "cell_type": "code",
   "execution_count": 82,
   "id": "5545e956",
   "metadata": {},
   "outputs": [
    {
     "name": "stdout",
     "output_type": "stream",
     "text": [
      "Total no. of roles were available for actors in the 1950s - 154727\n"
     ]
    }
   ],
   "source": [
    "actors_1950s = cast[(cast['type'] == 'actor') & ((cast['year'] >= 1950) & (cast['year'] <= 1959))].sort_values(by = 'n')\n",
    "print(\"Total no. of roles were available for actors in the 1950s -\",len(actors_1950s))"
   ]
  },
  {
   "cell_type": "markdown",
   "id": "ad28b520",
   "metadata": {},
   "source": [
    "### 27) How many roles were available for actresses in the 1950s?"
   ]
  },
  {
   "cell_type": "code",
   "execution_count": 83,
   "id": "c3090c9b",
   "metadata": {},
   "outputs": [
    {
     "name": "stdout",
     "output_type": "stream",
     "text": [
      "Total no. of roles were available for actresses in the 1950s - 56259\n"
     ]
    }
   ],
   "source": [
    "actresses_1950s = cast[(cast['type'] == 'actress') & ((cast['year'] >= 1950) & (cast['year'] <= 1959))].sort_values(by = 'n')\n",
    "print(\"Total no. of roles were available for actresses in the 1950s -\",len(actresses_1950s))"
   ]
  },
  {
   "cell_type": "markdown",
   "id": "15c9e4d5",
   "metadata": {},
   "source": [
    "### 28) How many leading roles (n=1) were available from the beginning of film history through 1980?"
   ]
  },
  {
   "cell_type": "code",
   "execution_count": 88,
   "id": "16f18b18",
   "metadata": {},
   "outputs": [
    {
     "name": "stdout",
     "output_type": "stream",
     "text": [
      "Total no. of leading roles (n=1) were available from the beginning of film history through 1980 - 62781\n"
     ]
    }
   ],
   "source": [
    "leading_roles_available = cast[(cast['n'] == 1) & (cast['year'] < 1980)]\n",
    "print(\"Total no. of leading roles (n=1) were available from the beginning of film history through 1980 -\",len(leading_roles_available))"
   ]
  },
  {
   "cell_type": "markdown",
   "id": "27154874",
   "metadata": {},
   "source": [
    "### 29) How many non-leading roles were available through from the beginning of film history through 1980?"
   ]
  },
  {
   "cell_type": "code",
   "execution_count": 89,
   "id": "7a6c1c78",
   "metadata": {},
   "outputs": [
    {
     "name": "stdout",
     "output_type": "stream",
     "text": [
      "Total no. of leading roles (n=1) were available from the beginning of film history through 1980 - 1073132\n"
     ]
    }
   ],
   "source": [
    "leading_roles_available = cast[(cast['n'] != 1) & (cast['year'] < 1980)]\n",
    "print(\"Total no. of leading roles (n=1) were available from the beginning of film history through 1980 -\",len(leading_roles_available))"
   ]
  },
  {
   "cell_type": "markdown",
   "id": "5f9724d0",
   "metadata": {},
   "source": [
    "### 30) How many roles through 1980 were minor enough that they did not warrant a numeric \"n\" rank?"
   ]
  },
  {
   "cell_type": "code",
   "execution_count": 92,
   "id": "d36d9ae8",
   "metadata": {},
   "outputs": [
    {
     "name": "stdout",
     "output_type": "stream",
     "text": [
      "Total no. roles through 1980 were minor enough that they did not warrant a numeric n rank - 433859\n"
     ]
    }
   ],
   "source": [
    "minor = cast[(cast['year'] < 1980) & (cast['n'].isnull())]\n",
    "print(\"Total no. roles through 1980 were minor enough that they did not warrant a numeric n rank -\",len(minor))"
   ]
  },
  {
   "cell_type": "code",
   "execution_count": null,
   "id": "5a7b3732",
   "metadata": {},
   "outputs": [],
   "source": []
  }
 ],
 "metadata": {
  "kernelspec": {
   "display_name": "Python 3 (ipykernel)",
   "language": "python",
   "name": "python3"
  },
  "language_info": {
   "codemirror_mode": {
    "name": "ipython",
    "version": 3
   },
   "file_extension": ".py",
   "mimetype": "text/x-python",
   "name": "python",
   "nbconvert_exporter": "python",
   "pygments_lexer": "ipython3",
   "version": "3.11.4"
  }
 },
 "nbformat": 4,
 "nbformat_minor": 5
}
