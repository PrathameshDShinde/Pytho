{
 "cells": [
  {
   "cell_type": "markdown",
   "id": "32c68306",
   "metadata": {},
   "source": [
    "  ##                                                  List Exercise"
   ]
  },
  {
   "cell_type": "markdown",
   "id": "6e97247a",
   "metadata": {},
   "source": [
    "### 1. Write a Python program to sum all the items\n"
   ]
  },
  {
   "cell_type": "code",
   "execution_count": 2,
   "id": "e2b97c13",
   "metadata": {},
   "outputs": [
    {
     "name": "stdout",
     "output_type": "stream",
     "text": [
      "Sum of all items : 26\n"
     ]
    }
   ],
   "source": [
    "x = [1,7,-10,34,2,-8]\n",
    "print(\"Sum of all items :\",sum(x))"
   ]
  },
  {
   "cell_type": "markdown",
   "id": "c2fb0900",
   "metadata": {},
   "source": [
    "### 2. Write a Python program to multiply all the items in a list"
   ]
  },
  {
   "cell_type": "code",
   "execution_count": 3,
   "id": "3ee49b29",
   "metadata": {},
   "outputs": [
    {
     "name": "stdout",
     "output_type": "stream",
     "text": [
      "Multiplication of all items : 1680\n"
     ]
    }
   ],
   "source": [
    "x = [3,4,5,4,7]\n",
    "print(\"Multiplication of all items :\",3*4*5*4*7)"
   ]
  },
  {
   "cell_type": "markdown",
   "id": "879afe44",
   "metadata": {},
   "source": [
    "### 3. Write a Python program to get the largest number from a list"
   ]
  },
  {
   "cell_type": "code",
   "execution_count": 4,
   "id": "b213ff17",
   "metadata": {},
   "outputs": [
    {
     "name": "stdout",
     "output_type": "stream",
     "text": [
      "The Largest Number in List : 34\n"
     ]
    }
   ],
   "source": [
    "x = [1,7,10,34,2,8]\n",
    "print(\"The Largest Number in List :\",max(x))"
   ]
  },
  {
   "cell_type": "markdown",
   "id": "8490399a",
   "metadata": {},
   "source": [
    "### 4. Write a Python program to get the smallest number from a list\n"
   ]
  },
  {
   "cell_type": "code",
   "execution_count": 5,
   "id": "4ad91ef9",
   "metadata": {},
   "outputs": [
    {
     "name": "stdout",
     "output_type": "stream",
     "text": [
      "The Smallest Number in List: 2\n"
     ]
    }
   ],
   "source": [
    "x = [51,7,10,34,2,8]\n",
    "print(\"The Smallest Number in List:\", min(x))"
   ]
  },
  {
   "cell_type": "markdown",
   "id": "fe9466b3",
   "metadata": {},
   "source": [
    "### 5. Write a Python program to count the number of strings where the string length is 2 or more and the first and last character are same from a given list of strings"
   ]
  },
  {
   "cell_type": "code",
   "execution_count": 14,
   "id": "e495b73a",
   "metadata": {},
   "outputs": [
    {
     "name": "stdout",
     "output_type": "stream",
     "text": [
      "First and Last Character are same: 2\n"
     ]
    }
   ],
   "source": [
    "# Given list of strings\n",
    "string_list = ['abc', 'xyz', 'aba', '1221']\n",
    "\n",
    "# Initialize a count variable to keep track of the strings that meet the criteria\n",
    "count = 0\n",
    "\n",
    "# Iterate through the list of strings\n",
    "for s in string_list:\n",
    "    # Check if the string length is 2 or more and the first and last characters are the same\n",
    "    if len(s) >= 2 and s[0] == s[-1]:\n",
    "        count += 1\n",
    "\n",
    "# Print the count of strings that meet the criteria\n",
    "print(\"First and Last Character are same:\", count)\n"
   ]
  },
  {
   "cell_type": "markdown",
   "id": "23d09df2",
   "metadata": {},
   "source": [
    "### 6. Write a Python program to remove duplicates from a list\n"
   ]
  },
  {
   "cell_type": "code",
   "execution_count": 6,
   "id": "7495daa9",
   "metadata": {},
   "outputs": [
    {
     "name": "stdout",
     "output_type": "stream",
     "text": [
      "Before removing duplicates list : [1, 2, 3, 7, 2, 1, 5, 6, 4, 8, 5, 4]\n",
      "After removing duplicates list : [1, 2, 3, 4, 5, 6, 7, 8]\n"
     ]
    }
   ],
   "source": [
    "input_list = [1,2,3,7,2,1,5,6,4,8,5,4]\n",
    "\n",
    "unique_set = set(input_list)\n",
    "\n",
    "unique_list = list(unique_set)\n",
    "\n",
    "print(\"Before removing duplicates list :\",input_list)\n",
    "print(\"After removing duplicates list :\",unique_list)\n"
   ]
  },
  {
   "cell_type": "markdown",
   "id": "6280d7da",
   "metadata": {},
   "source": [
    "### 7. Write a Python program to check a list is empty or not"
   ]
  },
  {
   "cell_type": "code",
   "execution_count": 16,
   "id": "a96a455d",
   "metadata": {},
   "outputs": [
    {
     "name": "stdout",
     "output_type": "stream",
     "text": [
      "List is Not Empty\n"
     ]
    }
   ],
   "source": [
    "# Given list\n",
    "my_list = [34, 45, 6, 5, 4, 56, 7]\n",
    "\n",
    "# Check if the list is empty or not\n",
    "if len(my_list) == 0:\n",
    "    print(\"List is Empty\")\n",
    "else:\n",
    "    print(\"List is Not Empty\")\n",
    "\n"
   ]
  },
  {
   "cell_type": "markdown",
   "id": "db8617c7",
   "metadata": {},
   "source": [
    "### 8. Write a Python program to clone or copy a list\n"
   ]
  },
  {
   "cell_type": "code",
   "execution_count": 7,
   "id": "3a67ecc6",
   "metadata": {},
   "outputs": [
    {
     "name": "stdout",
     "output_type": "stream",
     "text": [
      "Clone of list : [10, 22, 44, 23, 4]\n"
     ]
    }
   ],
   "source": [
    "x = [10,22,44,23,4]\n",
    "y = x.copy()\n",
    "print(\"Clone of list :\",y)"
   ]
  },
  {
   "cell_type": "markdown",
   "id": "0e8a22c7",
   "metadata": {},
   "source": [
    "### 9. Write a Python program to find the list of words that are longer than n from a given list of words\n"
   ]
  },
  {
   "cell_type": "code",
   "execution_count": 19,
   "id": "6c56025d",
   "metadata": {},
   "outputs": [
    {
     "name": "stdout",
     "output_type": "stream",
     "text": [
      "Find the List of Words that are Longer than 4 from a given List of Words:\n",
      "['Words', 'Longer', 'given', 'Words']\n"
     ]
    }
   ],
   "source": [
    "\n",
    "# Given list of words\n",
    "word_list = ['Find', 'the', 'List', 'of', 'Words', 'that', 'are', 'Longer', 'than', 'n', 'from', 'a', 'given', 'List', 'of', 'Words']\n",
    "\n",
    "# Given value of 'n'\n",
    "n = 4\n",
    "\n",
    "# Create a list to store words longer than 'n'\n",
    "long_words = [word for word in word_list if len(word) > n]\n",
    "\n",
    "# Print the list of words longer than 'n'\n",
    "print(\"Find the List of Words that are Longer than\", n, \"from a given List of Words:\")\n",
    "print(long_words)\n",
    "\n",
    "   "
   ]
  },
  {
   "cell_type": "markdown",
   "id": "1894aba3",
   "metadata": {},
   "source": [
    "### 10. Write a Program that get two lists as input and check if they have at least one common member\n"
   ]
  },
  {
   "cell_type": "code",
   "execution_count": 22,
   "id": "5e9a28f4",
   "metadata": {},
   "outputs": [
    {
     "name": "stdout",
     "output_type": "stream",
     "text": [
      "Lists have at least one common member\n"
     ]
    }
   ],
   "source": [
    "\n",
    "# Get two lists as input\n",
    "list1 = [1, 2, 3, 4, 5]\n",
    "list2 = [5, 6, 7, 8, 9]\n",
    "\n",
    "# Convert the lists to sets\n",
    "set1 = set(list1)\n",
    "set2 = set(list2)\n",
    "\n",
    "# Check if there is at least one common member\n",
    "if set1.intersection(set2):\n",
    "    print(\"Lists have at least one common member\")\n",
    "else:\n",
    "    print(\"Lists have no common members\")\n"
   ]
  },
  {
   "cell_type": "markdown",
   "id": "c4e77497",
   "metadata": {},
   "source": [
    "### 11. Write a Python program to print a specified list after removing the 0th, 4th and 5th elements. (enumerate)"
   ]
  },
  {
   "cell_type": "code",
   "execution_count": 51,
   "id": "25d09cca",
   "metadata": {},
   "outputs": [
    {
     "name": "stdout",
     "output_type": "stream",
     "text": [
      "specified list after removing the 0th, 4th and 5th elements  ['Dog', 'Elephant', 'Fox', 'Panda']\n"
     ]
    }
   ],
   "source": [
    "\n",
    "a = [\"Cat\",\"Dog\",\"Elephant\",\"Fox\",\"Tiger\",\"Lion\",\"Panda\"]\n",
    "a.remove(\"Cat\")\n",
    "a.remove(\"Tiger\")\n",
    "a.remove(\"Lion\")\n",
    "print(\"specified list after removing the 0th, 4th and 5th elements \",a)"
   ]
  },
  {
   "cell_type": "code",
   "execution_count": 52,
   "id": "f7faaba3",
   "metadata": {},
   "outputs": [
    {
     "name": "stdout",
     "output_type": "stream",
     "text": [
      "specified list after removing the 0th, 4th and 5th elements : ['Dog', 'Elephant', 'Fox', 'Ponda']\n"
     ]
    }
   ],
   "source": [
    "# Given list\n",
    "original_list = [\"Cat\", \"Dog\", \"Elephant\", \"Fox\", \"Tiger\", \"Lion\", \"Ponda\"]\n",
    "\n",
    "# Indices of elements to remove\n",
    "indices_to_remove = [0, 4, 5]\n",
    "\n",
    "# Create a new list with specified elements removed\n",
    "result_list = [value for index, value in enumerate(original_list) if index not in indices_to_remove]\n",
    "\n",
    "# Print the resulting list\n",
    "print(\"specified list after removing the 0th, 4th and 5th elements :\",result_list)\n"
   ]
  },
  {
   "cell_type": "markdown",
   "id": "48e11894",
   "metadata": {},
   "source": [
    "### 12. Write a Python program to print the numbers of a specified list after removing even numbers from it\n"
   ]
  },
  {
   "cell_type": "code",
   "execution_count": 54,
   "id": "c2160a61",
   "metadata": {},
   "outputs": [
    {
     "name": "stdout",
     "output_type": "stream",
     "text": [
      "The numbers of a specified list after removing even numbers : [7, 81, 25, 23, 27]\n"
     ]
    }
   ],
   "source": [
    "\n",
    "a = [7,32,81,20,25,14,23,27]\n",
    "a.remove(32)\n",
    "a.remove(20)\n",
    "a.remove(14)\n",
    "print(\"The numbers of a specified list after removing even numbers :\",a)"
   ]
  },
  {
   "cell_type": "code",
   "execution_count": 55,
   "id": "4bc5d8a2",
   "metadata": {},
   "outputs": [
    {
     "name": "stdout",
     "output_type": "stream",
     "text": [
      "The numbers of a specified list after removing even numbers : [7, 81, 25, 23, 27]\n"
     ]
    }
   ],
   "source": [
    "# Given list of numbers\n",
    "numbers = [7, 32, 81, 20, 25, 14, 23, 27]\n",
    "\n",
    "# Create a new list with even numbers removed\n",
    "result = [x for x in numbers if x % 2 != 0]\n",
    "\n",
    "# Print the resulting list\n",
    "print(\"The numbers of a specified list after removing even numbers :\",result)\n",
    "\n"
   ]
  },
  {
   "cell_type": "markdown",
   "id": "027de052",
   "metadata": {},
   "source": [
    "### 13. Write a Python program to shuffle and print a specified list (shuffle)"
   ]
  },
  {
   "cell_type": "code",
   "execution_count": 57,
   "id": "0802139f",
   "metadata": {},
   "outputs": [
    {
     "name": "stdout",
     "output_type": "stream",
     "text": [
      "After shuffle the list : ['Tiger', 'Cat', 'Elephant', 'Dog', 'Lion', 'Ponda', 'Fox']\n"
     ]
    }
   ],
   "source": [
    "import random\n",
    "\n",
    "# Given list\n",
    "my_list = [\"Cat\", \"Dog\", \"Elephant\", \"Fox\", \"Tiger\", \"Lion\", \"Ponda\"]\n",
    "\n",
    "# Shuffle the list in-place\n",
    "random.shuffle(my_list)\n",
    "\n",
    "# Print the shuffled list\n",
    "print(\"After shuffle the list :\",my_list)\n"
   ]
  },
  {
   "cell_type": "markdown",
   "id": "c8fe0c4a",
   "metadata": {},
   "source": [
    "### 14. Write a Python program to generate and print a list of first and last 5 elements where the values are square of numbers between 1 and 30"
   ]
  },
  {
   "cell_type": "code",
   "execution_count": 18,
   "id": "9935300a",
   "metadata": {},
   "outputs": [
    {
     "name": "stdout",
     "output_type": "stream",
     "text": [
      "First 5 elements: [1, 4, 9, 16, 25]\n",
      "Last 5 elements: [676, 729, 784, 841, 900]\n"
     ]
    }
   ],
   "source": [
    "#14.\n",
    "# Generate a list of squares of numbers from 1 to 30\n",
    "squares = [x**2 for x in range(1, 31)]\n",
    "\n",
    "# Get the first 5 elements\n",
    "first_5 = squares[:5]\n",
    "\n",
    "# Get the last 5 elements\n",
    "last_5 = squares[-5:]\n",
    "\n",
    "# Print the first and last 5 elements\n",
    "print(\"First 5 elements:\", first_5)\n",
    "print(\"Last 5 elements:\", last_5)\n"
   ]
  },
  {
   "cell_type": "markdown",
   "id": "81695bc6",
   "metadata": {},
   "source": [
    "### 15. Write a Python program to generate all permutations of a list in Python. (itertools)"
   ]
  },
  {
   "cell_type": "code",
   "execution_count": 17,
   "id": "702625b4",
   "metadata": {},
   "outputs": [
    {
     "name": "stdout",
     "output_type": "stream",
     "text": [
      "Permutations of a list : [(1, 2, 3), (1, 3, 2), (2, 1, 3), (2, 3, 1), (3, 1, 2), (3, 2, 1)]\n"
     ]
    }
   ],
   "source": [
    "#15.\n",
    "from itertools import permutations\n",
    "my_list = [1,2,3]\n",
    "permutation_list = list(permutations(my_list))\n",
    "\n",
    "print(\"Permutations of a list :\",permutation_list)"
   ]
  },
  {
   "cell_type": "markdown",
   "id": "5cd72f18",
   "metadata": {},
   "source": [
    "### 16. Write a Python program to convert a list of characters into a string\n"
   ]
  },
  {
   "cell_type": "code",
   "execution_count": 12,
   "id": "c5655a44",
   "metadata": {},
   "outputs": [
    {
     "name": "stdout",
     "output_type": "stream",
     "text": [
      "Coversion of list of characters into a string : Tutor Joes\n"
     ]
    }
   ],
   "source": [
    "\n",
    "a = ['T','u','t','o','r',' ','J','o','e','s']\n",
    "b = ''.join(a)\n",
    "print(\"Coversion of list of characters into a string :\",b)"
   ]
  },
  {
   "cell_type": "markdown",
   "id": "74834297",
   "metadata": {},
   "source": [
    "### 17. Write a Python program to find the index of an item in a specified list"
   ]
  },
  {
   "cell_type": "code",
   "execution_count": 16,
   "id": "7e8d56cb",
   "metadata": {},
   "outputs": [
    {
     "name": "stdout",
     "output_type": "stream",
     "text": [
      "The index of an number 30 in a list is : 2\n"
     ]
    }
   ],
   "source": [
    "\n",
    "a = [20,70,30,90,10,30,90,10,80]\n",
    "b = a.index(30)\n",
    "print(\"The index of an number 30 in a list is :\",b)"
   ]
  },
  {
   "cell_type": "markdown",
   "id": "f6ac5485",
   "metadata": {},
   "source": [
    "### 18. Write a Python program to flatten a shallow list"
   ]
  },
  {
   "cell_type": "code",
   "execution_count": 34,
   "id": "e7038c55",
   "metadata": {},
   "outputs": [
    {
     "name": "stdout",
     "output_type": "stream",
     "text": [
      "[20, 30, 70, 30, 90, 10, 30, 20, 70, 90, 10, 80]\n"
     ]
    }
   ],
   "source": [
    "\n",
    "shallow_list = [[20,30,70],[30,90,10],[30,20],[70,90,10,80]]\n",
    "flattened_list = [item for sublist in shallow_list for item in sublist]\n",
    "print(flattened_list)"
   ]
  },
  {
   "cell_type": "markdown",
   "id": "29d71180",
   "metadata": {},
   "source": [
    "### 19. Write a Python program to add a list to the second list"
   ]
  },
  {
   "cell_type": "code",
   "execution_count": 35,
   "id": "755e2bde",
   "metadata": {},
   "outputs": [
    {
     "name": "stdout",
     "output_type": "stream",
     "text": [
      "['Cat', 'Dog', 'Lion', 'Panda', 10, 20, 30, 40]\n"
     ]
    }
   ],
   "source": [
    "\n",
    "a = [10,20,30,40]\n",
    "b = ['Cat','Dog','Lion','Panda']\n",
    "b.extend(a)\n",
    "print(b)"
   ]
  },
  {
   "cell_type": "markdown",
   "id": "d66bf230",
   "metadata": {},
   "source": [
    "### 20. Write a Python program to select an item randomly from a list Using random.choice()\n"
   ]
  },
  {
   "cell_type": "code",
   "execution_count": 38,
   "id": "9b654576",
   "metadata": {},
   "outputs": [
    {
     "name": "stdout",
     "output_type": "stream",
     "text": [
      "Item randomly from a list - Fox\n"
     ]
    }
   ],
   "source": [
    "\n",
    "import random\n",
    "a = [\"Cat\",\"Dog\",\"Elephant\",\"Fox\",\"Tiger\",\"Lion\",\"Panda\"]\n",
    "b = random.choice(a)\n",
    "print(\"Item randomly from a list -\",b)"
   ]
  },
  {
   "cell_type": "markdown",
   "id": "5fdb9f64",
   "metadata": {},
   "source": [
    "### 21. Write a python program to check whether two lists are circularly identical"
   ]
  },
  {
   "cell_type": "code",
   "execution_count": 39,
   "id": "9bfec702",
   "metadata": {},
   "outputs": [
    {
     "name": "stdout",
     "output_type": "stream",
     "text": [
      "False\n"
     ]
    }
   ],
   "source": [
    "#21.\n",
    "a = [8,8,12,12,8]\n",
    "b = [8,8,8,12,12]\n",
    "c = [1,8,8,12,12]\n",
    "if a == b:\n",
    "    print(True)\n",
    "else:\n",
    "    print(False)"
   ]
  },
  {
   "cell_type": "code",
   "execution_count": 1,
   "id": "ee12e21d",
   "metadata": {},
   "outputs": [
    {
     "name": "stdout",
     "output_type": "stream",
     "text": [
      "Compare List1 and List2: True\n",
      "Compare List1 and List3: False\n"
     ]
    }
   ],
   "source": [
    "def are_circularly_identical(list1, list2):\n",
    "    if len(list1) != len(list2):\n",
    "        return False\n",
    "\n",
    "    for i in range(len(list1)):\n",
    "        rotated_list = list1[i:] + list1[:i]\n",
    "        if rotated_list == list2:\n",
    "            return True\n",
    "\n",
    "    return False\n",
    "list1 = [8, 8, 12, 12, 8]\n",
    "list2 = [8, 8, 8, 12, 12]\n",
    "list3 = [1, 8, 8, 12, 12]\n",
    "\n",
    "# Compare list1 and list2\n",
    "result1 = are_circularly_identical(list1, list2)\n",
    "\n",
    "# Compare list1 and list3\n",
    "result2 = are_circularly_identical(list1, list3)\n",
    "\n",
    "# Print the results\n",
    "print(\"Compare List1 and List2:\", result1)\n",
    "print(\"Compare List1 and List3:\", result2)"
   ]
  },
  {
   "cell_type": "markdown",
   "id": "2b34687c",
   "metadata": {},
   "source": [
    "### 22. Write a Python program to find the second smallest number in a list\n"
   ]
  },
  {
   "cell_type": "code",
   "execution_count": 20,
   "id": "97e359a5",
   "metadata": {},
   "outputs": [
    {
     "name": "stdout",
     "output_type": "stream",
     "text": [
      "Second Smallest Number is : 4\n"
     ]
    }
   ],
   "source": [
    "#22.\n",
    "# Define the list\n",
    "my_list = [2, 4, 56, 78, 4, 34, 5, 8, 9]\n",
    "\n",
    "# Remove duplicates by converting the list to a set and back to a list\n",
    "unique_list = list(set(my_list))\n",
    "\n",
    "# Sort the unique list in ascending order\n",
    "unique_list.sort()\n",
    "\n",
    "# Check if there are at least two unique elements in the list\n",
    "if len(unique_list) >= 2:\n",
    "    second_smallest = unique_list[1]\n",
    "    print(\"Second Smallest Number is :\", second_smallest)\n",
    "else:\n",
    "    print(\"There is no second smallest number in the list.\")\n",
    "\n",
    "    "
   ]
  },
  {
   "cell_type": "markdown",
   "id": "ca18826d",
   "metadata": {},
   "source": [
    "### 23. Write a Python program to find the second largest number in a list23. Write a Python program to find the second largest number in a list"
   ]
  },
  {
   "cell_type": "code",
   "execution_count": 21,
   "id": "5a38b2dd",
   "metadata": {},
   "outputs": [
    {
     "name": "stdout",
     "output_type": "stream",
     "text": [
      "Second Largest Number: 82\n"
     ]
    }
   ],
   "source": [
    "\n",
    "# Sample input list\n",
    "numbers = [82, 4, 56, 78, 4, 34, 5, 100, 9]\n",
    "\n",
    "# Sort the list in descending order\n",
    "sorted_numbers = sorted(numbers, reverse=True)\n",
    "\n",
    "# Find the second largest number (the element at index 1 in the sorted list)\n",
    "second_largest = sorted_numbers[1]\n",
    "\n",
    "print(\"Second Largest Number:\", second_largest)\n"
   ]
  },
  {
   "cell_type": "markdown",
   "id": "e2ca46b1",
   "metadata": {},
   "source": [
    "### 24. Write a Python program to get unique values from a list"
   ]
  },
  {
   "cell_type": "code",
   "execution_count": 50,
   "id": "84dc0ff9",
   "metadata": {},
   "outputs": [
    {
     "name": "stdout",
     "output_type": "stream",
     "text": [
      "The Unique values in list : [34, 4, 5, 9, 10, 78, 82, 56]\n"
     ]
    }
   ],
   "source": [
    "#24.\n",
    "# Sample input list\n",
    "numbers = [82, 4, 10, 56, 78, 4, 34, 5, 10, 9]\n",
    "\n",
    "# Convert the list to a set to get unique values\n",
    "unique_values = list(set(numbers))\n",
    "\n",
    "print(\"The Unique values in list :\",unique_values)\n",
    "\n"
   ]
  },
  {
   "cell_type": "markdown",
   "id": "dd2582b1",
   "metadata": {},
   "source": [
    "### 25. Write a Python program to get the frequency of the elements in a list.\n"
   ]
  },
  {
   "cell_type": "code",
   "execution_count": 48,
   "id": "e18b4b7b",
   "metadata": {},
   "outputs": [
    {
     "name": "stdout",
     "output_type": "stream",
     "text": [
      "The Frequency of the elements in a list : Counter({50: 3, 10: 2, 30: 2, 20: 2, 60: 2, 40: 2})\n"
     ]
    }
   ],
   "source": [
    "#25.\n",
    "from collections import Counter\n",
    "\n",
    "# Sample input list\n",
    "numbers = [10, 30, 50, 10, 20, 60, 20, 60, 40, 40, 50, 50, 30]\n",
    "\n",
    "# Use Counter to count the frequency of elements\n",
    "frequency_counter = Counter(numbers)\n",
    "\n",
    "print(\"The Frequency of the elements in a list :\",frequency_counter)\n"
   ]
  },
  {
   "cell_type": "markdown",
   "id": "46c698ed",
   "metadata": {},
   "source": [
    "### 26. Create a list by concatenating a given list which range goes from 1 to n"
   ]
  },
  {
   "cell_type": "code",
   "execution_count": 6,
   "id": "cf3b3947",
   "metadata": {},
   "outputs": [
    {
     "name": "stdout",
     "output_type": "stream",
     "text": [
      "['T1', 'J1', 'T2', 'J2', 'T3', 'J3', 'T4', 'J4', 'T5', 'J5', 'T6', 'J6', 'T7', 'J7', 'T8', 'J8', 'T9', 'J9', 'T10', 'J10']\n"
     ]
    }
   ],
   "source": [
    "# Given list\n",
    "given_list = ['T', 'J']\n",
    "\n",
    "# Define the range\n",
    "n = 10\n",
    "\n",
    "# Initialize an empty result list\n",
    "result_list = []\n",
    "\n",
    "# Concatenate the given list to the result list for each value in the range\n",
    "for i in range(1, n + 1):\n",
    "    for item in given_list:\n",
    "        result_list.append(item + str(i))\n",
    "\n",
    "# Print the resulting list\n",
    "print(result_list)\n"
   ]
  },
  {
   "cell_type": "markdown",
   "id": "af5d8f4f",
   "metadata": {},
   "source": [
    "### 27. Write a Python program to get variable unique identification number or string\n"
   ]
  },
  {
   "cell_type": "code",
   "execution_count": 8,
   "id": "b9713c2c",
   "metadata": {},
   "outputs": [
    {
     "name": "stdout",
     "output_type": "stream",
     "text": [
      "Unique Identification Number: 0x7ffbbede96c8\n",
      "Unique Identification String: 0x270904df270\n"
     ]
    }
   ],
   "source": [
    "\n",
    "x = 30\n",
    "s = \"Tutor Joes\"\n",
    "\n",
    "unique_id_num = id(x)\n",
    "unique_id_str = id(s)\n",
    "\n",
    "# Convert the unique IDs to hexadecimal strings\n",
    "unique_id_num_hex = hex(unique_id_num)\n",
    "unique_id_str_hex = hex(unique_id_str)\n",
    "\n",
    "print(f\"Unique Identification Number: {unique_id_num_hex}\")\n",
    "print(f\"Unique Identification String: {unique_id_str_hex}\")\n",
    "\n"
   ]
  },
  {
   "cell_type": "markdown",
   "id": "a118ff6d",
   "metadata": {},
   "source": [
    "### 28. Write a Python program to find common items from two lists"
   ]
  },
  {
   "cell_type": "code",
   "execution_count": 9,
   "id": "7a2195b3",
   "metadata": {},
   "outputs": [
    {
     "name": "stdout",
     "output_type": "stream",
     "text": [
      "Common items from two lists: {89, 34, 67}\n"
     ]
    }
   ],
   "source": [
    "\n",
    "# Sample input lists\n",
    "list1 = [23, 45, 67, 78, 89, 34]\n",
    "list2 = [34, 89, 55, 56, 39, 67]\n",
    "\n",
    "# Convert lists to sets and find the intersection\n",
    "common_items = set(list1) & set(list2)\n",
    "\n",
    "print(\"Common items from two lists:\", common_items)\n"
   ]
  },
  {
   "cell_type": "markdown",
   "id": "954716b5",
   "metadata": {},
   "source": [
    "### 29. Write a Python program to split a list based on first character of word\n"
   ]
  },
  {
   "cell_type": "code",
   "execution_count": 13,
   "id": "8f5fdbaa",
   "metadata": {},
   "outputs": [
    {
     "name": "stdout",
     "output_type": "stream",
     "text": [
      "b\n",
      "  bear\n",
      "c\n",
      "  cat\n",
      "  cow\n",
      "d\n",
      "  dog\n",
      "f\n",
      "  Fox\n",
      "l\n",
      "  lion\n",
      "m\n",
      "  mouse\n",
      "  monkey\n",
      "s\n",
      "  Shark\n",
      "  Snake\n",
      "t\n",
      "  tiger\n",
      "  turtle\n"
     ]
    }
   ],
   "source": [
    "#29.\n",
    "# Sample input list of words\n",
    "word_list = [\"cat\", \"dog\", \"cow\", \"tiger\", \"lion\", \"Fox\", \"Shark\", \"Snake\", \"turtle\", \"mouse\", \"monkey\", \"bear\"]\n",
    "\n",
    "# Create a dictionary to store words based on their first character\n",
    "word_dict = {}\n",
    "\n",
    "# Iterate through the word list and organize words by their first character\n",
    "for word in word_list:\n",
    "    first_char = word[0].lower()  # Convert to lowercase for consistent grouping\n",
    "    if first_char not in word_dict:\n",
    "        word_dict[first_char] = []\n",
    "    word_dict[first_char].append(word)\n",
    "\n",
    "# Sort the dictionary by keys\n",
    "sorted_word_dict = dict(sorted(word_dict.items()))\n",
    "\n",
    "# Print the words grouped by their first character\n",
    "for char, words in sorted_word_dict.items():\n",
    "    print(char)\n",
    "    for word in words:\n",
    "        print(\" \", word)\n"
   ]
  },
  {
   "cell_type": "markdown",
   "id": "23477588",
   "metadata": {},
   "source": [
    "### 30. Write a Python program to select the odd number of a list"
   ]
  },
  {
   "cell_type": "code",
   "execution_count": 24,
   "id": "047e3bff",
   "metadata": {},
   "outputs": [
    {
     "name": "stdout",
     "output_type": "stream",
     "text": [
      "Odd numbers in a list : [1, 3, 7, 5, 9, 7, 9]\n"
     ]
    }
   ],
   "source": [
    "#30.\n",
    "# Sample input list\n",
    "numbers = [1, 2, 4, 3, 6, 7, 5, 8, 9, 7, 8, 9, 10]\n",
    "\n",
    "# Select the odd numbers\n",
    "odd_numbers = [num for num in numbers if num % 2 != 0]\n",
    "\n",
    "print(\"Odd numbers in a list :\",odd_numbers)"
   ]
  },
  {
   "cell_type": "markdown",
   "id": "c64be380",
   "metadata": {},
   "source": [
    "### 31. Write a Python Program to count unique values inside a list"
   ]
  },
  {
   "cell_type": "code",
   "execution_count": 18,
   "id": "d3ff2370",
   "metadata": {},
   "outputs": [
    {
     "name": "stdout",
     "output_type": "stream",
     "text": [
      "No of Unique Items in List : 6\n"
     ]
    }
   ],
   "source": [
    "\n",
    "values = [10, 20, 30, 50, 80, 70, 70, 80, 10]\n",
    "\n",
    "unique_values = set(values)\n",
    "\n",
    "print(\"No of Unique Items in List :\",len(unique_values))"
   ]
  },
  {
   "cell_type": "markdown",
   "id": "ce1122c8",
   "metadata": {},
   "source": [
    "### 32. Write a Python Program to List product excluding duplicates"
   ]
  },
  {
   "cell_type": "code",
   "execution_count": 26,
   "id": "f921188f",
   "metadata": {},
   "outputs": [
    {
     "name": "stdout",
     "output_type": "stream",
     "text": [
      "Input list without Duplicates : {1, 2, 3, 4, 6}\n",
      "Duplication removal list product : 144\n"
     ]
    }
   ],
   "source": [
    "#32.\n",
    "numbers = [2, 1, 2, 4, 6, 4, 3, 2, 1]\n",
    "\n",
    "unique_list = set(numbers)\n",
    "\n",
    "product = 1\n",
    "\n",
    "for num in unique_list:\n",
    "    \n",
    "    product *= num\n",
    "    \n",
    "print(\"Input list without Duplicates :\",unique_list)\n",
    "print(\"Duplication removal list product :\",product)\n",
    "\n",
    "\n",
    "\n"
   ]
  },
  {
   "cell_type": "markdown",
   "id": "3c8b6366",
   "metadata": {},
   "source": [
    "### 33. Write a Python Program to Extract elements with Frequency greater than K"
   ]
  },
  {
   "cell_type": "code",
   "execution_count": 29,
   "id": "4db1e014",
   "metadata": {},
   "outputs": [
    {
     "name": "stdout",
     "output_type": "stream",
     "text": [
      "Input list: [4, 6, 4, 3, 3, 4, 3, 7, 8, 8]\n",
      "Elements with frequency greater than K: [4, 3]\n"
     ]
    }
   ],
   "source": [
    "\n",
    "# Input list\n",
    "input_list = [4, 6, 4, 3, 3, 4, 3, 7, 8, 8]\n",
    "\n",
    "# Specify the frequency threshold (K)\n",
    "K = 2  # Change this value to your desired threshold\n",
    "\n",
    "# Create a dictionary to store the frequency of each element\n",
    "element_frequency = {}\n",
    "\n",
    "# Count the frequency of each element in the list\n",
    "for num in input_list:\n",
    "    if num in element_frequency:\n",
    "        element_frequency[num] += 1\n",
    "    else:\n",
    "        element_frequency[num] = 1\n",
    "\n",
    "# Extract elements with frequency greater than K\n",
    "result = [num for num, freq in element_frequency.items() if freq > K]\n",
    "\n",
    "# Print the original list and the elements with frequency greater than K\n",
    "print(\"Input list:\", input_list)\n",
    "print(\"Elements with frequency greater than K:\", result)\n",
    "\n"
   ]
  },
  {
   "cell_type": "markdown",
   "id": "b953fe01",
   "metadata": {},
   "source": [
    "### 34. Write a Python Program to Test if List contains elements in Range"
   ]
  },
  {
   "cell_type": "code",
   "execution_count": 30,
   "id": "42077048",
   "metadata": {},
   "outputs": [
    {
     "name": "stdout",
     "output_type": "stream",
     "text": [
      "Does list contain all elements in range: True\n"
     ]
    }
   ],
   "source": [
    "\n",
    "def contains_elements_in_range(lst, start, end):\n",
    "    for element in lst:\n",
    "        if element < start or element > end:\n",
    "            return False\n",
    "    return True\n",
    "\n",
    "# Sample input list\n",
    "input_list = [4, 5, 6, 7, 3, 9]\n",
    "\n",
    "# Define the range\n",
    "start_range = 3\n",
    "end_range = 9\n",
    "\n",
    "# Check if the list contains all elements in the range\n",
    "result = contains_elements_in_range(input_list, start_range, end_range)\n",
    "\n",
    "# Print the result\n",
    "if result:\n",
    "    print(\"Does list contain all elements in range: True\")\n",
    "else:\n",
    "    print(\"Does list contain all elements in range: False\")\n"
   ]
  },
  {
   "cell_type": "markdown",
   "id": "58619952",
   "metadata": {},
   "source": [
    "### 35. Write a Python program to check if the list contains three consecutive common numbers in Python"
   ]
  },
  {
   "cell_type": "code",
   "execution_count": 25,
   "id": "bee7e833",
   "metadata": {},
   "outputs": [
    {
     "name": "stdout",
     "output_type": "stream",
     "text": [
      "Three Consecutive common numbers = 18, 9\n"
     ]
    }
   ],
   "source": [
    "\n",
    "def find_three_consecutive_common_numbers(lst):\n",
    "    consecutive_count = 1  # Initialize the consecutive count to 1\n",
    "    common_number = None  # Initialize the common number to None\n",
    "    result = []\n",
    "\n",
    "    for i in range(len(lst) - 1):\n",
    "        if lst[i] == lst[i + 1]:\n",
    "            consecutive_count += 1\n",
    "            common_number = lst[i]\n",
    "        else:\n",
    "            consecutive_count = 1\n",
    "            common_number = None\n",
    "\n",
    "        if consecutive_count == 3 and common_number is not None:\n",
    "            result.append(common_number)\n",
    "            consecutive_count = 1\n",
    "\n",
    "    return result\n",
    "\n",
    "# Sample input list\n",
    "input_list = [18, 18, 18, 6, 3, 4, 9, 9, 9]\n",
    "\n",
    "# Find three consecutive common numbers\n",
    "consecutive_common_numbers = find_three_consecutive_common_numbers(input_list)\n",
    "\n",
    "# Print the result\n",
    "if consecutive_common_numbers:\n",
    "    print(\"Three Consecutive common numbers =\", ', '.join(map(str, consecutive_common_numbers)))\n",
    "else:\n",
    "    print(\"No three consecutive common numbers found.\")\n"
   ]
  },
  {
   "cell_type": "markdown",
   "id": "be9e567c",
   "metadata": {},
   "source": [
    "### 36. Write a Python program to find the Strongest Neighbour"
   ]
  },
  {
   "cell_type": "code",
   "execution_count": 26,
   "id": "b73d1acc",
   "metadata": {},
   "outputs": [
    {
     "name": "stdout",
     "output_type": "stream",
     "text": [
      "Strongest Neighbors: 30 400\n"
     ]
    }
   ],
   "source": [
    "\n",
    "def find_strongest_neighbour(arr):\n",
    "    n = len(arr)\n",
    "    strongest_neighbours = []\n",
    "\n",
    "    for i in range(n):\n",
    "        left_neighbor = arr[i - 1] if i > 0 else float('-inf')\n",
    "        right_neighbor = arr[i + 1] if i < n - 1 else float('-inf')\n",
    "\n",
    "        if arr[i] > left_neighbor and arr[i] > right_neighbor:\n",
    "            strongest_neighbours.append(arr[i])\n",
    "\n",
    "    return strongest_neighbours\n",
    "\n",
    "# Sample input list\n",
    "input_list = [10, 20, 30, 20, 30, 400]\n",
    "\n",
    "# Find the strongest neighbors\n",
    "strongest_neighbors = find_strongest_neighbour(input_list)\n",
    "\n",
    "# Print the result\n",
    "if strongest_neighbors:\n",
    "    print(\"Strongest Neighbors:\", ' '.join(map(str, strongest_neighbors)))\n",
    "else:\n",
    "    print(\"No strongest neighbors found.\")\n",
    "\n"
   ]
  },
  {
   "cell_type": "markdown",
   "id": "c584f7a8",
   "metadata": {},
   "source": [
    "### 37. Write a Python Program to print all Possible Combinations from the three Digits"
   ]
  },
  {
   "cell_type": "code",
   "execution_count": 44,
   "id": "74c409fb",
   "metadata": {},
   "outputs": [
    {
     "name": "stdout",
     "output_type": "stream",
     "text": [
      "Printing all possible combination from the three digits : (1, 2, 3)\n",
      "Printing all possible combination from the three digits : (1, 3, 2)\n",
      "Printing all possible combination from the three digits : (2, 1, 3)\n",
      "Printing all possible combination from the three digits : (2, 3, 1)\n",
      "Printing all possible combination from the three digits : (3, 1, 2)\n",
      "Printing all possible combination from the three digits : (3, 2, 1)\n"
     ]
    }
   ],
   "source": [
    "#37.\n",
    "import itertools\n",
    "\n",
    "# Input list of three digits\n",
    "digits = [1, 2, 3]\n",
    "\n",
    "# Generate all possible permutations\n",
    "combinations = itertools.permutations(digits)\n",
    "\n",
    "# Print the combinations\n",
    "for combination in combinations:\n",
    "    print(\"Printing all possible combination from the three digits :\",combination)\n"
   ]
  },
  {
   "cell_type": "markdown",
   "id": "35363ba0",
   "metadata": {},
   "source": [
    "### 38. Write a Python program to find all the Combinations in the list with the given condition"
   ]
  },
  {
   "cell_type": "code",
   "execution_count": 11,
   "id": "f6cb775b",
   "metadata": {},
   "outputs": [
    {
     "name": "stdout",
     "output_type": "stream",
     "text": [
      "[['Tutor Joes', 'Software', 'Solution'], ['Tutor Joes', 'Software', 'Education'], ['Tutor Joes', 'Computer', 'Solution'], ['Tutor Joes', 'Computer', 'Education']]\n"
     ]
    }
   ],
   "source": [
    "from itertools import product\n",
    "\n",
    "input_list = ['Tutor Joes', ['Software', 'Computer'], ['Solution', 'Education']]\n",
    "\n",
    "# Flatten the inner lists\n",
    "flattened_list = [item if isinstance(item, list) else [item] for item in input_list]\n",
    "\n",
    "# Use itertools.product to generate all combinations\n",
    "combinations = list(product(*flattened_list))\n",
    "\n",
    "# Convert combinations to a list of lists\n",
    "result = [list(combination) for combination in combinations]\n",
    "\n",
    "print(result)\n"
   ]
  },
  {
   "cell_type": "markdown",
   "id": "0a09508c",
   "metadata": {},
   "source": [
    "### 39. Write a Python program to get all unique combinations of two Lists"
   ]
  },
  {
   "cell_type": "code",
   "execution_count": 29,
   "id": "6a7c7162",
   "metadata": {},
   "outputs": [
    {
     "name": "stdout",
     "output_type": "stream",
     "text": [
      "The unique combination of two lists : [<generator object <genexpr> at 0x000001BAD7BA8640>]\n"
     ]
    }
   ],
   "source": [
    "#39.\n",
    "from itertools import permutations\n",
    "\n",
    "list1 = ['A','B','C','D']\n",
    "list2 = [1,2,3]\n",
    "\n",
    "combinations = permutations(list1 + list2, len(list1 + list2))\n",
    "\n",
    "result = [(zip(combination[:len(list1)],combination[len(list1):]) for combination in combinations if combination.index(list1[0]) < combination.index(list2[0]))]\n",
    "\n",
    "print(\"The unique combination of two lists :\",result)"
   ]
  },
  {
   "cell_type": "markdown",
   "id": "e65de5c0",
   "metadata": {},
   "source": [
    "### 40. Write a Python program to remove all the occurrences of an element from a list"
   ]
  },
  {
   "cell_type": "code",
   "execution_count": 30,
   "id": "6544288f",
   "metadata": {},
   "outputs": [
    {
     "name": "stdout",
     "output_type": "stream",
     "text": [
      "After removing of all occurrences of an element from a list : [3, 4, 6, 5]\n"
     ]
    }
   ],
   "source": [
    "#40.\n",
    "sample_list = [1, 3, 4, 6, 5, 1]\n",
    "element_to_remove = 1\n",
    "def remove_all_occurrences(input_list,element_to_remove):\n",
    "    result = [x for x in input_list if x!=element_to_remove]\n",
    "    return result\n",
    "\n",
    "result_list = remove_all_occurrences(sample_list,element_to_remove)\n",
    "print(\"After removing of all occurrences of an element from a list :\",result_list)"
   ]
  },
  {
   "cell_type": "markdown",
   "id": "c1e4924a",
   "metadata": {},
   "source": [
    "### 41. Write a Python Program to Remove Consecutive K element records"
   ]
  },
  {
   "cell_type": "code",
   "execution_count": 32,
   "id": "705d5a8e",
   "metadata": {},
   "outputs": [
    {
     "name": "stdout",
     "output_type": "stream",
     "text": [
      "After removing of consecutive of k elements from records : [('A', 'B', 'C', 'D'), ('B', 'C', 'C', 'I'), ('H', 'D', 'B', 'C'), ('C', 'C', 'G', 'F')]\n"
     ]
    }
   ],
   "source": [
    "#41.\n",
    "def remove_consecutive_k_elements(input_list, k):\n",
    "    result = [input_list[0]]\n",
    "    \n",
    "    for i in range(1, len(input_list)):\n",
    "        current_tuple = input_list[i]\n",
    "        previous_tuple = result[-1]\n",
    "        \n",
    "        if current_tuple[:k] != previous_tuple[:k]:\n",
    "            result.append(current_tuple)\n",
    "    \n",
    "    return result\n",
    "\n",
    "sample_list = [('A', 'B', 'C', 'D'), ('B', 'C', 'C', 'I'), ('H', 'D', 'B', 'C'), ('C', 'C', 'G', 'F')]\n",
    "k = 2\n",
    "\n",
    "result_list = remove_consecutive_k_elements(sample_list, k)\n",
    "print(\"After removing of consecutive of k elements from records :\",result_list)\n",
    "\n"
   ]
  },
  {
   "cell_type": "markdown",
   "id": "2853690e",
   "metadata": {},
   "source": [
    "### 42. Write a Python Program to Replace index elements with elements in Other List"
   ]
  },
  {
   "cell_type": "code",
   "execution_count": 30,
   "id": "a1602aeb",
   "metadata": {},
   "outputs": [
    {
     "name": "stdout",
     "output_type": "stream",
     "text": [
      "['Education', 'Computer', 'Tutor Joes', 'Computer', 'Tutor Joes', 'Education', 'Education', 'Tutor Joes', 'Computer', 'Tutor Joes', 'Computer', 'Education']\n"
     ]
    }
   ],
   "source": [
    "#42.\n",
    "original_list = ['Tutor Joes', 'Computer', 'Education']\n",
    "\n",
    "indices_to_replace = [2, 1, 0, 1, 0, 2, 2, 0, 1, 0, 1, 2]\n",
    "\n",
    "replacement_list = [original_list[i] for i in indices_to_replace]\n",
    "\n",
    "print(replacement_list)\n",
    "\n"
   ]
  },
  {
   "cell_type": "markdown",
   "id": "23483904",
   "metadata": {},
   "source": [
    "### 43. Write a Python Program to Retain records with N occurrences of K"
   ]
  },
  {
   "cell_type": "code",
   "execution_count": 33,
   "id": "e6e3c959",
   "metadata": {},
   "outputs": [
    {
     "name": "stdout",
     "output_type": "stream",
     "text": [
      "Retaining records with N occurrences : [(4, 5, 6, 5, 4), (5, 5, 2)]\n"
     ]
    }
   ],
   "source": [
    "\n",
    "def retain_records_with_n_occurrences(input_list,K,N):\n",
    "    \n",
    "    result = [record for record in input_list if record.count(K) == N ]\n",
    "    \n",
    "    return result\n",
    "\n",
    "input_list = [(4, 5, 6, 5, 4), (4, 5, 3), (5, 5, 2), (3, 4, 9)]\n",
    "K = 5\n",
    "N = 2\n",
    "\n",
    "return_list = retain_records_with_n_occurrences(input_list,K,N)\n",
    "\n",
    "print(\"Retaining records with N occurrences :\",return_list)"
   ]
  },
  {
   "cell_type": "markdown",
   "id": "8a725df6",
   "metadata": {},
   "source": [
    "### 44. Write a Python Program to Swap elements in String list"
   ]
  },
  {
   "cell_type": "code",
   "execution_count": 34,
   "id": "85edcebf",
   "metadata": {},
   "outputs": [
    {
     "name": "stdout",
     "output_type": "stream",
     "text": [
      "After swapping elements in a string list : ['Tutor', 'Computer', 'joes', 'Education']\n"
     ]
    }
   ],
   "source": [
    "\n",
    "original_list = ['Tutor', 'joes', 'Computer', 'Education']\n",
    "\n",
    "# Define the indices of elements to swap\n",
    "index1 = 1  # Index of the first element to swap\n",
    "index2 = 2  # Index of the second element to swap\n",
    "\n",
    "# Swap the elements\n",
    "original_list[index1], original_list[index2] = original_list[index2], original_list[index1]\n",
    "\n",
    "print(\"After swapping elements in a string list :\",original_list)"
   ]
  },
  {
   "cell_type": "markdown",
   "id": "a49d7825",
   "metadata": {},
   "source": [
    "### 45. Write a Python program to reverse All Strings in String List"
   ]
  },
  {
   "cell_type": "code",
   "execution_count": 3,
   "id": "56adb0a2",
   "metadata": {},
   "outputs": [
    {
     "name": "stdout",
     "output_type": "stream",
     "text": [
      "Original list = ['Tutor', 'joes', 'Computer', 'Education']\n",
      "Reversed list = ['rotuT', 'seoj', 'retupmoC', 'noitacudE']\n",
      "Reversed list1 = ['Education', 'Computer', 'joes', 'Tutor']\n"
     ]
    }
   ],
   "source": [
    "\n",
    "# Original list\n",
    "original_list = ['Tutor', 'joes', 'Computer', 'Education']\n",
    "\n",
    "# Reversed list using list comprehension\n",
    "reversed_list = [string[::-1] for string in original_list]\n",
    "\n",
    "# Reversed list sorted in reverse order\n",
    "reversed_list_sorted = original_list[::-1]\n",
    "\n",
    "# Print the results\n",
    "print(\"Original list =\", original_list)\n",
    "print(\"Reversed list =\", reversed_list)\n",
    "print(\"Reversed list1 =\", reversed_list_sorted)"
   ]
  },
  {
   "cell_type": "markdown",
   "id": "51ddb18c",
   "metadata": {},
   "source": [
    "### 46. Write a Python program to find the character position of Kth word from a list of strings"
   ]
  },
  {
   "cell_type": "code",
   "execution_count": 5,
   "id": "c08f491a",
   "metadata": {},
   "outputs": [
    {
     "name": "stdout",
     "output_type": "stream",
     "text": [
      "Index of character at Kth position word: 3\n"
     ]
    }
   ],
   "source": [
    "\n",
    "# List of strings\n",
    "word_list = ['Tutor', 'joes', 'Computer', 'Education']\n",
    "\n",
    "# Kth position (0-based index)\n",
    "K = 20\n",
    "\n",
    "# Initialize the total character count and the index\n",
    "char_count = 0\n",
    "index = -1\n",
    "\n",
    "# Iterate through the list of strings\n",
    "for word in word_list:\n",
    "    # Increment the character count by the length of the current word\n",
    "    char_count += len(word)\n",
    "\n",
    "    # Check if the total character count exceeds K\n",
    "    if char_count > K:\n",
    "        index = word_list.index(word)\n",
    "        break\n",
    "\n",
    "# Print the result\n",
    "if index != -1:\n",
    "    print(f\"Index of character at Kth position word: {index}\")\n",
    "else:\n",
    "    print(\"K is greater than the total number of characters in the list.\")\n"
   ]
  },
  {
   "cell_type": "markdown",
   "id": "e38480f9",
   "metadata": {},
   "source": [
    "### 47. Write a Python Program to Prefix frequency in string List"
   ]
  },
  {
   "cell_type": "code",
   "execution_count": 7,
   "id": "54f58930",
   "metadata": {},
   "outputs": [
    {
     "name": "stdout",
     "output_type": "stream",
     "text": [
      "Strings count with matching prefix frequency: 3\n"
     ]
    }
   ],
   "source": [
    "\n",
    "# List of strings\n",
    "string_list = ['TjC', 'TjCpp', 'TjPython', 'Java']\n",
    "\n",
    "# Prefix to search for\n",
    "prefix = 'Tj'\n",
    "\n",
    "# Initialize the count of strings with the matching prefix\n",
    "count = 0\n",
    "\n",
    "# Iterate through the list of strings and count those with the given prefix\n",
    "for string in string_list:\n",
    "    if string.startswith(prefix):\n",
    "        count += 1\n",
    "\n",
    "# Print the result\n",
    "print(\"Strings count with matching prefix frequency:\", count)\n"
   ]
  },
  {
   "cell_type": "markdown",
   "id": "f6607d40",
   "metadata": {},
   "source": [
    "### 48. Write a Python Program to Split Strings on Prefix Occurrence"
   ]
  },
  {
   "cell_type": "code",
   "execution_count": 36,
   "id": "a73eadcf",
   "metadata": {},
   "outputs": [
    {
     "name": "stdout",
     "output_type": "stream",
     "text": [
      "Split strings on prefix occurrence : [['TjC'], ['TjCpp'], ['TjPython', 'Java', 'tj']]\n"
     ]
    }
   ],
   "source": [
    "\n",
    "# List of strings\n",
    "string_list = ['TjC', 'TjCpp', 'TjPython', 'Java', 'tj']\n",
    "\n",
    "# Prefix to split on\n",
    "prefix = 'Tj'\n",
    "\n",
    "# Initialize a list to store the split sublists\n",
    "result = []\n",
    "\n",
    "# Initialize a temporary sublist\n",
    "sublist = []\n",
    "\n",
    "# Iterate through the list of strings\n",
    "for string in string_list:\n",
    "    if string.startswith(prefix):\n",
    "        # Start a new sublist when a string starts with the prefix\n",
    "        if sublist:\n",
    "            result.append(sublist)\n",
    "            sublist = []\n",
    "        sublist.append(string)\n",
    "    else:\n",
    "        # Add the string to the current sublist\n",
    "        sublist.append(string)\n",
    "\n",
    "# Append the last sublist (if any)\n",
    "if sublist:\n",
    "    result.append(sublist)\n",
    "\n",
    "# Print the result\n",
    "print(\"Split strings on prefix occurrence :\",result)\n"
   ]
  },
  {
   "cell_type": "markdown",
   "id": "a9c9a1fa",
   "metadata": {},
   "source": [
    "### 49. Write a Python program to Replace all Characters of a List Except the given character"
   ]
  },
  {
   "cell_type": "code",
   "execution_count": 41,
   "id": "46b45fa0",
   "metadata": {},
   "outputs": [
    {
     "name": "stdout",
     "output_type": "stream",
     "text": [
      "Before replacing of a list: ['P', 'Y', 'T', 'H', 'O', 'N']\n",
      "After replacing of a list except 'T' character : ['@', '@', 'T', '@', '@', '@']\n"
     ]
    }
   ],
   "source": [
    "\n",
    "# Function to replace characters in a list with a specified character, except for a given character\n",
    "def replace_characters_with_except(input_list, char_to_keep, replacement_char):\n",
    "    result = [char if char == char_to_keep else replacement_char for char in input_list]\n",
    "    return result\n",
    "\n",
    "# List of characters\n",
    "char_list1 = ['P', 'Y', 'T', 'H', 'O', 'N']\n",
    "char_list2 = ['A', 'B', 'T', 'C', 'D', 'E']\n",
    "\n",
    "# Character to keep\n",
    "char_to_keep = 'T'\n",
    "\n",
    "# Replacement character\n",
    "replacement_char = '@'\n",
    "\n",
    "# Replace characters in the lists\n",
    "result_list1 = replace_characters_with_except(char_list1, char_to_keep, replacement_char)\n",
    "\n",
    "# Print the results\n",
    "print(\"Before replacing of a list:\",char_list1)\n",
    "print(\"After replacing of a list except 'T' character :\",result_list1)\n",
    "\n"
   ]
  },
  {
   "cell_type": "markdown",
   "id": "6beb532e",
   "metadata": {},
   "source": [
    "### 50. Write a Python Program to Add Space between Potential Words"
   ]
  },
  {
   "cell_type": "code",
   "execution_count": 43,
   "id": "5e158888",
   "metadata": {},
   "outputs": [
    {
     "name": "stdout",
     "output_type": "stream",
     "text": [
      "Adding a space between Potential words: ['Tutor Joes', 'Computer Educations']\n"
     ]
    }
   ],
   "source": [
    "\n",
    "# List of strings\n",
    "string_list = ['TutorJoes', 'ComputerEducations']\n",
    "\n",
    "# Function to add spaces between potential words\n",
    "def add_spaces(string):\n",
    "    result = [char if char.islower() else ' ' + char for char in string]\n",
    "    return ''.join(result).lstrip()\n",
    "\n",
    "# Add spaces to the strings in the list\n",
    "result_list = [add_spaces(string) for string in string_list]\n",
    "\n",
    "# Print the results\n",
    "print(\"Adding a space between Potential words:\",result_list)\n"
   ]
  },
  {
   "cell_type": "code",
   "execution_count": null,
   "id": "06936b4b",
   "metadata": {},
   "outputs": [],
   "source": []
  }
 ],
 "metadata": {
  "kernelspec": {
   "display_name": "Python 3 (ipykernel)",
   "language": "python",
   "name": "python3"
  },
  "language_info": {
   "codemirror_mode": {
    "name": "ipython",
    "version": 3
   },
   "file_extension": ".py",
   "mimetype": "text/x-python",
   "name": "python",
   "nbconvert_exporter": "python",
   "pygments_lexer": "ipython3",
   "version": "3.11.4"
  }
 },
 "nbformat": 4,
 "nbformat_minor": 5
}
