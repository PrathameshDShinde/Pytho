{
 "cells": [
  {
   "cell_type": "markdown",
   "id": "34c283e3",
   "metadata": {},
   "source": [
    "### 1. Write a program to find the factor of the given number."
   ]
  },
  {
   "cell_type": "code",
   "execution_count": 1,
   "id": "ef8303c9",
   "metadata": {},
   "outputs": [
    {
     "name": "stdout",
     "output_type": "stream",
     "text": [
      "Enter a number: 3\n",
      "Factors of 3 are: [1, 3]\n"
     ]
    }
   ],
   "source": [
    "# Input a number from the user\n",
    "number = int(input(\"Enter a number: \"))\n",
    "\n",
    "# Initialize an empty list to store the factors\n",
    "factors = []\n",
    "\n",
    "# Find the factors of the number\n",
    "for i in range(1, number + 1):\n",
    "    if number % i == 0:\n",
    "        factors.append(i)\n",
    "\n",
    "# Print the factors\n",
    "print(\"Factors of\", number, \"are:\", factors)\n"
   ]
  },
  {
   "cell_type": "markdown",
   "id": "b88362c8",
   "metadata": {},
   "source": [
    "### 2. Write a program to find whether the given number is prime or not"
   ]
  },
  {
   "cell_type": "code",
   "execution_count": 4,
   "id": "b74b63c3",
   "metadata": {},
   "outputs": [
    {
     "name": "stdout",
     "output_type": "stream",
     "text": [
      "Enter a number: 5\n",
      "5 is a prime number.\n"
     ]
    }
   ],
   "source": [
    "# Input a number from the user\n",
    "num = int(input(\"Enter a number: \"))\n",
    "\n",
    "# Check if the number is less than 2\n",
    "if num < 2:\n",
    "    is_prime = False\n",
    "else:\n",
    "    is_prime = True\n",
    "\n",
    "    # Check for factors from 2 to the square root of the number\n",
    "    for i in range(2, int(num**0.5) + 1):\n",
    "        if num % i == 0:\n",
    "            is_prime = False\n",
    "            break\n",
    "\n",
    "# Determine and print the result\n",
    "if is_prime:\n",
    "    print(num, \"is a prime number.\")\n",
    "else:\n",
    "    print(num, \"is not a prime number.\")\n"
   ]
  },
  {
   "cell_type": "markdown",
   "id": "5351913e",
   "metadata": {},
   "source": [
    "### 3. Write a program to find the given number is Armstrong number or not.\n"
   ]
  },
  {
   "cell_type": "code",
   "execution_count": 4,
   "id": "9c7a21e7",
   "metadata": {},
   "outputs": [
    {
     "name": "stdout",
     "output_type": "stream",
     "text": [
      "Enter a number: 1634\n",
      "1634 is an Armstrong number.\n"
     ]
    }
   ],
   "source": [
    "# Input a number from the user\n",
    "num = int(input(\"Enter a number: \"))\n",
    "\n",
    "# Calculate the number of digits in the number\n",
    "num_str = str(num)\n",
    "num_digits = len(num_str)\n",
    "\n",
    "# Initialize a variable to store the sum of digits raised to the power of the number of digits\n",
    "sum_of_powers = 0\n",
    "\n",
    "# Calculate the sum of digits raised to the power of the number of digits\n",
    "for digit_char in num_str:\n",
    "    digit = int(digit_char)\n",
    "    sum_of_powers += digit ** num_digits\n",
    "\n",
    "# Check if the number is an Armstrong number\n",
    "if num == sum_of_powers:\n",
    "    print(num, \"is an Armstrong number.\")\n",
    "else:\n",
    "    print(num, \"is not an Armstrong number.\")\n"
   ]
  },
  {
   "cell_type": "markdown",
   "id": "8e9cbef6",
   "metadata": {},
   "source": [
    "### 4. Write a program to print the Armstrong numbers between 100 to 999"
   ]
  },
  {
   "cell_type": "code",
   "execution_count": 4,
   "id": "73449392",
   "metadata": {},
   "outputs": [
    {
     "name": "stdout",
     "output_type": "stream",
     "text": [
      "Armstrong numbers between 100 to 999 :\n",
      "153\n",
      "370\n",
      "371\n",
      "407\n"
     ]
    }
   ],
   "source": [
    "# Function to check if a number is an Armstrong number\n",
    "def is_armstrong(number):\n",
    "    num_str = str(number)\n",
    "    num_digits = len(num_str)\n",
    "    sum_of_powers = sum(int(digit) ** num_digits for digit in num_str)\n",
    "    return number == sum_of_powers\n",
    "\n",
    "print(\"Armstrong numbers between 100 to 999 :\")\n",
    "\n",
    "# Print Armstrong numbers in the range 100 to 999\n",
    "for num in range(100, 1000):\n",
    "    if is_armstrong(num):\n",
    "        print(num)\n"
   ]
  },
  {
   "cell_type": "code",
   "execution_count": 5,
   "id": "9af9c59e",
   "metadata": {},
   "outputs": [
    {
     "name": "stdout",
     "output_type": "stream",
     "text": [
      "153\n",
      "370\n",
      "371\n",
      "407\n"
     ]
    }
   ],
   "source": [
    "for num in range (100,1000):\n",
    "    hundred_digit = num // 100\n",
    "    remaining = num % 100\n",
    "    tens_digit = remaining // 10\n",
    "    ones_digit = remaining % 10\n",
    "    \n",
    "    if num == (hundred_digit ** 3 + tens_digit ** 3 + ones_digit ** 3):\n",
    "        print(num)"
   ]
  },
  {
   "cell_type": "markdown",
   "id": "800b3ed2",
   "metadata": {},
   "source": [
    "### 5. Write a program to count and print the number of odd and even numbers."
   ]
  },
  {
   "cell_type": "code",
   "execution_count": 8,
   "id": "c1402e2f",
   "metadata": {},
   "outputs": [
    {
     "name": "stdout",
     "output_type": "stream",
     "text": [
      "Enter a list of numbers separated by spaces: 1 3 5\n",
      "Number of even numbers: 0\n",
      "Number of odd numbers: 3\n"
     ]
    }
   ],
   "source": [
    "# Input a list of numbers separated by spaces\n",
    "numbers = input(\"Enter a list of numbers separated by spaces: \").split()\n",
    "\n",
    "# Initialize counters for even and odd numbers\n",
    "even_count = 0\n",
    "odd_count = 0\n",
    "\n",
    "# Convert the input strings to integers and count even and odd numbers\n",
    "for num in numbers:\n",
    "    num = int(num)\n",
    "    if num % 2 == 0:\n",
    "        even_count += 1\n",
    "    else:\n",
    "        odd_count += 1\n",
    "\n",
    "# Print the counts of even and odd numbers\n",
    "print(\"Number of even numbers:\", even_count)\n",
    "print(\"Number of odd numbers:\", odd_count)\n"
   ]
  },
  {
   "cell_type": "markdown",
   "id": "c41bb00f",
   "metadata": {},
   "source": [
    "### 6. Write a program to find the reverse of n digit number using While loop"
   ]
  },
  {
   "cell_type": "code",
   "execution_count": 11,
   "id": "c3123cab",
   "metadata": {},
   "outputs": [
    {
     "name": "stdout",
     "output_type": "stream",
     "text": [
      "Enter an n-digit number: 252525\n",
      "Original number: 252525\n",
      "Reversed number: 525252\n"
     ]
    }
   ],
   "source": [
    "# Input an n-digit number\n",
    "n = int(input(\"Enter an n-digit number: \"))\n",
    "\n",
    "# Initialize variables\n",
    "reversed_num = 0\n",
    "original_num = n\n",
    "\n",
    "# Reverse the number using a while loop\n",
    "while n > 0:\n",
    "    remainder = n % 10\n",
    "    reversed_num = reversed_num * 10 + remainder\n",
    "    n = n // 10\n",
    "\n",
    "# Print the reversed number\n",
    "print(\"Original number:\", original_num)\n",
    "print(\"Reversed number:\", reversed_num)\n"
   ]
  },
  {
   "cell_type": "markdown",
   "id": "83d4d4d7",
   "metadata": {},
   "source": [
    "### 7. Write a program to find the binary number from given decimal number."
   ]
  },
  {
   "cell_type": "code",
   "execution_count": 30,
   "id": "c01a71f3",
   "metadata": {},
   "outputs": [
    {
     "name": "stdout",
     "output_type": "stream",
     "text": [
      "Enter a decimal number: 25\n",
      "Binary representation: 0b11001\n"
     ]
    }
   ],
   "source": [
    "# Input a decimal number\n",
    "decimal_num = int(input(\"Enter a decimal number: \"))\n",
    "\n",
    "# Convert the decimal number to binary using the bin() function\n",
    "binary_num = bin(decimal_num)\n",
    "\n",
    "# Print the binary representation\n",
    "print(\"Binary representation:\", binary_num)\n"
   ]
  },
  {
   "cell_type": "markdown",
   "id": "d1c90644",
   "metadata": {},
   "source": [
    "### 8. Write a program to find the decimal number from given Binary number."
   ]
  },
  {
   "cell_type": "code",
   "execution_count": 17,
   "id": "333f6bb6",
   "metadata": {},
   "outputs": [
    {
     "name": "stdout",
     "output_type": "stream",
     "text": [
      "Enter a binary number: 10\n",
      "Decimal representation: 2\n"
     ]
    }
   ],
   "source": [
    "# Input a binary number\n",
    "binary_num = input(\"Enter a binary number: \")\n",
    "\n",
    "# Convert the binary number to decimal using the int() function\n",
    "decimal_num = int(binary_num, 2)\n",
    "\n",
    "# Print the decimal representation\n",
    "print(\"Decimal representation:\", decimal_num)\n"
   ]
  },
  {
   "cell_type": "markdown",
   "id": "3fb5fd57",
   "metadata": {},
   "source": [
    "### 9. Write a program to find the factorial of the given number."
   ]
  },
  {
   "cell_type": "code",
   "execution_count": 20,
   "id": "6f793e9a",
   "metadata": {},
   "outputs": [
    {
     "name": "stdout",
     "output_type": "stream",
     "text": [
      "Enter a number: 4\n",
      "The factorial of 4 is 24\n"
     ]
    }
   ],
   "source": [
    "def factorial(n):\n",
    "    if n < 0:\n",
    "        return \"Factorial is not defined for negative numbers\"\n",
    "    elif n == 0:\n",
    "        return 1\n",
    "    else:\n",
    "        result = 1\n",
    "        for i in range(1, n + 1):\n",
    "            result *= i\n",
    "        return result\n",
    "\n",
    "# Input from the user\n",
    "num = int(input(\"Enter a number: \"))\n",
    "\n",
    "# Calculate and display the factorial\n",
    "print(f\"The factorial of {num} is {factorial(num)}\")\n"
   ]
  },
  {
   "cell_type": "markdown",
   "id": "ee0c3136",
   "metadata": {},
   "source": [
    "### 10. Write a program to find the Fibonacci Series of the given number."
   ]
  },
  {
   "cell_type": "code",
   "execution_count": 19,
   "id": "9e1d947f",
   "metadata": {},
   "outputs": [
    {
     "name": "stdout",
     "output_type": "stream",
     "text": [
      "Enter the number of Fibonacci numbers to generate: 3\n",
      "The Fibonacci series of 3 numbers is: [0, 1, 1]\n"
     ]
    }
   ],
   "source": [
    "def fibonacci_series(n):\n",
    "    if n <= 0:\n",
    "        return \"Invalid input. Please enter a positive integer.\"\n",
    "    elif n == 1:\n",
    "        return [0]\n",
    "    elif n == 2:\n",
    "        return [0, 1]\n",
    "    else:\n",
    "        fibonacci = [0, 1]\n",
    "        for i in range(2, n):\n",
    "            next_fib = fibonacci[i - 1] + fibonacci[i - 2]\n",
    "            fibonacci.append(next_fib)\n",
    "        return fibonacci\n",
    "\n",
    "# Input from the user\n",
    "num = int(input(\"Enter the number of Fibonacci numbers to generate: \"))\n",
    "\n",
    "# Generate and display the Fibonacci series\n",
    "result = fibonacci_series(num)\n",
    "print(f\"The Fibonacci series of {num} numbers is: {result}\")\n"
   ]
  },
  {
   "cell_type": "markdown",
   "id": "924420b3",
   "metadata": {},
   "source": [
    "### 11. Write a program to find the given number is perfect number"
   ]
  },
  {
   "cell_type": "code",
   "execution_count": 21,
   "id": "1a387c10",
   "metadata": {},
   "outputs": [
    {
     "name": "stdout",
     "output_type": "stream",
     "text": [
      "Enter a number: 2\n",
      "2 is not a perfect number.\n"
     ]
    }
   ],
   "source": [
    "def is_perfect_number(num):\n",
    "    if num <= 0:\n",
    "        return False  # Perfect numbers are positive integers\n",
    "\n",
    "    divisors = [1]  # Start with 1 as it is a divisor for all positive integers\n",
    "    for i in range(2, int(num ** 0.5) + 1):\n",
    "        if num % i == 0:\n",
    "            divisors.extend([i, num // i])\n",
    "\n",
    "    # Sum the divisors and check if it equals the original number\n",
    "    sum_of_divisors = sum(divisors)\n",
    "    return sum_of_divisors == num\n",
    "\n",
    "# Input from the user\n",
    "num = int(input(\"Enter a number: \"))\n",
    "\n",
    "# Check if the number is a perfect number\n",
    "if is_perfect_number(num):\n",
    "    print(f\"{num} is a perfect number.\")\n",
    "else:\n",
    "    print(f\"{num} is not a perfect number.\")\n"
   ]
  },
  {
   "cell_type": "markdown",
   "id": "78676646",
   "metadata": {},
   "source": [
    "### 12. Write a program to print the perfect number between 1-1000"
   ]
  },
  {
   "cell_type": "code",
   "execution_count": 22,
   "id": "6997a866",
   "metadata": {},
   "outputs": [
    {
     "name": "stdout",
     "output_type": "stream",
     "text": [
      "Perfect numbers between 1 and 1000:\n",
      "1\n",
      "6\n",
      "28\n",
      "496\n"
     ]
    }
   ],
   "source": [
    "def is_perfect_number(num):\n",
    "    if num <= 0:\n",
    "        return False  # Perfect numbers are positive integers\n",
    "\n",
    "    divisors = [1]  # Start with 1 as it is a divisor for all positive integers\n",
    "    for i in range(2, int(num ** 0.5) + 1):\n",
    "        if num % i == 0:\n",
    "            divisors.extend([i, num // i])\n",
    "\n",
    "    # Sum the divisors and check if it equals the original number\n",
    "    sum_of_divisors = sum(divisors)\n",
    "    return sum_of_divisors == num\n",
    "\n",
    "# Find and print perfect numbers between 1 and 1000\n",
    "print(\"Perfect numbers between 1 and 1000:\")\n",
    "for number in range(1, 1001):\n",
    "    if is_perfect_number(number):\n",
    "        print(number)\n"
   ]
  },
  {
   "cell_type": "markdown",
   "id": "b7b70026",
   "metadata": {},
   "source": [
    "### 13. Write a program to find the given number is strong number"
   ]
  },
  {
   "cell_type": "code",
   "execution_count": 26,
   "id": "105d6138",
   "metadata": {},
   "outputs": [
    {
     "name": "stdout",
     "output_type": "stream",
     "text": [
      "Enter a number: 6\n",
      "6 is not a strong number.\n"
     ]
    }
   ],
   "source": [
    "def factorial(n):\n",
    "    if n == 0:\n",
    "        return 1\n",
    "    result = 1\n",
    "    for i in range(1, n + 1):\n",
    "        result *= i\n",
    "    return result\n",
    "\n",
    "def is_strong_number(num):\n",
    "    num_str = str(num)\n",
    "    digit_sum = sum(factorial(int(digit)) for digit in num_str)\n",
    "    return digit_sum == num\n",
    "\n",
    "# Input from the user\n",
    "num = int(input(\"Enter a number: \"))\n",
    "\n",
    "# Check if the number is a strong number\n",
    "if is_strong_number(num):\n",
    "    print(f\"{num} is a strong number.\")\n",
    "else:\n",
    "    print(f\"{num} is not a strong number.\")\n"
   ]
  },
  {
   "cell_type": "markdown",
   "id": "52aab804",
   "metadata": {},
   "source": [
    "### 14. Two numbers are entered through the keyboard. Write a program to find the value of one number raised to the power of another."
   ]
  },
  {
   "cell_type": "code",
   "execution_count": 29,
   "id": "f2f4498b",
   "metadata": {},
   "outputs": [
    {
     "name": "stdout",
     "output_type": "stream",
     "text": [
      "Enter the base number: 2\n",
      "Enter the exponent: 1\n",
      "2.0 raised to the power of 1.0 is 2.0\n"
     ]
    }
   ],
   "source": [
    "# Input from the user\n",
    "base = float(input(\"Enter the base number: \"))\n",
    "exponent = float(input(\"Enter the exponent: \"))\n",
    "\n",
    "# Calculate the result\n",
    "result = base ** exponent\n",
    "\n",
    "# Display the result\n",
    "print(f\"{base} raised to the power of {exponent} is {result}\")\n"
   ]
  },
  {
   "cell_type": "code",
   "execution_count": null,
   "id": "c6c6f154",
   "metadata": {},
   "outputs": [],
   "source": []
  }
 ],
 "metadata": {
  "kernelspec": {
   "display_name": "Python 3 (ipykernel)",
   "language": "python",
   "name": "python3"
  },
  "language_info": {
   "codemirror_mode": {
    "name": "ipython",
    "version": 3
   },
   "file_extension": ".py",
   "mimetype": "text/x-python",
   "name": "python",
   "nbconvert_exporter": "python",
   "pygments_lexer": "ipython3",
   "version": "3.11.4"
  }
 },
 "nbformat": 4,
 "nbformat_minor": 5
}
