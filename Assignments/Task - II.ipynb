{
 "cells": [
  {
   "cell_type": "markdown",
   "id": "34d3ef4b",
   "metadata": {},
   "source": [
    "### 1. While purchasing certain items, a discount of 10% is offered if the quantity purchased is more than 10. If quantity and price per item are input through the keyboard, write a program to calculate the total expenses."
   ]
  },
  {
   "cell_type": "code",
   "execution_count": 2,
   "id": "0bc69ae7",
   "metadata": {},
   "outputs": [
    {
     "name": "stdout",
     "output_type": "stream",
     "text": [
      "Enter the quantity: 12\n",
      "Enter the price per item: 2\n",
      "Total expenses: $21.60\n"
     ]
    }
   ],
   "source": [
    "# Input from the user\n",
    "quantity = int(input(\"Enter the quantity: \"))\n",
    "price_per_item = float(input(\"Enter the price per item: \"))\n",
    "\n",
    "# Calculate the total expenses\n",
    "if quantity > 10:\n",
    "    discount = 0.10  # 10% discount\n",
    "else:\n",
    "    discount = 0.0\n",
    "\n",
    "total_expenses = quantity * price_per_item * (1 - discount)\n",
    "\n",
    "# Display the total expenses\n",
    "print(f\"Total expenses: ${total_expenses:.2f}\")\n"
   ]
  },
  {
   "cell_type": "markdown",
   "id": "fd183095",
   "metadata": {},
   "source": [
    "### 2. The current year and the year in which the employee joined the organization are entered through the keyboard. If the number of years for which the employee has served the organization is greater than 3 then a bonus of Rs. 2500/- is given to the employee. If the years of service are not greater than 3, then the program should do nothing."
   ]
  },
  {
   "cell_type": "code",
   "execution_count": 2,
   "id": "cc448400",
   "metadata": {},
   "outputs": [
    {
     "name": "stdout",
     "output_type": "stream",
     "text": [
      "Enter the current year: 2023\n",
      "Enter the year the employee joined the organization: 2019\n",
      "The employee is eligible for a bonus of Rs. 2500\n"
     ]
    }
   ],
   "source": [
    "# Input from the user\n",
    "current_year = int(input(\"Enter the current year: \"))\n",
    "joining_year = int(input(\"Enter the year the employee joined the organization: \"))\n",
    "\n",
    "# Calculate the years of service\n",
    "years_of_service = current_year - joining_year\n",
    "\n",
    "# Check if the employee is eligible for a bonus\n",
    "if years_of_service > 3:\n",
    "    bonus_amount = 2500  # Rs. 2500 bonus\n",
    "    print(f\"The employee is eligible for a bonus of Rs. {bonus_amount}\")\n",
    "else:\n",
    "    print(\"The employee is not eligible for a bonus.\")\n"
   ]
  },
  {
   "cell_type": "markdown",
   "id": "87a8f572",
   "metadata": {},
   "source": [
    "### 3. If his basic salary is less than Rs. 1500, then HRA = 10% of basic salary and DA = 90% of basic salary. If his salary is either equal to or above Rs. 1500, then HRA = Rs. 500 and DA = 98% of basic salary. If the employee's salary is input through the keyboard write a program to find his gross salary\n"
   ]
  },
  {
   "cell_type": "code",
   "execution_count": 4,
   "id": "74574382",
   "metadata": {},
   "outputs": [
    {
     "name": "stdout",
     "output_type": "stream",
     "text": [
      "Enter the basic salary: 10000\n",
      "Gross Salary: Rs. 20300.00\n"
     ]
    }
   ],
   "source": [
    "# Input from the user\n",
    "basic_salary = float(input(\"Enter the basic salary: \"))\n",
    "\n",
    "# Check basic salary conditions and calculate HRA and DA accordingly\n",
    "if basic_salary < 1500:\n",
    "    hra = 0.10 * basic_salary\n",
    "    da = 0.90 * basic_salary\n",
    "else:\n",
    "    hra = 500\n",
    "    da = 0.98 * basic_salary\n",
    "\n",
    "# Calculate gross salary\n",
    "gross_salary = basic_salary + hra + da\n",
    "\n",
    "# Display the gross salary\n",
    "print(f\"Gross Salary: Rs. {gross_salary:.2f}\")\n"
   ]
  },
  {
   "cell_type": "markdown",
   "id": "e4393ffc",
   "metadata": {},
   "source": [
    "### 4. The marks obtained by a student in 5 different subjects are input through the keyboard. The student gets a division as per the following rules: Write a program to calculate the division obtained by the student.\n",
    "### a. Percentage above or equal to 60 - First division\n",
    "### b. Percentage between 50 and 59 - Second division\n",
    "### c. Percentage between 40 and 49 - Third division\n",
    "### d. Percentage less than 40 – Fail"
   ]
  },
  {
   "cell_type": "code",
   "execution_count": 5,
   "id": "93ebe2ee",
   "metadata": {},
   "outputs": [
    {
     "name": "stdout",
     "output_type": "stream",
     "text": [
      "Enter marks for subject 1: 80\n",
      "Enter marks for subject 2: 80\n",
      "Enter marks for subject 3: 80\n",
      "Enter marks for subject 4: 80\n",
      "Enter marks for subject 5: 80\n",
      "The student's division is: First division\n"
     ]
    }
   ],
   "source": [
    "# Input marks for 5 subjects from the user\n",
    "marks = []\n",
    "for i in range(5):\n",
    "    subject_marks = float(input(f\"Enter marks for subject {i + 1}: \"))\n",
    "    marks.append(subject_marks)\n",
    "\n",
    "# Calculate the total marks and percentage\n",
    "total_marks = sum(marks)\n",
    "percentage = (total_marks / (5 * 100)) * 100\n",
    "\n",
    "# Determine the division based on the percentage\n",
    "if percentage >= 60:\n",
    "    division = \"First division\"\n",
    "elif 50 <= percentage <= 59:\n",
    "    division = \"Second division\"\n",
    "elif 40 <= percentage <= 49:\n",
    "    division = \"Third division\"\n",
    "else:\n",
    "    division = \"Fail\"\n",
    "\n",
    "# Display the division obtained by the student\n",
    "print(f\"The student's division is: {division}\")\n"
   ]
  },
  {
   "cell_type": "markdown",
   "id": "061bab98",
   "metadata": {},
   "source": [
    "### 5. A company insures its drivers in the following cases:\n",
    "### a. If the driver is married.\n",
    "### b. If the driver is unmarried, male & above 30 years of age.\n",
    "### c. If the driver is unmarried, female & above 25 years of age."
   ]
  },
  {
   "cell_type": "code",
   "execution_count": 6,
   "id": "f257c3d4",
   "metadata": {
    "scrolled": true
   },
   "outputs": [
    {
     "name": "stdout",
     "output_type": "stream",
     "text": [
      "Enter the driver's marital status (married/unmarried): married\n",
      "Enter the driver's gender (male/female): male\n",
      "Enter the driver's age: 30\n",
      "The driver is eligible for insurance.\n"
     ]
    }
   ],
   "source": [
    "# Input driver's marital status, gender, and age from the user\n",
    "marital_status = input(\"Enter the driver's marital status (married/unmarried): \")\n",
    "gender = input(\"Enter the driver's gender (male/female): \")\n",
    "age = int(input(\"Enter the driver's age: \"))\n",
    "\n",
    "# Check eligibility for insurance\n",
    "eligible_for_insurance = False\n",
    "\n",
    "if marital_status == \"married\":\n",
    "    eligible_for_insurance = True\n",
    "elif marital_status == \"unmarried\" and gender == \"male\" and age > 30:\n",
    "    eligible_for_insurance = True\n",
    "elif marital_status == \"unmarried\" and gender == \"female\" and age > 25:\n",
    "    eligible_for_insurance = True\n",
    "\n",
    "# Display the eligibility for insurance\n",
    "if eligible_for_insurance:\n",
    "    print(\"The driver is eligible for insurance.\")\n",
    "else:\n",
    "    print(\"The driver is not eligible for insurance.\")\n"
   ]
  },
  {
   "cell_type": "markdown",
   "id": "e127b043",
   "metadata": {},
   "source": [
    "### 6. Write a program to calculate the salary as per the following table:\n",
    "### Gender Year of Service Qualifications Salary\n",
    "### Male >= 10 Post - Graduate 15000\n",
    "### >= 10 Graduate 10000\n",
    "### < 10 Post - Graduate 10000\n",
    "### < 10 Graduate 7000\n",
    "### Female >= 10 Post - Graduate 12000\n",
    "### >= 10 Graduate 9000\n",
    "### < 10 Post - Graduate 10000\n",
    "### < 10 Graduate 6000"
   ]
  },
  {
   "cell_type": "code",
   "execution_count": 7,
   "id": "5530d406",
   "metadata": {},
   "outputs": [
    {
     "name": "stdout",
     "output_type": "stream",
     "text": [
      "Enter the employee's gender (male/female): male\n",
      "Enter the years of service: 25\n",
      "Enter the qualifications (Post-Graduate/Graduate): Graduate\n",
      "The employee's calculated salary is: Rs. 10000\n"
     ]
    }
   ],
   "source": [
    "# Input employee's gender, years of service, and qualifications from the user\n",
    "gender = input(\"Enter the employee's gender (male/female): \")\n",
    "years_of_service = int(input(\"Enter the years of service: \"))\n",
    "qualifications = input(\"Enter the qualifications (Post-Graduate/Graduate): \")\n",
    "\n",
    "# Initialize the base salary\n",
    "base_salary = 0\n",
    "\n",
    "# Check qualifications and years of service to determine the base salary\n",
    "if gender == \"male\":\n",
    "    if years_of_service >= 10:\n",
    "        if qualifications == \"Post-Graduate\":\n",
    "            base_salary = 15000\n",
    "        else:\n",
    "            base_salary = 10000\n",
    "    else:\n",
    "        if qualifications == \"Post-Graduate\":\n",
    "            base_salary = 10000\n",
    "        else:\n",
    "            base_salary = 7000\n",
    "elif gender == \"female\":\n",
    "    if years_of_service >= 10:\n",
    "        if qualifications == \"Post-Graduate\":\n",
    "            base_salary = 12000\n",
    "        else:\n",
    "            base_salary = 9000\n",
    "    else:\n",
    "        if qualifications == \"Post-Graduate\":\n",
    "            base_salary = 10000\n",
    "        else:\n",
    "            base_salary = 6000\n",
    "\n",
    "# Display the calculated salary\n",
    "print(f\"The employee's calculated salary is: Rs. {base_salary}\")\n"
   ]
  },
  {
   "cell_type": "markdown",
   "id": "c4b92f02",
   "metadata": {},
   "source": [
    "### 7. If cost price and selling price of an item is input through the keyboard, write a program to determine whether the seller has made profit or incurred loss. Also determine how much profit he made or loss he incurred."
   ]
  },
  {
   "cell_type": "code",
   "execution_count": 5,
   "id": "9ab76d29",
   "metadata": {},
   "outputs": [
    {
     "name": "stdout",
     "output_type": "stream",
     "text": [
      "Enter the cost price: 40\n",
      "Enter the selling price: 20\n",
      "The seller has incurred a loss of Rs. 20.00\n"
     ]
    }
   ],
   "source": [
    "# Input cost price and selling price from the user\n",
    "cost_price = float(input(\"Enter the cost price: \"))\n",
    "selling_price = float(input(\"Enter the selling price: \"))\n",
    "\n",
    "# Calculate profit or loss\n",
    "profit_or_loss = selling_price - cost_price\n",
    "\n",
    "# Determine and display the result\n",
    "if profit_or_loss > 0:\n",
    "    print(f\"The seller has made a profit of Rs. {profit_or_loss:.2f}\")\n",
    "elif profit_or_loss < 0:\n",
    "    print(f\"The seller has incurred a loss of Rs. {abs(profit_or_loss):.2f}\")\n",
    "else:\n",
    "    print(\"The seller neither made a profit nor incurred a loss.\")\n"
   ]
  },
  {
   "cell_type": "markdown",
   "id": "46709e6d",
   "metadata": {},
   "source": [
    "### 8. Any integer is input through the keyboard. Write a program to find out whether it is an odd number or even number. (Hint: Use the % (modulus) operator)"
   ]
  },
  {
   "cell_type": "code",
   "execution_count": 9,
   "id": "be0f37fc",
   "metadata": {},
   "outputs": [
    {
     "name": "stdout",
     "output_type": "stream",
     "text": [
      "Enter an integer: 23\n",
      "23 is an odd number.\n"
     ]
    }
   ],
   "source": [
    "# Input an integer from the user\n",
    "number = int(input(\"Enter an integer: \"))\n",
    "\n",
    "# Check if the number is even or odd\n",
    "if number % 2 == 0:\n",
    "    print(f\"{number} is an even number.\")\n",
    "else:\n",
    "    print(f\"{number} is an odd number.\")\n"
   ]
  },
  {
   "cell_type": "markdown",
   "id": "3c87c776",
   "metadata": {},
   "source": [
    "### 9. A five-digit number is entered through the keyboard. Write a program to obtain the reversed number and to determine whether the original and reversed numbers are equal or not."
   ]
  },
  {
   "cell_type": "code",
   "execution_count": 10,
   "id": "ce62bc02",
   "metadata": {},
   "outputs": [
    {
     "name": "stdout",
     "output_type": "stream",
     "text": [
      "Enter a five-digit number: 12345\n",
      "The original number 12345 and reversed number 54321 are not equal.\n"
     ]
    }
   ],
   "source": [
    "# Input a five-digit number from the user\n",
    "number = int(input(\"Enter a five-digit number: \"))\n",
    "\n",
    "# Check if the number is indeed a five-digit number\n",
    "if 10000 <= number <= 99999:\n",
    "    # Calculate the reversed number\n",
    "    reversed_number = int(str(number)[::-1])\n",
    "\n",
    "    # Determine whether the original and reversed numbers are equal\n",
    "    if number == reversed_number:\n",
    "        print(f\"The original number {number} and reversed number {reversed_number} are equal.\")\n",
    "    else:\n",
    "        print(f\"The original number {number} and reversed number {reversed_number} are not equal.\")\n",
    "else:\n",
    "    print(\"Please enter a valid five-digit number.\")\n"
   ]
  },
  {
   "cell_type": "markdown",
   "id": "d2e985df",
   "metadata": {},
   "source": [
    "### 10. If the ages of Ram, Shyam and Ajay are input through the keyboard, write a program to determine the youngest of the three.\n"
   ]
  },
  {
   "cell_type": "code",
   "execution_count": 6,
   "id": "a5786fa2",
   "metadata": {},
   "outputs": [
    {
     "name": "stdout",
     "output_type": "stream",
     "text": [
      "Enter Ram's age: 2\n",
      "Enter Shyam's age: 3\n",
      "Enter Ajay's age: 4\n",
      "Ram is the youngest.\n"
     ]
    }
   ],
   "source": [
    "# Input ages of Ram, Shyam, and Ajay from the user\n",
    "ram_age = int(input(\"Enter Ram's age: \"))\n",
    "shyam_age = int(input(\"Enter Shyam's age: \"))\n",
    "ajay_age = int(input(\"Enter Ajay's age: \"))\n",
    "\n",
    "# Determine the youngest person\n",
    "youngest_age = min(ram_age, shyam_age, ajay_age)\n",
    "\n",
    "# Display the name of the youngest person\n",
    "if youngest_age == ram_age:\n",
    "    print(\"Ram is the youngest.\")\n",
    "elif youngest_age == shyam_age:\n",
    "    print(\"Shyam is the youngest.\")\n",
    "else:\n",
    "    print(\"Ajay is the youngest.\")\n"
   ]
  },
  {
   "cell_type": "markdown",
   "id": "55a33e09",
   "metadata": {},
   "source": [
    "### 11. Write a program to check whether a triangle is valid or not, when the three angles of the triangle are entered through the keyboard. A triangle is valid if the sum of all the three angles is equal to 180 degrees."
   ]
  },
  {
   "cell_type": "code",
   "execution_count": 7,
   "id": "4c61c437",
   "metadata": {},
   "outputs": [
    {
     "name": "stdout",
     "output_type": "stream",
     "text": [
      "Enter the first angle: 60\n",
      "Enter the second angle: 60\n",
      "Enter the third angle: 60\n",
      "It's a valid triangle.\n"
     ]
    }
   ],
   "source": [
    "# Input three angles of the triangle\n",
    "angle1 = float(input(\"Enter the first angle: \"))\n",
    "angle2 = float(input(\"Enter the second angle: \"))\n",
    "angle3 = float(input(\"Enter the third angle: \"))\n",
    "\n",
    "# Check if the sum of angles equals 180 degrees\n",
    "if angle1 + angle2 + angle3 == 180:\n",
    "    print(\"It's a valid triangle.\")\n",
    "else:\n",
    "    print(\"It's not a valid triangle.\")\n"
   ]
  },
  {
   "cell_type": "markdown",
   "id": "e067dba9",
   "metadata": {},
   "source": [
    "### 12. Find the absolute value of a number entered through the keyboard."
   ]
  },
  {
   "cell_type": "code",
   "execution_count": 8,
   "id": "347b31e1",
   "metadata": {},
   "outputs": [
    {
     "name": "stdout",
     "output_type": "stream",
     "text": [
      "Enter a number: 2.3\n",
      "The absolute value of 2.3 is 2.3\n"
     ]
    }
   ],
   "source": [
    "# Input a number from the keyboard\n",
    "number = float(input(\"Enter a number: \"))\n",
    "\n",
    "# Calculate the absolute value\n",
    "absolute_value = abs(number)\n",
    "\n",
    "# Print the absolute value\n",
    "print(\"The absolute value of\", number, \"is\", absolute_value)\n"
   ]
  },
  {
   "cell_type": "markdown",
   "id": "3c22ef12",
   "metadata": {},
   "source": [
    "### 13. Given the length and breadth of a rectangle, write a program to find whether the area of the rectangle is greater than its perimeter. For example, the area of the rectangle with length = 5 and breadth = 4 is greater than its perimeter\n"
   ]
  },
  {
   "cell_type": "code",
   "execution_count": 5,
   "id": "57d045fb",
   "metadata": {},
   "outputs": [
    {
     "name": "stdout",
     "output_type": "stream",
     "text": [
      "Enter the length of the rectangle: 12\n",
      "Enter the breadth of the rectangle: 12\n",
      "The area of the rectangle is greater than its perimeter.\n"
     ]
    }
   ],
   "source": [
    "# Input the length and breadth of the rectangle\n",
    "length = float(input(\"Enter the length of the rectangle: \"))\n",
    "breadth = float(input(\"Enter the breadth of the rectangle: \"))\n",
    "\n",
    "# Calculate the area and perimeter of the rectangle\n",
    "area = length * breadth\n",
    "perimeter = 2 * (length + breadth)\n",
    "\n",
    "# Check if the area is greater than the perimeter\n",
    "if area > perimeter:\n",
    "    print(\"The area of the rectangle is greater than its perimeter.\")\n",
    "else:\n",
    "    print(\"The area of the rectangle is not greater than its perimeter.\")\n"
   ]
  },
  {
   "cell_type": "markdown",
   "id": "ece9eb8c",
   "metadata": {},
   "source": [
    "### 14. Any year is entered through the keyboard, write a program to determine whether the year is leap or not. Use the logical operators && and ||"
   ]
  },
  {
   "cell_type": "code",
   "execution_count": 12,
   "id": "ba03df9c",
   "metadata": {},
   "outputs": [
    {
     "name": "stdout",
     "output_type": "stream",
     "text": [
      "Enter a year: 2022\n",
      "2022 is not a leap year.\n"
     ]
    }
   ],
   "source": [
    "# Input a year from the keyboard\n",
    "year = int(input(\"Enter a year: \"))\n",
    "\n",
    "# Check if it's a leap year\n",
    "if (year % 4 == 0 and year % 100 != 0) or (year % 400 == 0):\n",
    "    print(year, \"is a leap year.\")\n",
    "else:\n",
    "    print(year, \"is not a leap year.\")\n"
   ]
  },
  {
   "cell_type": "markdown",
   "id": "dd17b108",
   "metadata": {},
   "source": [
    "### 15. A certain grade of steel is graded according to the following conditions:\n",
    "### i. Hardness must be greater than 50 \n",
    "### ii. Carbon content must be less than 0.7\n",
    "### iii. Tensile strength must be greater than 5600\n",
    "### The grades are as follows:\n",
    "### i. Grade is 10 if all three conditions are met\n",
    "### ii. Grade is 9 if conditions (i) and (ii) are met\n",
    "### iii. Grade is 8 if conditions (ii) and (iii) are met\n",
    "### iv. Grade is 7 if conditions (i) and (iii) are met\n",
    "### v. Grade is 6 if only one condition is met\n",
    "### vi. Grade is 5 if none of the conditions are met\n",
    "### Write a program, which will require the user to give values of hardness, carbon content and tensile strength of the steel under consideration and output the grade of the steel."
   ]
  },
  {
   "cell_type": "code",
   "execution_count": 9,
   "id": "a4cb0c27",
   "metadata": {},
   "outputs": [
    {
     "name": "stdout",
     "output_type": "stream",
     "text": [
      "Enter the hardness: 2\n",
      "Enter the carbon content: 3\n",
      "Enter the tensile strength: 2\n",
      "The grade of the steel is: 5\n"
     ]
    }
   ],
   "source": [
    "# Input the hardness, carbon content, and tensile strength of the steel\n",
    "hardness = float(input(\"Enter the hardness: \"))\n",
    "carbon_content = float(input(\"Enter the carbon content: \"))\n",
    "tensile_strength = float(input(\"Enter the tensile strength: \"))\n",
    "\n",
    "# Initialize the grade to 5 by default (if none of the conditions are met)\n",
    "grade = 5\n",
    "\n",
    "# Check the conditions and update the grade accordingly\n",
    "if hardness > 50:\n",
    "    if carbon_content < 0.7:\n",
    "        if tensile_strength > 5600:\n",
    "            grade = 10\n",
    "        else:\n",
    "            grade = 7\n",
    "    else:\n",
    "        if tensile_strength > 5600:\n",
    "            grade = 8\n",
    "else:\n",
    "    if carbon_content < 0.7:\n",
    "        grade = 9\n",
    "\n",
    "# Output the grade of the steel\n",
    "print(\"The grade of the steel is:\", grade)\n"
   ]
  },
  {
   "cell_type": "markdown",
   "id": "4f6e5454",
   "metadata": {},
   "source": [
    "### 16. A library charges a fine for every book returned late. For first 5 days the fine is 50 paise, for 6-10 days fine is one rupee and above 10 days fine is 5 rupees. If you return the book after 30 days your membership will be cancelled. Write a program to accept the number of days the member is late to return the book and display the fine or the appropriate message"
   ]
  },
  {
   "cell_type": "code",
   "execution_count": null,
   "id": "103dc5a3",
   "metadata": {},
   "outputs": [],
   "source": [
    "# Input the number of days the member is late to return the book\n",
    "days_late = int(input(\"Enter the number of days late: \"))\n",
    "\n",
    "# Initialize the fine to 0 by default\n",
    "fine = 0\n",
    "\n",
    "# Check the number of days late and calculate the fine\n",
    "if days_late <= 5:\n",
    "    fine = 0.5 * days_late  # 50 paise per day for the first 5 days\n",
    "elif 6 <= days_late <= 10:\n",
    "    fine = 5 + (days_late - 5)  # 1 rupee per day for the next 5 days\n",
    "else:\n",
    "    fine = 30  # 5 rupees per day for more than 10 days\n",
    "\n",
    "# Check if membership will be canceled\n",
    "if days_late > 30:\n",
    "    print(\"Your membership is canceled.\")\n",
    "else:\n",
    "    # Output the fine amount or an appropriate message\n",
    "    if fine > 0:\n",
    "        print(\"The fine for returning the book late is Rs.\", fine)\n",
    "    else:\n",
    "        print(\"No fine for returning the book within the first 5 days.\")\n"
   ]
  },
  {
   "cell_type": "markdown",
   "id": "93c4288f",
   "metadata": {},
   "source": [
    "### 17. In a company, worker efficiency is determined on the basis of the time required for a worker to complete a particular job. If the time taken by the worker is between 2 – 3 hours, then the worker is said to be highly efficient. If the time required by the worker is between 3 – 4 hours, then the worker is ordered to improve speed. If the time taken is between 4 – 5 hours, the worker is given training to improve his speed, and if the time taken by the worker is more than 5 hours, then the worker has to leave the company. If the time taken by the worker is input through the keyboard, find the efficiency of the worker."
   ]
  },
  {
   "cell_type": "code",
   "execution_count": null,
   "id": "38c7e7c5",
   "metadata": {},
   "outputs": [],
   "source": [
    "# Input the time taken by the worker\n",
    "time_taken = float(input(\"Enter the time taken (in hours): \"))\n",
    "\n",
    "# Determine the worker's efficiency\n",
    "if 2 <= time_taken <= 3:\n",
    "    efficiency = \"highly efficient\"\n",
    "elif 3 < time_taken <= 4:\n",
    "    efficiency = \"improve speed\"\n",
    "elif 4 < time_taken <= 5:\n",
    "    efficiency = \"given training to improve speed\"\n",
    "else:\n",
    "    efficiency = \"has to leave the company\"\n",
    "\n",
    "# Output the worker's efficiency\n",
    "print(\"The worker is\", efficiency)\n"
   ]
  },
  {
   "cell_type": "code",
   "execution_count": null,
   "id": "d026d36f",
   "metadata": {},
   "outputs": [],
   "source": []
  }
 ],
 "metadata": {
  "kernelspec": {
   "display_name": "Python 3 (ipykernel)",
   "language": "python",
   "name": "python3"
  },
  "language_info": {
   "codemirror_mode": {
    "name": "ipython",
    "version": 3
   },
   "file_extension": ".py",
   "mimetype": "text/x-python",
   "name": "python",
   "nbconvert_exporter": "python",
   "pygments_lexer": "ipython3",
   "version": "3.11.4"
  }
 },
 "nbformat": 4,
 "nbformat_minor": 5
}
