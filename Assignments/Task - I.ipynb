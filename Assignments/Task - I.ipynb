{
 "cells": [
  {
   "cell_type": "markdown",
   "id": "190403fc",
   "metadata": {},
   "source": [
    "# Task - 1"
   ]
  },
  {
   "cell_type": "markdown",
   "id": "4dd2241a",
   "metadata": {},
   "source": [
    "### 1. Ramesh's basic salary is input through the keyboard. His dearness allowance is 40% of basic salary, and house rent allowance is 20% of basic salary. Write a program to calculate his gross salary."
   ]
  },
  {
   "cell_type": "code",
   "execution_count": 4,
   "id": "032d0989",
   "metadata": {},
   "outputs": [
    {
     "name": "stdout",
     "output_type": "stream",
     "text": [
      "Enter Ramesh's Basic Salary:10000\n",
      "Ramesh's Gross Salary: 16000.0\n"
     ]
    }
   ],
   "source": [
    "basic_salary = float(input(\"Enter Ramesh's Basic Salary:\"))\n",
    "\n",
    "dearness_allowance = 0.4 * basic_salary\n",
    "\n",
    "house_rent_allowance = 0.2 * basic_salary\n",
    "\n",
    "gross_salary = basic_salary + dearness_allowance + house_rent_allowance\n",
    "\n",
    "print(\"Ramesh's Gross Salary:\",gross_salary)"
   ]
  },
  {
   "cell_type": "markdown",
   "id": "452bfa02",
   "metadata": {},
   "source": [
    "### 2. The distance between two cities (in km.) is input through the keyboard. Write a program to convert and print this distance in meters, feet, inches and centimeters."
   ]
  },
  {
   "cell_type": "code",
   "execution_count": 5,
   "id": "92228de0",
   "metadata": {},
   "outputs": [
    {
     "name": "stdout",
     "output_type": "stream",
     "text": [
      "Enter the distance between two cities in kilometers: 1\n",
      "Distance in meters: 1000.0\n",
      "Distance in feet: 3280.84\n",
      "Distance in inches: 39370.1\n",
      "Distance in centimeters: 100000.0\n"
     ]
    }
   ],
   "source": [
    "# Input the distance in kilometers from the keyboard\n",
    "distance_km = float(input(\"Enter the distance between two cities in kilometers: \"))\n",
    "\n",
    "# Conversion factors\n",
    "# 1 kilometer = 1000 meters\n",
    "# 1 kilometer = 3280.84 feet\n",
    "# 1 kilometer = 39370.1 inches\n",
    "# 1 kilometer = 100000 centimeters\n",
    "\n",
    "# Convert distance to meters\n",
    "distance_m = distance_km * 1000\n",
    "\n",
    "# Convert distance to feet\n",
    "distance_feet = distance_km * 3280.84\n",
    "\n",
    "# Convert distance to inches\n",
    "distance_inches = distance_km * 39370.1\n",
    "\n",
    "# Convert distance to centimeters\n",
    "distance_cm = distance_km * 100000\n",
    "\n",
    "# Display the converted distances\n",
    "print(\"Distance in meters:\", distance_m)\n",
    "print(\"Distance in feet:\", distance_feet)\n",
    "print(\"Distance in inches:\", distance_inches)\n",
    "print(\"Distance in centimeters:\", distance_cm)\n"
   ]
  },
  {
   "cell_type": "markdown",
   "id": "4924a29f",
   "metadata": {},
   "source": [
    "### 3. If the marks obtained by a student in five different subjects are input through the keyboard, find out the aggregate marks and percentage marks obtained by the student. Assume that the maximum marks that can be obtained by a student in each subject is 100."
   ]
  },
  {
   "cell_type": "code",
   "execution_count": 7,
   "id": "512801f3",
   "metadata": {},
   "outputs": [
    {
     "name": "stdout",
     "output_type": "stream",
     "text": [
      "Enter marks for subject 1 (out of 100): 85\n",
      "Enter marks for subject 2 (out of 100): 85\n",
      "Enter marks for subject 3 (out of 100): 85\n",
      "Enter marks for subject 4 (out of 100): 85\n",
      "Enter marks for subject 5 (out of 100): 85\n",
      "Aggregate Marks: 425.0\n",
      "Percentage Marks: 85.0 %\n"
     ]
    }
   ],
   "source": [
    "# Initialize variables to store the marks in five subjects\n",
    "subject1 = float(input(\"Enter marks for subject 1 (out of 100): \"))\n",
    "subject2 = float(input(\"Enter marks for subject 2 (out of 100): \"))\n",
    "subject3 = float(input(\"Enter marks for subject 3 (out of 100): \"))\n",
    "subject4 = float(input(\"Enter marks for subject 4 (out of 100): \"))\n",
    "subject5 = float(input(\"Enter marks for subject 5 (out of 100): \"))\n",
    "\n",
    "# Calculate the aggregate marks\n",
    "aggregate_marks = subject1 + subject2 + subject3 + subject4 + subject5\n",
    "\n",
    "# Calculate the percentage marks\n",
    "maximum_marks_per_subject = 100\n",
    "total_maximum_marks = 5 * maximum_marks_per_subject\n",
    "percentage_marks = (aggregate_marks / total_maximum_marks) * 100\n",
    "\n",
    "# Display the aggregate marks and percentage marks\n",
    "print(\"Aggregate Marks:\", aggregate_marks)\n",
    "print(\"Percentage Marks:\", percentage_marks, \"%\")\n"
   ]
  },
  {
   "cell_type": "markdown",
   "id": "911fba16",
   "metadata": {},
   "source": [
    "### 4. Temperature of a city in Fahrenheit degrees is input through the keyboard. Write a program to convert this temperature into Centigrade degrees."
   ]
  },
  {
   "cell_type": "code",
   "execution_count": null,
   "id": "d41f54f3",
   "metadata": {},
   "outputs": [],
   "source": [
    "# Input the temperature in Fahrenheit from the keyboard\n",
    "fahrenheit = float(input(\"Enter temperature in Fahrenheit: \"))\n",
    "\n",
    "# Convert Fahrenheit to Celsius\n",
    "celsius = (5/9) * (fahrenheit - 32)\n",
    "\n",
    "# Display the temperature in Celsius\n",
    "print(\"Temperature in Celsius:\", celsius, \"°C\")\n"
   ]
  },
  {
   "cell_type": "markdown",
   "id": "9584ace3",
   "metadata": {},
   "source": [
    "### 5. The length & breadth of a rectangle and radius of a circle are input through the keyboard. Write a program to calculate the area & perimeter of the rectangle, and the area & circumference of the circle.\n"
   ]
  },
  {
   "cell_type": "code",
   "execution_count": 10,
   "id": "59ccf0da",
   "metadata": {},
   "outputs": [
    {
     "name": "stdout",
     "output_type": "stream",
     "text": [
      "Enter the length of the rectangle: 2\n",
      "Enter the breadth of the rectangle: 2\n",
      "Enter the radius of the circle: 2\n",
      "Rectangle Area: 4.0\n",
      "Rectangle Perimeter: 8.0\n",
      "Circle Area: 12.566370614359172\n",
      "Circle Circumference: 12.566370614359172\n"
     ]
    }
   ],
   "source": [
    "import math\n",
    "\n",
    "# Input the length and breadth of the rectangle from the keyboard\n",
    "length = float(input(\"Enter the length of the rectangle: \"))\n",
    "breadth = float(input(\"Enter the breadth of the rectangle: \"))\n",
    "\n",
    "# Input the radius of the circle from the keyboard\n",
    "radius = float(input(\"Enter the radius of the circle: \"))\n",
    "\n",
    "# Calculate the area and perimeter of the rectangle\n",
    "rectangle_area = length * breadth\n",
    "rectangle_perimeter = 2 * (length + breadth)\n",
    "\n",
    "# Calculate the area and circumference of the circle\n",
    "circle_area = math.pi * (radius ** 2)\n",
    "circle_circumference = 2 * math.pi * radius\n",
    "\n",
    "# Display the results\n",
    "print(\"Rectangle Area:\", rectangle_area)\n",
    "print(\"Rectangle Perimeter:\", rectangle_perimeter)\n",
    "print(\"Circle Area:\", circle_area)\n",
    "print(\"Circle Circumference:\", circle_circumference)\n"
   ]
  },
  {
   "cell_type": "markdown",
   "id": "b18ec491",
   "metadata": {},
   "source": [
    "### 6. Two numbers are input through the keyboard into two locations C and D. Write a program to interchange the contents of C and D.\n"
   ]
  },
  {
   "cell_type": "code",
   "execution_count": 13,
   "id": "9b57f160",
   "metadata": {},
   "outputs": [
    {
     "name": "stdout",
     "output_type": "stream",
     "text": [
      "Enter the value for C: 1\n",
      "Enter the value for D: 2\n",
      "After interchange:\n",
      "C: 2.0\n",
      "D: 1.0\n"
     ]
    }
   ],
   "source": [
    "# Input two numbers into variables C and D from the keyboard\n",
    "C = float(input(\"Enter the value for C: \"))\n",
    "D = float(input(\"Enter the value for D: \"))\n",
    "\n",
    "# Interchange the contents of C and D using a temporary variable\n",
    "temp = C\n",
    "C = D\n",
    "D = temp\n",
    "\n",
    "# Display the values of C and D after the interchange\n",
    "print(\"After interchange:\")\n",
    "print(\"C:\", C)\n",
    "print(\"D:\", D)\n"
   ]
  },
  {
   "cell_type": "markdown",
   "id": "ab397657",
   "metadata": {},
   "source": [
    "### 7. If a five-digit number is input through the keyboard, write a program to calculate the sum of its digits. ( Hint: Use the modulus operator '%'"
   ]
  },
  {
   "cell_type": "code",
   "execution_count": 15,
   "id": "e0d22834",
   "metadata": {},
   "outputs": [
    {
     "name": "stdout",
     "output_type": "stream",
     "text": [
      "Enter a five-digit number: 12345\n",
      "Sum of the digits: 15\n"
     ]
    }
   ],
   "source": [
    "# Input a five-digit number from the keyboard\n",
    "number = int(input(\"Enter a five-digit number: \"))\n",
    "\n",
    "# Check if the input number has exactly five digits\n",
    "if 10000 <= number <= 99999:\n",
    "    # Calculate the sum of the digits using the modulus operator\n",
    "    digit_1 = number // 10000\n",
    "    digit_2 = (number // 1000) % 10\n",
    "    digit_3 = (number // 100) % 10\n",
    "    digit_4 = (number // 10) % 10\n",
    "    digit_5 = number % 10\n",
    "\n",
    "    # Calculate the sum of the digits\n",
    "    digit_sum = digit_1 + digit_2 + digit_3 + digit_4 + digit_5\n",
    "\n",
    "    # Display the sum of the digits\n",
    "    print(\"Sum of the digits:\", digit_sum)\n",
    "else:\n",
    "    print(\"Please enter a valid five-digit number.\")\n"
   ]
  },
  {
   "cell_type": "markdown",
   "id": "f92d246c",
   "metadata": {},
   "source": [
    "### 8. If a five-digit number is input through the keyboard, write a program to reverse the number."
   ]
  },
  {
   "cell_type": "code",
   "execution_count": 2,
   "id": "7b4ce3ed",
   "metadata": {},
   "outputs": [
    {
     "name": "stdout",
     "output_type": "stream",
     "text": [
      "Enter a five-digit number: 12345\n",
      "Reversed number: 54321\n"
     ]
    }
   ],
   "source": [
    "# Input a five-digit number from the keyboard\n",
    "number = int(input(\"Enter a five-digit number: \"))\n",
    "\n",
    "# Check if the input number has exactly five digits\n",
    "if 10000 <= number <= 99999:\n",
    "    # Reverse the number by using string manipulation\n",
    "    reversed_number = int(str(number)[::-1])\n",
    "\n",
    "    # Display the reversed number\n",
    "    print(\"Reversed number:\", reversed_number)\n",
    "else:\n",
    "    print(\"Please enter a valid five-digit number.\")\n"
   ]
  },
  {
   "cell_type": "markdown",
   "id": "4905f778",
   "metadata": {},
   "source": [
    "### 9. If a four-digit number is input through the keyboard, write a program to obtain the sum of the first and last digit of this number"
   ]
  },
  {
   "cell_type": "code",
   "execution_count": 5,
   "id": "ec971676",
   "metadata": {},
   "outputs": [
    {
     "name": "stdout",
     "output_type": "stream",
     "text": [
      "Enter a four digit number:1234\n",
      "The sum of the first and last digit number 5\n"
     ]
    }
   ],
   "source": [
    "number = int(input(\"Enter a four digit number:\"))\n",
    "\n",
    "if 1000 <= number <= 9999:\n",
    "    \n",
    "    digit_1 = number // 1000\n",
    "    digit_4 = number % 10\n",
    "    \n",
    "    digit_sum = digit_1 + digit_4\n",
    "    \n",
    "    print(\"The sum of the first and last digit number\",digit_sum)\n",
    "    \n",
    "else:\n",
    "    \n",
    "    print(\"Enter a valid four digit number\")\n",
    "    \n",
    "    \n",
    "    "
   ]
  },
  {
   "cell_type": "markdown",
   "id": "6068957d",
   "metadata": {},
   "source": [
    "### 10. In a town, the percentage of men is 52. The percentage of total literacy is 48. If total percentage of literate men is 35 of the total population, write a program to find the total number of illiterate men and women if the population of the town is 80,000"
   ]
  },
  {
   "cell_type": "code",
   "execution_count": 30,
   "id": "31f74a06",
   "metadata": {},
   "outputs": [
    {
     "name": "stdout",
     "output_type": "stream",
     "text": [
      "Total Illiterate Men: 13600.0\n",
      "Total Illiterate Women: 28000.0\n"
     ]
    }
   ],
   "source": [
    "# Total population of the town\n",
    "total_population = 80000\n",
    "\n",
    "# Percentage of men in the town\n",
    "percentage_men = 52\n",
    "\n",
    "# Percentage of total literacy in the town\n",
    "percentage_literacy = 48\n",
    "\n",
    "# Percentage of literate men in the town\n",
    "percentage_literate_men = 35\n",
    "\n",
    "# Calculate the number of men in the town\n",
    "total_men = (percentage_men / 100) * total_population\n",
    "\n",
    "# Calculate the number of literate people in the town\n",
    "total_literate = (percentage_literacy / 100) * total_population\n",
    "\n",
    "# Calculate the number of literate men in the town\n",
    "total_literate_men = (percentage_literate_men / 100) * total_population\n",
    "\n",
    "# Calculate the number of women in the town\n",
    "total_women = total_population - total_men\n",
    "\n",
    "# Calculate the number of literate women in the town\n",
    "total_literate_women = total_literate - total_literate_men\n",
    "\n",
    "# Calculate the number of illiterate men and women\n",
    "total_illiterate_men = total_men - total_literate_men\n",
    "total_illiterate_women = total_women - total_literate_women\n",
    "\n",
    "# Display the results\n",
    "print(\"Total Illiterate Men:\", total_illiterate_men)\n",
    "print(\"Total Illiterate Women:\", total_illiterate_women)\n"
   ]
  },
  {
   "cell_type": "markdown",
   "id": "e49cd0b3",
   "metadata": {},
   "source": [
    "### 11. A cashier has currency notes of denominations 10, 50 and 100. If the amount to be withdrawn is input through the keyboard in hundreds, find the total number of currency notes of each denomination the cashier will have to give to the withdrawer."
   ]
  },
  {
   "cell_type": "code",
   "execution_count": 13,
   "id": "b08a0e3c",
   "metadata": {},
   "outputs": [
    {
     "name": "stdout",
     "output_type": "stream",
     "text": [
      "Enter the amount to be withdrawn in hundreds: 450\n",
      "Number of 100s:  0\n",
      "Number of 50s:  0\n",
      "Number of 10s:  45\n"
     ]
    }
   ],
   "source": [
    "# Input the amount to be withdrawn in hundreds\n",
    "withdraw_amount = int(input(\"Enter the amount to be withdrawn in hundreds: \"))\n",
    "\n",
    "# Calculate the number of 100s, 50s, and 10s\n",
    "num_100s = withdraw_amount\n",
    "num_50s = 0\n",
    "num_10s = 0\n",
    "\n",
    "# Adjust the number of notes based on the remaining amount\n",
    "if num_100s >= 5:\n",
    "    num_50s = num_100s // 2\n",
    "    num_100s %= 2\n",
    "\n",
    "if num_50s >= 5:\n",
    "    num_10s = num_50s // 5\n",
    "    num_50s %= 5\n",
    "\n",
    "# Print the results\n",
    "print(\"Number of 100s: \", num_100s)\n",
    "print(\"Number of 50s: \", num_50s)\n",
    "print(\"Number of 10s: \", num_10s)\n"
   ]
  },
  {
   "cell_type": "markdown",
   "id": "865ba7dc",
   "metadata": {},
   "source": [
    "### 12. If the total selling price of 15 items and the total profit earned on them is input through the keyboard, write a program to find the cost price of one item."
   ]
  },
  {
   "cell_type": "code",
   "execution_count": 14,
   "id": "cc702a1f",
   "metadata": {},
   "outputs": [
    {
     "name": "stdout",
     "output_type": "stream",
     "text": [
      "Enter the total selling price of 15 items: 1500\n",
      "Enter the total profit earned on the 15 items: 20\n",
      "Cost price per item:  98.66666666666667\n"
     ]
    }
   ],
   "source": [
    "# Input the total selling price and total profit\n",
    "total_selling_price = float(input(\"Enter the total selling price of 15 items: \"))\n",
    "total_profit = float(input(\"Enter the total profit earned on the 15 items: \"))\n",
    "\n",
    "# Number of items\n",
    "num_items = 15\n",
    "\n",
    "# Calculate the cost price per item\n",
    "cost_price_per_item = (total_selling_price - total_profit) / num_items\n",
    "\n",
    "# Print the cost price per item\n",
    "print(\"Cost price per item: \", cost_price_per_item)\n"
   ]
  },
  {
   "cell_type": "markdown",
   "id": "900bc89a",
   "metadata": {},
   "source": [
    "### 13. If a five-digit number is input through the keyboard, write a program to print a new number by adding one to each of its digits. For example, if the number that is input is 12391 then the output should be displayed as 23402."
   ]
  },
  {
   "cell_type": "code",
   "execution_count": 6,
   "id": "65c1d920",
   "metadata": {},
   "outputs": [
    {
     "name": "stdout",
     "output_type": "stream",
     "text": [
      "Enter a five-digit number: 12345\n",
      "New number with one added to each digit: 23456\n"
     ]
    }
   ],
   "source": [
    "# Input a five-digit number\n",
    "number = input(\"Enter a five-digit number: \")\n",
    "\n",
    "# Check if the input has exactly 5 digits\n",
    "if len(number) != 5:\n",
    "    print(\"Please enter a five-digit number.\")\n",
    "else:\n",
    "    new_number = \"\"\n",
    "    for digit in number:\n",
    "        # Add one to each digit, and wrap around if it becomes 10\n",
    "        new_digit = str((int(digit) + 1) % 10)\n",
    "        new_number += new_digit\n",
    "\n",
    "    # Print the new number\n",
    "    print(\"New number with one added to each digit:\", new_number)\n"
   ]
  },
  {
   "cell_type": "code",
   "execution_count": null,
   "id": "bfab549c",
   "metadata": {},
   "outputs": [],
   "source": []
  }
 ],
 "metadata": {
  "kernelspec": {
   "display_name": "Python 3 (ipykernel)",
   "language": "python",
   "name": "python3"
  },
  "language_info": {
   "codemirror_mode": {
    "name": "ipython",
    "version": 3
   },
   "file_extension": ".py",
   "mimetype": "text/x-python",
   "name": "python",
   "nbconvert_exporter": "python",
   "pygments_lexer": "ipython3",
   "version": "3.11.4"
  }
 },
 "nbformat": 4,
 "nbformat_minor": 5
}
